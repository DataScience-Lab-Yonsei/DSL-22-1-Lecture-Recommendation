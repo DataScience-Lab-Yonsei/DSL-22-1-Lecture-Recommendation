{
  "cells": [
    {
      "cell_type": "code",
      "execution_count": null,
      "metadata": {
        "id": "wg14G5-ve-TG"
      },
      "outputs": [],
      "source": [
        "import numpy as np\n",
        "import pandas as pd"
      ]
    },
    {
      "cell_type": "code",
      "execution_count": null,
      "metadata": {
        "id": "4tqlsA4Fe-TM"
      },
      "outputs": [],
      "source": [
        "full = pd.read_csv('reviews_label.csv')"
      ]
    },
    {
      "cell_type": "code",
      "execution_count": null,
      "metadata": {
        "id": "ok1I3GPNe-TN",
        "outputId": "0dd67e0e-f86c-42dc-ec02-e08b612339cc"
      },
      "outputs": [
        {
          "data": {
            "text/html": [
              "<div>\n",
              "<style scoped>\n",
              "    .dataframe tbody tr th:only-of-type {\n",
              "        vertical-align: middle;\n",
              "    }\n",
              "\n",
              "    .dataframe tbody tr th {\n",
              "        vertical-align: top;\n",
              "    }\n",
              "\n",
              "    .dataframe thead th {\n",
              "        text-align: right;\n",
              "    }\n",
              "</style>\n",
              "<table border=\"1\" class=\"dataframe\">\n",
              "  <thead>\n",
              "    <tr style=\"text-align: right;\">\n",
              "      <th></th>\n",
              "      <th>Unnamed: 0</th>\n",
              "      <th>학정번호</th>\n",
              "      <th>강의명</th>\n",
              "      <th>교수명</th>\n",
              "      <th>유의사항</th>\n",
              "      <th>별점</th>\n",
              "      <th>수강시기</th>\n",
              "      <th>강의평</th>\n",
              "      <th>강의명/교수명</th>\n",
              "      <th>성적</th>\n",
              "      <th>로드</th>\n",
              "      <th>강의력</th>\n",
              "      <th>교수님성향</th>\n",
              "      <th>강의자료질</th>\n",
              "      <th>족보여부</th>\n",
              "    </tr>\n",
              "  </thead>\n",
              "  <tbody>\n",
              "    <tr>\n",
              "      <th>0</th>\n",
              "      <td>15</td>\n",
              "      <td>YCC1002-01-00</td>\n",
              "      <td>대학기본영어Ⅱ</td>\n",
              "      <td>오진숙</td>\n",
              "      <td>대면강의, 절대평가</td>\n",
              "      <td>5.0</td>\n",
              "      <td>17년 2학기</td>\n",
              "      <td>어렵지 않은 내용으로 탄탄한 기본기를 다져주는 유익한 수업</td>\n",
              "      <td>대학기본영어Ⅱ/오진숙</td>\n",
              "      <td>-1.0</td>\n",
              "      <td>-1.0</td>\n",
              "      <td>0.5</td>\n",
              "      <td>-1.0</td>\n",
              "      <td>-1.0</td>\n",
              "      <td>-1.0</td>\n",
              "    </tr>\n",
              "    <tr>\n",
              "      <th>1</th>\n",
              "      <td>16</td>\n",
              "      <td>YCC1002-01-00</td>\n",
              "      <td>대학기본영어Ⅱ</td>\n",
              "      <td>오진숙</td>\n",
              "      <td>대면강의, 절대평가</td>\n",
              "      <td>5.0</td>\n",
              "      <td>19년 2학기</td>\n",
              "      <td>교수님 너무 귀여우심... 사랑해요\\n자잘한 과제들 귀찮긴 했지만 시간투자 그렇게 ...</td>\n",
              "      <td>대학기본영어Ⅱ/오진숙</td>\n",
              "      <td>-1.0</td>\n",
              "      <td>0.5</td>\n",
              "      <td>0.5</td>\n",
              "      <td>1.0</td>\n",
              "      <td>-1.0</td>\n",
              "      <td>-1.0</td>\n",
              "    </tr>\n",
              "    <tr>\n",
              "      <th>2</th>\n",
              "      <td>17</td>\n",
              "      <td>YCC1002-01-00</td>\n",
              "      <td>대학기본영어Ⅱ</td>\n",
              "      <td>오진숙</td>\n",
              "      <td>대면강의, 절대평가</td>\n",
              "      <td>5.0</td>\n",
              "      <td>19년 2학기</td>\n",
              "      <td>완전 좋음 2학기 때 내가 살아있던 이유.. 기말 때 갑자기 시험을 세번 본 거는 ...</td>\n",
              "      <td>대학기본영어Ⅱ/오진숙</td>\n",
              "      <td>1.0</td>\n",
              "      <td>0.5</td>\n",
              "      <td>0.5</td>\n",
              "      <td>1.0</td>\n",
              "      <td>-1.0</td>\n",
              "      <td>-1.0</td>\n",
              "    </tr>\n",
              "    <tr>\n",
              "      <th>3</th>\n",
              "      <td>18</td>\n",
              "      <td>YCC1002-01-00</td>\n",
              "      <td>대학기본영어Ⅱ</td>\n",
              "      <td>오진숙</td>\n",
              "      <td>대면강의, 절대평가</td>\n",
              "      <td>4.0</td>\n",
              "      <td>19년 2학기</td>\n",
              "      <td>영어 말하는 데에 자신감을 얻고 싶으면 추천 다만 과제는 자잘한게 많고 필자는 1학...</td>\n",
              "      <td>대학기본영어Ⅱ/오진숙</td>\n",
              "      <td>1.0</td>\n",
              "      <td>0.5</td>\n",
              "      <td>0.5</td>\n",
              "      <td>1.0</td>\n",
              "      <td>-1.0</td>\n",
              "      <td>-1.0</td>\n",
              "    </tr>\n",
              "    <tr>\n",
              "      <th>4</th>\n",
              "      <td>19</td>\n",
              "      <td>YCC1002-01-00</td>\n",
              "      <td>대학기본영어Ⅱ</td>\n",
              "      <td>오진숙</td>\n",
              "      <td>대면강의, 절대평가</td>\n",
              "      <td>5.0</td>\n",
              "      <td>16년 2학기</td>\n",
              "      <td>수강당시에는 조모임 비율도 높았고 발음 중시하시는건 왜 그러시는지 잘 이해가지 않지...</td>\n",
              "      <td>대학기본영어Ⅱ/오진숙</td>\n",
              "      <td>1.0</td>\n",
              "      <td>0.5</td>\n",
              "      <td>0.5</td>\n",
              "      <td>1.0</td>\n",
              "      <td>-1.0</td>\n",
              "      <td>-1.0</td>\n",
              "    </tr>\n",
              "  </tbody>\n",
              "</table>\n",
              "</div>"
            ],
            "text/plain": [
              "   Unnamed: 0           학정번호      강의명  교수명        유의사항   별점     수강시기  \\\n",
              "0          15  YCC1002-01-00  대학기본영어Ⅱ  오진숙  대면강의, 절대평가  5.0  17년 2학기   \n",
              "1          16  YCC1002-01-00  대학기본영어Ⅱ  오진숙  대면강의, 절대평가  5.0  19년 2학기   \n",
              "2          17  YCC1002-01-00  대학기본영어Ⅱ  오진숙  대면강의, 절대평가  5.0  19년 2학기   \n",
              "3          18  YCC1002-01-00  대학기본영어Ⅱ  오진숙  대면강의, 절대평가  4.0  19년 2학기   \n",
              "4          19  YCC1002-01-00  대학기본영어Ⅱ  오진숙  대면강의, 절대평가  5.0  16년 2학기   \n",
              "\n",
              "                                                 강의평      강의명/교수명   성적   로드  \\\n",
              "0                   어렵지 않은 내용으로 탄탄한 기본기를 다져주는 유익한 수업  대학기본영어Ⅱ/오진숙 -1.0 -1.0   \n",
              "1  교수님 너무 귀여우심... 사랑해요\\n자잘한 과제들 귀찮긴 했지만 시간투자 그렇게 ...  대학기본영어Ⅱ/오진숙 -1.0  0.5   \n",
              "2  완전 좋음 2학기 때 내가 살아있던 이유.. 기말 때 갑자기 시험을 세번 본 거는 ...  대학기본영어Ⅱ/오진숙  1.0  0.5   \n",
              "3  영어 말하는 데에 자신감을 얻고 싶으면 추천 다만 과제는 자잘한게 많고 필자는 1학...  대학기본영어Ⅱ/오진숙  1.0  0.5   \n",
              "4  수강당시에는 조모임 비율도 높았고 발음 중시하시는건 왜 그러시는지 잘 이해가지 않지...  대학기본영어Ⅱ/오진숙  1.0  0.5   \n",
              "\n",
              "   강의력  교수님성향  강의자료질  족보여부  \n",
              "0  0.5   -1.0   -1.0  -1.0  \n",
              "1  0.5    1.0   -1.0  -1.0  \n",
              "2  0.5    1.0   -1.0  -1.0  \n",
              "3  0.5    1.0   -1.0  -1.0  \n",
              "4  0.5    1.0   -1.0  -1.0  "
            ]
          },
          "execution_count": 3,
          "metadata": {},
          "output_type": "execute_result"
        }
      ],
      "source": [
        "full.head()"
      ]
    },
    {
      "cell_type": "code",
      "execution_count": null,
      "metadata": {
        "id": "7HCUIzWOe-TP"
      },
      "outputs": [],
      "source": [
        "#반드시 설치!\n",
        "import re\n",
        "#!pip install konlpy\n",
        "import konlpy"
      ]
    },
    {
      "cell_type": "code",
      "execution_count": null,
      "metadata": {
        "id": "0dmj5ckFe-TS"
      },
      "outputs": [],
      "source": [
        "import pandas as pd\n",
        "import matplotlib.pyplot as plt\n",
        "import urllib.request\n",
        "from gensim.models.word2vec import Word2Vec\n",
        "from konlpy.tag import Okt"
      ]
    },
    {
      "cell_type": "code",
      "execution_count": null,
      "metadata": {
        "id": "WtMa2GMxe-TV",
        "outputId": "0db8f57b-c651-473f-af14-834f088c4c4f"
      },
      "outputs": [
        {
          "name": "stdout",
          "output_type": "stream",
          "text": [
            "27142\n"
          ]
        }
      ],
      "source": [
        "print(len(full))"
      ]
    },
    {
      "cell_type": "code",
      "execution_count": null,
      "metadata": {
        "id": "lEhELW1Me-TW"
      },
      "outputs": [],
      "source": [
        "full['강의평'] = full['강의평'].str.replace(\"[^ㄱ-ㅎㅏ-ㅣ가-힣 ]\",\"\")"
      ]
    },
    {
      "cell_type": "code",
      "execution_count": null,
      "metadata": {
        "id": "xgWn0hXce-TX",
        "outputId": "20647ddf-49fe-446c-f1b9-2eafdb51bd70"
      },
      "outputs": [
        {
          "data": {
            "text/html": [
              "<div>\n",
              "<style scoped>\n",
              "    .dataframe tbody tr th:only-of-type {\n",
              "        vertical-align: middle;\n",
              "    }\n",
              "\n",
              "    .dataframe tbody tr th {\n",
              "        vertical-align: top;\n",
              "    }\n",
              "\n",
              "    .dataframe thead th {\n",
              "        text-align: right;\n",
              "    }\n",
              "</style>\n",
              "<table border=\"1\" class=\"dataframe\">\n",
              "  <thead>\n",
              "    <tr style=\"text-align: right;\">\n",
              "      <th></th>\n",
              "      <th>Unnamed: 0</th>\n",
              "      <th>학정번호</th>\n",
              "      <th>강의명</th>\n",
              "      <th>교수명</th>\n",
              "      <th>유의사항</th>\n",
              "      <th>별점</th>\n",
              "      <th>수강시기</th>\n",
              "      <th>강의평</th>\n",
              "      <th>강의명/교수명</th>\n",
              "      <th>성적</th>\n",
              "      <th>로드</th>\n",
              "      <th>강의력</th>\n",
              "      <th>교수님성향</th>\n",
              "      <th>강의자료질</th>\n",
              "      <th>족보여부</th>\n",
              "    </tr>\n",
              "  </thead>\n",
              "  <tbody>\n",
              "    <tr>\n",
              "      <th>0</th>\n",
              "      <td>15</td>\n",
              "      <td>YCC1002-01-00</td>\n",
              "      <td>대학기본영어Ⅱ</td>\n",
              "      <td>오진숙</td>\n",
              "      <td>대면강의, 절대평가</td>\n",
              "      <td>5.0</td>\n",
              "      <td>17년 2학기</td>\n",
              "      <td>어렵지 않은 내용으로 탄탄한 기본기를 다져주는 유익한 수업</td>\n",
              "      <td>대학기본영어Ⅱ/오진숙</td>\n",
              "      <td>-1.0</td>\n",
              "      <td>-1.0</td>\n",
              "      <td>0.5</td>\n",
              "      <td>-1.0</td>\n",
              "      <td>-1.0</td>\n",
              "      <td>-1.0</td>\n",
              "    </tr>\n",
              "    <tr>\n",
              "      <th>1</th>\n",
              "      <td>16</td>\n",
              "      <td>YCC1002-01-00</td>\n",
              "      <td>대학기본영어Ⅱ</td>\n",
              "      <td>오진숙</td>\n",
              "      <td>대면강의, 절대평가</td>\n",
              "      <td>5.0</td>\n",
              "      <td>19년 2학기</td>\n",
              "      <td>교수님 너무 귀여우심 사랑해요자잘한 과제들 귀찮긴 했지만 시간투자 그렇게 오래 걸리...</td>\n",
              "      <td>대학기본영어Ⅱ/오진숙</td>\n",
              "      <td>-1.0</td>\n",
              "      <td>0.5</td>\n",
              "      <td>0.5</td>\n",
              "      <td>1.0</td>\n",
              "      <td>-1.0</td>\n",
              "      <td>-1.0</td>\n",
              "    </tr>\n",
              "    <tr>\n",
              "      <th>2</th>\n",
              "      <td>17</td>\n",
              "      <td>YCC1002-01-00</td>\n",
              "      <td>대학기본영어Ⅱ</td>\n",
              "      <td>오진숙</td>\n",
              "      <td>대면강의, 절대평가</td>\n",
              "      <td>5.0</td>\n",
              "      <td>19년 2학기</td>\n",
              "      <td>완전 좋음 학기 때 내가 살아있던 이유 기말 때 갑자기 시험을 세번 본 거는 당황스...</td>\n",
              "      <td>대학기본영어Ⅱ/오진숙</td>\n",
              "      <td>1.0</td>\n",
              "      <td>0.5</td>\n",
              "      <td>0.5</td>\n",
              "      <td>1.0</td>\n",
              "      <td>-1.0</td>\n",
              "      <td>-1.0</td>\n",
              "    </tr>\n",
              "    <tr>\n",
              "      <th>3</th>\n",
              "      <td>18</td>\n",
              "      <td>YCC1002-01-00</td>\n",
              "      <td>대학기본영어Ⅱ</td>\n",
              "      <td>오진숙</td>\n",
              "      <td>대면강의, 절대평가</td>\n",
              "      <td>4.0</td>\n",
              "      <td>19년 2학기</td>\n",
              "      <td>영어 말하는 데에 자신감을 얻고 싶으면 추천 다만 과제는 자잘한게 많고 필자는 학기...</td>\n",
              "      <td>대학기본영어Ⅱ/오진숙</td>\n",
              "      <td>1.0</td>\n",
              "      <td>0.5</td>\n",
              "      <td>0.5</td>\n",
              "      <td>1.0</td>\n",
              "      <td>-1.0</td>\n",
              "      <td>-1.0</td>\n",
              "    </tr>\n",
              "    <tr>\n",
              "      <th>4</th>\n",
              "      <td>19</td>\n",
              "      <td>YCC1002-01-00</td>\n",
              "      <td>대학기본영어Ⅱ</td>\n",
              "      <td>오진숙</td>\n",
              "      <td>대면강의, 절대평가</td>\n",
              "      <td>5.0</td>\n",
              "      <td>16년 2학기</td>\n",
              "      <td>수강당시에는 조모임 비율도 높았고 발음 중시하시는건 왜 그러시는지 잘 이해가지 않지...</td>\n",
              "      <td>대학기본영어Ⅱ/오진숙</td>\n",
              "      <td>1.0</td>\n",
              "      <td>0.5</td>\n",
              "      <td>0.5</td>\n",
              "      <td>1.0</td>\n",
              "      <td>-1.0</td>\n",
              "      <td>-1.0</td>\n",
              "    </tr>\n",
              "  </tbody>\n",
              "</table>\n",
              "</div>"
            ],
            "text/plain": [
              "   Unnamed: 0           학정번호      강의명  교수명        유의사항   별점     수강시기  \\\n",
              "0          15  YCC1002-01-00  대학기본영어Ⅱ  오진숙  대면강의, 절대평가  5.0  17년 2학기   \n",
              "1          16  YCC1002-01-00  대학기본영어Ⅱ  오진숙  대면강의, 절대평가  5.0  19년 2학기   \n",
              "2          17  YCC1002-01-00  대학기본영어Ⅱ  오진숙  대면강의, 절대평가  5.0  19년 2학기   \n",
              "3          18  YCC1002-01-00  대학기본영어Ⅱ  오진숙  대면강의, 절대평가  4.0  19년 2학기   \n",
              "4          19  YCC1002-01-00  대학기본영어Ⅱ  오진숙  대면강의, 절대평가  5.0  16년 2학기   \n",
              "\n",
              "                                                 강의평      강의명/교수명   성적   로드  \\\n",
              "0                   어렵지 않은 내용으로 탄탄한 기본기를 다져주는 유익한 수업  대학기본영어Ⅱ/오진숙 -1.0 -1.0   \n",
              "1  교수님 너무 귀여우심 사랑해요자잘한 과제들 귀찮긴 했지만 시간투자 그렇게 오래 걸리...  대학기본영어Ⅱ/오진숙 -1.0  0.5   \n",
              "2  완전 좋음 학기 때 내가 살아있던 이유 기말 때 갑자기 시험을 세번 본 거는 당황스...  대학기본영어Ⅱ/오진숙  1.0  0.5   \n",
              "3  영어 말하는 데에 자신감을 얻고 싶으면 추천 다만 과제는 자잘한게 많고 필자는 학기...  대학기본영어Ⅱ/오진숙  1.0  0.5   \n",
              "4  수강당시에는 조모임 비율도 높았고 발음 중시하시는건 왜 그러시는지 잘 이해가지 않지...  대학기본영어Ⅱ/오진숙  1.0  0.5   \n",
              "\n",
              "   강의력  교수님성향  강의자료질  족보여부  \n",
              "0  0.5   -1.0   -1.0  -1.0  \n",
              "1  0.5    1.0   -1.0  -1.0  \n",
              "2  0.5    1.0   -1.0  -1.0  \n",
              "3  0.5    1.0   -1.0  -1.0  \n",
              "4  0.5    1.0   -1.0  -1.0  "
            ]
          },
          "execution_count": 10,
          "metadata": {},
          "output_type": "execute_result"
        }
      ],
      "source": [
        "full[:5]"
      ]
    },
    {
      "cell_type": "code",
      "execution_count": null,
      "metadata": {
        "id": "sQf00lrse-TY"
      },
      "outputs": [],
      "source": [
        ""
      ]
    },
    {
      "cell_type": "code",
      "execution_count": null,
      "metadata": {
        "id": "YLn8Ejg5e-TZ"
      },
      "outputs": [],
      "source": [
        "# 불용어 정의\n",
        "stopwords = ['의','가','이','은','들','는','좀','잘','걍','과','도','를','으로','자','에','와','한','하다']\n",
        "\n",
        "# 형태소 분석기 OKT를 사용한 토큰화 작업 (다소 시간 소요)\n",
        "okt = Okt()\n",
        "\n",
        "tokenized_data = []\n",
        "for sentence in full['강의평']:\n",
        "    tokenized_sentence = okt.morphs(sentence, stem=True) # 토큰화\n",
        "    stopwords_removed_sentence = [word for word in tokenized_sentence if not word in stopwords] # 불용어 제거\n",
        "    tokenized_data.append(stopwords_removed_sentence)"
      ]
    },
    {
      "cell_type": "code",
      "execution_count": null,
      "metadata": {
        "id": "EEbqXkHfe-Ta",
        "outputId": "34dc1714-cbb5-4049-cff8-add2e9ad8f91"
      },
      "outputs": [
        {
          "name": "stdout",
          "output_type": "stream",
          "text": [
            "리뷰의 최대 길이 : 1607\n",
            "리뷰의 평균 길이 : 50.27595608282367\n"
          ]
        },
        {
          "data": {
            "image/png": "[encoded data removed]",
            "text/plain": [
              "<Figure size 432x288 with 1 Axes>"
            ]
          },
          "metadata": {
            "needs_background": "light"
          },
          "output_type": "display_data"
        }
      ],
      "source": [
        "# 리뷰 길이 분포 확인\n",
        "print('리뷰의 최대 길이 :',max(len(review) for review in tokenized_data))\n",
        "print('리뷰의 평균 길이 :',sum(map(len, tokenized_data))/len(tokenized_data))\n",
        "plt.hist([len(review) for review in tokenized_data], bins=50)\n",
        "plt.xlabel('length of samples')\n",
        "plt.ylabel('number of samples')\n",
        "plt.show()"
      ]
    },
    {
      "cell_type": "code",
      "execution_count": null,
      "metadata": {
        "id": "R001odYne-Tb",
        "outputId": "8b1d4e77-2515-4c53-b81e-9761d2e897c1"
      },
      "outputs": [
        {
          "name": "stderr",
          "output_type": "stream",
          "text": [
            "IOPub data rate exceeded.\n",
            "The notebook server will temporarily stop sending output\n",
            "to the client in order to avoid crashing it.\n",
            "To change this limit, set the config variable\n",
            "`--NotebookApp.iopub_data_rate_limit`.\n",
            "\n",
            "Current values:\n",
            "NotebookApp.iopub_data_rate_limit=1000000.0 (bytes/sec)\n",
            "NotebookApp.rate_limit_window=3.0 (secs)\n",
            "\n"
          ]
        }
      ],
      "source": [
        "print(tokenized_data)"
      ]
    },
    {
      "cell_type": "code",
      "execution_count": null,
      "metadata": {
        "id": "uVNufWRje-Tf",
        "outputId": "068b7e0c-73ca-48ba-8273-7fa9ddb86ad0"
      },
      "outputs": [
        {
          "name": "stderr",
          "output_type": "stream",
          "text": [
            "<ipython-input-13-77646c1172a8>:6: SettingWithCopyWarning: \n",
            "A value is trying to be set on a copy of a slice from a DataFrame\n",
            "\n",
            "See the caveats in the documentation: https://pandas.pydata.org/pandas-docs/stable/user_guide/indexing.html#returning-a-view-versus-a-copy\n",
            "  full['토큰'][i] = [word for word in tokenized_sentence if not word in stopwords] # 불용어 제거\n"
          ]
        }
      ],
      "source": [
        "#얘는 왜 안되는거?\n",
        "full[\"토큰\"] = \"\"\n",
        "for i in range(len(full)):\n",
        "    try:\n",
        "        tokenized_sentence = okt.morphs(full['강의평'][i], stem=True) # 토큰화\n",
        "        full['토큰'][i] = [word for word in tokenized_sentence if not word in stopwords] # 불용어 제거\n",
        "    except:\n",
        "        pass"
      ]
    },
    {
      "cell_type": "code",
      "execution_count": null,
      "metadata": {
        "id": "77xb-YEje-Tg"
      },
      "outputs": [],
      "source": [
        "from nltk import FreqDist\n",
        "import numpy as np"
      ]
    },
    {
      "cell_type": "code",
      "execution_count": null,
      "metadata": {
        "id": "aeVUBDaoe-Tg"
      },
      "outputs": [],
      "source": [
        "# np.hstack으로 문장 구분을 제거\n",
        "vocab = FreqDist(np.hstack(tokenized_data))"
      ]
    },
    {
      "cell_type": "code",
      "execution_count": null,
      "metadata": {
        "id": "4f-5iV2Ue-Th",
        "outputId": "42aec794-7d81-441c-9056-c162d53dd2cc"
      },
      "outputs": [
        {
          "name": "stdout",
          "output_type": "stream",
          "text": [
            "21676\n"
          ]
        }
      ],
      "source": [
        "print(vocab[\"교수\"]) # 'barber'라는 단어의 빈도수 출력"
      ]
    },
    {
      "cell_type": "code",
      "execution_count": null,
      "metadata": {
        "id": "RQlEBqP8e-Ti"
      },
      "outputs": [],
      "source": [
        "vocab_size = 20000\n",
        "vocab = vocab.most_common(vocab_size)"
      ]
    },
    {
      "cell_type": "code",
      "execution_count": null,
      "metadata": {
        "id": "WncoS51Te-Ti"
      },
      "outputs": [],
      "source": [
        "word_to_index = {word[0] : index + 1 for index, word in enumerate(vocab)}"
      ]
    },
    {
      "cell_type": "code",
      "execution_count": null,
      "metadata": {
        "id": "-CNLihp7e-Tj"
      },
      "outputs": [],
      "source": [
        "from tensorflow.keras.preprocessing.text import Tokenizer"
      ]
    },
    {
      "cell_type": "code",
      "execution_count": null,
      "metadata": {
        "id": "n8ute1oCe-Tj"
      },
      "outputs": [],
      "source": [
        "tokenizer = Tokenizer()\n",
        "\n",
        "# fit_on_texts()안에 코퍼스를 입력으로 하면 빈도수를 기준으로 단어 집합을 생성.\n",
        "tokenizer.fit_on_texts(tokenized_data)"
      ]
    },
    {
      "cell_type": "code",
      "execution_count": null,
      "metadata": {
        "id": "i48oQSvUe-Tk",
        "outputId": "2805fe97-ca4f-47d4-b3f2-d909ea2ea92a"
      },
      "outputs": [
        {
          "name": "stderr",
          "output_type": "stream",
          "text": [
            "<ipython-input-21-f3e508be58da>:4: SettingWithCopyWarning: \n",
            "A value is trying to be set on a copy of a slice from a DataFrame\n",
            "\n",
            "See the caveats in the documentation: https://pandas.pydata.org/pandas-docs/stable/user_guide/indexing.html#returning-a-view-versus-a-copy\n",
            "  full['벡터'][i] = tokenizer.texts_to_sequences(full['토큰'][i])\n"
          ]
        }
      ],
      "source": [
        "full['벡터']=\"\"\n",
        "for i in range(len(full)):\n",
        "    try:\n",
        "        full['벡터'][i] = tokenizer.texts_to_sequences(full['토큰'][i])\n",
        "    except:\n",
        "        pass"
      ]
    },
    {
      "cell_type": "code",
      "execution_count": null,
      "metadata": {
        "id": "jhFA3ylLe-Tl"
      },
      "outputs": [],
      "source": [
        "import pickle\n",
        "with open('tokenizer_final.pickle', 'wb') as handle:\n",
        "    pickle.dump(tokenizer, handle)"
      ]
    },
    {
      "cell_type": "code",
      "execution_count": null,
      "metadata": {
        "id": "DhN9ydbye-Tm",
        "outputId": "a0c0f1f1-a1ec-425f-c111-bf2198e50eca"
      },
      "outputs": [
        {
          "data": {
            "text/plain": [
              "[[67], [21], [31], [2036], [37], [3900], [3072], [333], [1]]"
            ]
          },
          "execution_count": 23,
          "metadata": {},
          "output_type": "execute_result"
        }
      ],
      "source": [
        "full['벡터'][0]"
      ]
    },
    {
      "cell_type": "code",
      "execution_count": null,
      "metadata": {
        "id": "Do54UkJze-Tm",
        "outputId": "d242487f-93a9-4481-e811-5e6bbf0234d7"
      },
      "outputs": [
        {
          "data": {
            "text/plain": [
              "['어렵다', '않다', '내용', '탄탄하다', '기', '본기', '다지다', '유익하다', '수업']"
            ]
          },
          "execution_count": 24,
          "metadata": {},
          "output_type": "execute_result"
        }
      ],
      "source": [
        "full['토큰'][0]"
      ]
    },
    {
      "cell_type": "code",
      "execution_count": null,
      "metadata": {
        "id": "kiKUKOvhe-Tn",
        "outputId": "1bddba78-fa6b-495e-aafd-aeac7d10edbb"
      },
      "outputs": [
        {
          "name": "stderr",
          "output_type": "stream",
          "text": [
            "<ipython-input-25-1c56d59f7754>:3: SettingWithCopyWarning: \n",
            "A value is trying to be set on a copy of a slice from a DataFrame\n",
            "\n",
            "See the caveats in the documentation: https://pandas.pydata.org/pandas-docs/stable/user_guide/indexing.html#returning-a-view-versus-a-copy\n",
            "  full['newvec'][i] = sum(full['벡터'][i],[])\n"
          ]
        }
      ],
      "source": [
        "full['newvec'] = ''\n",
        "for i in range(len(full)):\n",
        "    full['newvec'][i] = sum(full['벡터'][i],[])"
      ]
    },
    {
      "cell_type": "code",
      "execution_count": null,
      "metadata": {
        "id": "xaOnYknOe-Tn",
        "outputId": "c209d759-972b-4f4d-967c-7f6f8d9d88b1"
      },
      "outputs": [
        {
          "data": {
            "text/plain": [
              "[67, 21, 31, 2036, 37, 3900, 3072, 333, 1]"
            ]
          },
          "execution_count": 26,
          "metadata": {},
          "output_type": "execute_result"
        }
      ],
      "source": [
        "full['newvec'][0]"
      ]
    },
    {
      "cell_type": "code",
      "execution_count": null,
      "metadata": {
        "id": "FjOECNwGe-To"
      },
      "outputs": [],
      "source": [
        "full.to_csv('review_int.csv')"
      ]
    },
    {
      "cell_type": "code",
      "execution_count": null,
      "metadata": {
        "id": "PGDzX1_je-To"
      },
      "outputs": [],
      "source": [
        ""
      ]
    },
    {
      "cell_type": "code",
      "execution_count": null,
      "metadata": {
        "id": "R1IIY4gFe-To"
      },
      "outputs": [],
      "source": [
        ""
      ]
    },
    {
      "cell_type": "code",
      "execution_count": null,
      "metadata": {
        "id": "JrQrtavfe-Tp"
      },
      "outputs": [],
      "source": [
        ""
      ]
    },
    {
      "cell_type": "markdown",
      "metadata": {
        "id": "xvhGn6xce-Tp"
      },
      "source": [
        "성적 분류 CNN"
      ]
    },
    {
      "cell_type": "code",
      "execution_count": null,
      "metadata": {
        "id": "msE-epE0e-Tr"
      },
      "outputs": [],
      "source": [
        "import numpy as np\n",
        "import pandas as pd\n",
        "import matplotlib.pyplot as plt\n",
        "from sklearn.model_selection import train_test_split\n",
        "import re\n",
        "import tensorflow as tf\n",
        "from tensorflow.keras.preprocessing.sequence import pad_sequences\n",
        "from tensorflow.keras.models import Sequential\n",
        "from tensorflow.keras.layers import Embedding, Dropout, Conv1D, GlobalMaxPooling1D, Dense\n",
        "from tensorflow.keras.callbacks import EarlyStopping, ModelCheckpoint\n",
        "from tensorflow.keras.models import load_model"
      ]
    },
    {
      "cell_type": "code",
      "execution_count": null,
      "metadata": {
        "id": "XpZSEa8ce-Tr"
      },
      "outputs": [],
      "source": [
        "dataset = pd.read_csv('review_int.csv')"
      ]
    },
    {
      "cell_type": "code",
      "execution_count": null,
      "metadata": {
        "id": "GfZhus1Re-Ts",
        "outputId": "270f74c7-0a1c-42ab-a08d-763a572ba67c"
      },
      "outputs": [
        {
          "data": {
            "text/plain": [
              "Index(['Unnamed: 0', 'Unnamed: 0.1', '학정번호', '강의명', '교수명', '유의사항', '별점',\n",
              "       '수강시기', '강의평', '강의명/교수명', '성적', '로드', '강의력', '교수님성향', '강의자료질', '족보여부',\n",
              "       '토큰', '벡터', 'newvec'],\n",
              "      dtype='object')"
            ]
          },
          "execution_count": 3,
          "metadata": {},
          "output_type": "execute_result"
        }
      ],
      "source": [
        "dataset.columns"
      ]
    },
    {
      "cell_type": "code",
      "execution_count": null,
      "metadata": {
        "id": "q_kQdnWre-Tt",
        "outputId": "eb979c47-a7cb-434e-9a61-e006be89ceb1"
      },
      "outputs": [
        {
          "name": "stderr",
          "output_type": "stream",
          "text": [
            "<ipython-input-4-b878a9ff0e00>:2: SettingWithCopyWarning: \n",
            "A value is trying to be set on a copy of a slice from a DataFrame\n",
            "\n",
            "See the caveats in the documentation: https://pandas.pydata.org/pandas-docs/stable/user_guide/indexing.html#returning-a-view-versus-a-copy\n",
            "  dataset['newvec'][i] = dataset['newvec'][i].strip(\"[\"\"]\")\n",
            "<ipython-input-4-b878a9ff0e00>:3: SettingWithCopyWarning: \n",
            "A value is trying to be set on a copy of a slice from a DataFrame\n",
            "\n",
            "See the caveats in the documentation: https://pandas.pydata.org/pandas-docs/stable/user_guide/indexing.html#returning-a-view-versus-a-copy\n",
            "  dataset['newvec'][i]=re.sub(\",\",\"\",dataset['newvec'][i])\n",
            "<ipython-input-4-b878a9ff0e00>:4: SettingWithCopyWarning: \n",
            "A value is trying to be set on a copy of a slice from a DataFrame\n",
            "\n",
            "See the caveats in the documentation: https://pandas.pydata.org/pandas-docs/stable/user_guide/indexing.html#returning-a-view-versus-a-copy\n",
            "  dataset['newvec'][i]=dataset['newvec'][i].split()\n",
            "<ipython-input-4-b878a9ff0e00>:5: SettingWithCopyWarning: \n",
            "A value is trying to be set on a copy of a slice from a DataFrame\n",
            "\n",
            "See the caveats in the documentation: https://pandas.pydata.org/pandas-docs/stable/user_guide/indexing.html#returning-a-view-versus-a-copy\n",
            "  dataset['newvec'][i]=list(map(int,dataset['newvec'][i]))\n"
          ]
        }
      ],
      "source": [
        "for i in range(len(dataset)):\n",
        "    dataset['newvec'][i] = dataset['newvec'][i].strip(\"[\"\"]\")\n",
        "    dataset['newvec'][i]=re.sub(\",\",\"\",dataset['newvec'][i])\n",
        "    dataset['newvec'][i]=dataset['newvec'][i].split()\n",
        "    dataset['newvec'][i]=list(map(int,dataset['newvec'][i]))"
      ]
    },
    {
      "cell_type": "code",
      "execution_count": null,
      "metadata": {
        "id": "nzUxRc5Pe-Tt",
        "outputId": "d4f8fa39-9a43-4261-e4c5-ab47a05a3913"
      },
      "outputs": [
        {
          "name": "stdout",
          "output_type": "stream",
          "text": [
            "27142\n",
            "18672\n"
          ]
        }
      ],
      "source": [
        "data_full = dataset[['newvec','성적']]\n",
        "print(len(data_full))\n",
        "data_full = data_full[data_full['성적']!= -1]\n",
        "print(len(data_full))\n",
        "data = data_full['newvec']\n",
        "target = data_full['성적']"
      ]
    },
    {
      "cell_type": "code",
      "execution_count": null,
      "metadata": {
        "id": "lu0zDF7Ee-Tv"
      },
      "outputs": [],
      "source": [
        "target[target==0.5]=2"
      ]
    },
    {
      "cell_type": "code",
      "execution_count": null,
      "metadata": {
        "id": "srHOtBZve-Tv",
        "outputId": "7fc8080b-efd1-4d71-d9c2-4bca69a723a8"
      },
      "outputs": [
        {
          "data": {
            "text/plain": [
              "2    1.0\n",
              "3    1.0\n",
              "4    1.0\n",
              "5    1.0\n",
              "6    1.0\n",
              "Name: 성적, dtype: float64"
            ]
          },
          "execution_count": 7,
          "metadata": {},
          "output_type": "execute_result"
        }
      ],
      "source": [
        "target.head()"
      ]
    },
    {
      "cell_type": "code",
      "execution_count": null,
      "metadata": {
        "id": "5Kudj3RUe-Tw"
      },
      "outputs": [],
      "source": [
        "target = target.astype('int')"
      ]
    },
    {
      "cell_type": "code",
      "execution_count": null,
      "metadata": {
        "id": "ovnv-v96e-Tw"
      },
      "outputs": [],
      "source": [
        "# train_test_split\n",
        "X_train, X_test, y_train, y_test = train_test_split(data, target, test_size=0.25, shuffle=True, stratify=target, random_state=34)"
      ]
    },
    {
      "cell_type": "code",
      "execution_count": null,
      "metadata": {
        "id": "iF-Zfyjue-Tw",
        "outputId": "cd4bd68b-261a-40c7-e72f-47867f065ad2"
      },
      "outputs": [
        {
          "name": "stdout",
          "output_type": "stream",
          "text": [
            "훈련용 리뷰 개수 : 14004\n",
            "테스트용 리뷰 개수 : 4668\n",
            "카테고리 : 3\n"
          ]
        }
      ],
      "source": [
        "print('훈련용 리뷰 개수 : {}'.format(len(X_train)))\n",
        "print('테스트용 리뷰 개수 : {}'.format(len(X_test)))\n",
        "num_classes = len(set(y_train))\n",
        "print('카테고리 : {}'.format(num_classes))"
      ]
    },
    {
      "cell_type": "code",
      "execution_count": null,
      "metadata": {
        "scrolled": true,
        "id": "7FYApBu2e-Tx",
        "outputId": "3787c115-544c-4ff7-ceda-94b1b4846232"
      },
      "outputs": [
        {
          "data": {
            "text/plain": [
              "25289    [558, 1056, 486, 172, 389, 2, 15, 364, 169, 13...\n",
              "16568    [567, 172, 8, 25, 907, 467, 38, 6, 64, 144, 87...\n",
              "20203    [59, 4, 3, 16, 4, 3, 27, 446, 1, 35, 48, 17, 4...\n",
              "13839    [460, 1486, 16374, 3876, 710, 319, 263, 87, 12...\n",
              "4632     [40, 37, 22, 288, 7, 809, 150, 104, 178, 78, 2...\n",
              "                               ...                        \n",
              "25161    [641, 18917, 6644, 743, 1275, 338, 50, 19, 159...\n",
              "3747     [129, 42, 123, 598, 125, 105, 400, 1023, 706, ...\n",
              "8696     [4, 3, 6, 64, 180, 139, 558, 1098, 16, 2845, 5...\n",
              "5447     [30, 15, 31, 67, 21, 43, 684, 11, 30, 15, 7, 3...\n",
              "7926     [7, 410, 98, 4028, 17, 193, 502, 697, 14, 1819...\n",
              "Name: newvec, Length: 4668, dtype: object"
            ]
          },
          "execution_count": 11,
          "metadata": {},
          "output_type": "execute_result"
        }
      ],
      "source": [
        "X_test"
      ]
    },
    {
      "cell_type": "code",
      "execution_count": null,
      "metadata": {
        "id": "MwWysePAe-Tx",
        "outputId": "9814b454-e18a-46fc-ac50-a1757225b2ce"
      },
      "outputs": [
        {
          "data": {
            "text/plain": [
              "15063    1\n",
              "19127    1\n",
              "23045    2\n",
              "2872     1\n",
              "14442    1\n",
              "        ..\n",
              "9848     2\n",
              "16226    2\n",
              "3263     1\n",
              "23644    1\n",
              "7685     1\n",
              "Name: 성적, Length: 14004, dtype: int32"
            ]
          },
          "execution_count": 12,
          "metadata": {},
          "output_type": "execute_result"
        }
      ],
      "source": [
        "y_train"
      ]
    },
    {
      "cell_type": "code",
      "execution_count": null,
      "metadata": {
        "id": "w9ioKEFWe-Ty"
      },
      "outputs": [],
      "source": [
        "max_len = 200\n",
        "X_train = pad_sequences(X_train, maxlen=max_len)\n",
        "X_test = pad_sequences(X_test, maxlen=max_len)"
      ]
    },
    {
      "cell_type": "code",
      "execution_count": null,
      "metadata": {
        "id": "QBMSPVDIe-Ty",
        "outputId": "966fc46f-225a-4743-cde5-e430d9f1d816"
      },
      "outputs": [
        {
          "name": "stdout",
          "output_type": "stream",
          "text": [
            "X_train의 크기(shape) : (14004, 200)\n",
            "X_test의 크기(shape) : (4668, 200)\n"
          ]
        }
      ],
      "source": [
        "print('X_train의 크기(shape) :',X_train.shape)\n",
        "print('X_test의 크기(shape) :',X_test.shape)"
      ]
    },
    {
      "cell_type": "code",
      "execution_count": null,
      "metadata": {
        "id": "30Epkyiae-Tz",
        "outputId": "7293519b-6b83-4a29-d607-98b6340f5932"
      },
      "outputs": [
        {
          "name": "stdout",
          "output_type": "stream",
          "text": [
            "15063    1\n",
            "19127    1\n",
            "23045    2\n",
            "2872     1\n",
            "14442    1\n",
            "Name: 성적, dtype: int32\n"
          ]
        }
      ],
      "source": [
        "print(y_train[:5])"
      ]
    },
    {
      "cell_type": "code",
      "execution_count": null,
      "metadata": {
        "id": "mE7KiGeQe-Tz"
      },
      "outputs": [],
      "source": [
        "vocab_size = 20000"
      ]
    },
    {
      "cell_type": "code",
      "execution_count": null,
      "metadata": {
        "id": "R5hteFn-e-Tz",
        "outputId": "f3e494fd-a4fa-4033-af70-9619df6a9df6"
      },
      "outputs": [
        {
          "name": "stdout",
          "output_type": "stream",
          "text": [
            "Epoch 1/20\n",
            "438/438 [==============================] - 50s 113ms/step - loss: 0.7395 - acc: 0.6416 - val_loss: 0.6408 - val_acc: 0.7151\n",
            "\n",
            "Epoch 00001: val_acc improved from -inf to 0.71508, saving model to best_model_abc.h5\n",
            "Epoch 2/20\n",
            "438/438 [==============================] - 51s 117ms/step - loss: 0.5570 - acc: 0.7691 - val_loss: 0.5942 - val_acc: 0.7393\n",
            "\n",
            "Epoch 00002: val_acc improved from 0.71508 to 0.73929, saving model to best_model_abc.h5\n",
            "Epoch 3/20\n",
            "438/438 [==============================] - 53s 122ms/step - loss: 0.3678 - acc: 0.8548 - val_loss: 0.6150 - val_acc: 0.7506\n",
            "\n",
            "Epoch 00003: val_acc improved from 0.73929 to 0.75064, saving model to best_model_abc.h5\n",
            "Epoch 4/20\n",
            "438/438 [==============================] - 50s 114ms/step - loss: 0.1826 - acc: 0.9350 - val_loss: 0.7856 - val_acc: 0.7506\n",
            "\n",
            "Epoch 00004: val_acc did not improve from 0.75064\n",
            "Epoch 5/20\n",
            "438/438 [==============================] - 48s 110ms/step - loss: 0.1026 - acc: 0.9640 - val_loss: 0.9023 - val_acc: 0.7440\n",
            "\n",
            "Epoch 00005: val_acc did not improve from 0.75064\n",
            "Epoch 6/20\n",
            "438/438 [==============================] - 50s 114ms/step - loss: 0.0519 - acc: 0.9811 - val_loss: 1.1824 - val_acc: 0.7618\n",
            "\n",
            "Epoch 00006: val_acc improved from 0.75064 to 0.76178, saving model to best_model_abc.h5\n",
            "Epoch 7/20\n",
            "438/438 [==============================] - 50s 114ms/step - loss: 0.0356 - acc: 0.9869 - val_loss: 1.3026 - val_acc: 0.7554\n",
            "\n",
            "Epoch 00007: val_acc did not improve from 0.76178\n",
            "Epoch 00007: early stopping\n"
          ]
        }
      ],
      "source": [
        "embedding_dim = 256 # 임베딩 벡터의 차원\n",
        "dropout_ratio = 0.3 # 드롭아웃 비율\n",
        "num_filters = 256 # 커널의 수\n",
        "kernel_size = 3 # 커널의 크기\n",
        "hidden_units = 128 # 뉴런의 수\n",
        "\n",
        "model = Sequential()\n",
        "model.add(Embedding(vocab_size, embedding_dim))\n",
        "model.add(Dropout(dropout_ratio))\n",
        "model.add(Conv1D(num_filters, kernel_size, padding='valid', activation='relu'))\n",
        "model.add(GlobalMaxPooling1D())\n",
        "model.add(Dense(hidden_units, activation='relu'))\n",
        "model.add(Dropout(dropout_ratio))\n",
        "model.add(Dense(3, activation='softmax'))\n",
        "\n",
        "es = EarlyStopping(monitor='val_loss', mode='min', verbose=1, patience=5)\n",
        "mc = ModelCheckpoint('best_model_abc.h5', monitor='val_acc', mode='max', verbose=1, save_best_only=True)\n",
        "\n",
        "model.compile(optimizer='adam', loss=tf.keras.losses.SparseCategoricalCrossentropy(), metrics=['acc'#,\n",
        "                                                                                              #tf.keras.metrics.Precision(name='precision'),\n",
        "                                                                                              # tf.keras.metrics.Recall(name='recall'),\n",
        "                                                                                              # tf.keras.metrics.FalsePositives(name='false_positives'),\n",
        "                                                                                              # tf.keras.metrics.FalseNegatives(name='false_negatives')\n",
        "                                                                                              ])\n",
        "history = model.fit(X_train, y_train, epochs=20, validation_data=(X_test, y_test), callbacks=[es, mc])"
      ]
    },
    {
      "cell_type": "code",
      "execution_count": null,
      "metadata": {
        "id": "B4-rFZnle-T0"
      },
      "outputs": [],
      "source": [
        "del data_full, data, target, model"
      ]
    },
    {
      "cell_type": "code",
      "execution_count": null,
      "metadata": {
        "id": "xQvZoHj_e-T0",
        "outputId": "a28b6242-eecc-458f-bc7f-e63ade4c5fd6"
      },
      "outputs": [
        {
          "name": "stdout",
          "output_type": "stream",
          "text": [
            "27142\n",
            "17935\n"
          ]
        }
      ],
      "source": [
        "data_full = dataset[['newvec','로드']]\n",
        "print(len(data_full))\n",
        "data_full = data_full[data_full['로드']!= -1]\n",
        "print(len(data_full))\n",
        "data = data_full['newvec']\n",
        "target = data_full['로드']"
      ]
    },
    {
      "cell_type": "code",
      "execution_count": null,
      "metadata": {
        "id": "jdf5d8MDe-T1"
      },
      "outputs": [],
      "source": [
        "target[target==0.5]=2"
      ]
    },
    {
      "cell_type": "code",
      "execution_count": null,
      "metadata": {
        "scrolled": true,
        "id": "1csJAjZAe-T1",
        "outputId": "274c24e5-13dd-4ca4-aa5f-37390ea51f01"
      },
      "outputs": [
        {
          "data": {
            "text/plain": [
              "1    2.0\n",
              "2    2.0\n",
              "3    2.0\n",
              "4    2.0\n",
              "5    2.0\n",
              "Name: 로드, dtype: float64"
            ]
          },
          "execution_count": 21,
          "metadata": {},
          "output_type": "execute_result"
        }
      ],
      "source": [
        "target.head()"
      ]
    },
    {
      "cell_type": "code",
      "execution_count": null,
      "metadata": {
        "id": "ILNItjpde-T2"
      },
      "outputs": [],
      "source": [
        "target = target.astype('int')"
      ]
    },
    {
      "cell_type": "code",
      "execution_count": null,
      "metadata": {
        "id": "umPmjuGNe-T2"
      },
      "outputs": [],
      "source": [
        "# train_test_split\n",
        "X_train, X_test, y_train, y_test = train_test_split(data, target, test_size=0.25, shuffle=True, stratify=target, random_state=34)"
      ]
    },
    {
      "cell_type": "code",
      "execution_count": null,
      "metadata": {
        "id": "Nv4HDkNAe-T3",
        "outputId": "c3c7eba3-90df-48c3-8c06-3d2176947be6"
      },
      "outputs": [
        {
          "name": "stdout",
          "output_type": "stream",
          "text": [
            "훈련용 리뷰 개수 : 13451\n",
            "테스트용 리뷰 개수 : 4484\n",
            "카테고리 : 3\n"
          ]
        }
      ],
      "source": [
        "print('훈련용 리뷰 개수 : {}'.format(len(X_train)))\n",
        "print('테스트용 리뷰 개수 : {}'.format(len(X_test)))\n",
        "num_classes = len(set(y_train))\n",
        "print('카테고리 : {}'.format(num_classes))"
      ]
    },
    {
      "cell_type": "code",
      "execution_count": null,
      "metadata": {
        "id": "KOeACcwNe-T3",
        "outputId": "5bca941f-e5dc-4791-939a-b19cb78664b6"
      },
      "outputs": [
        {
          "data": {
            "text/plain": [
              "13375    [33, 11, 1, 233, 58, 2, 19, 888, 68, 580, 24, ...\n",
              "9550     [58, 149, 213, 419, 136, 2401, 2060, 1256, 4, ...\n",
              "8378     [447, 42, 190, 4, 3, 134, 6, 274, 1878, 3351, ...\n",
              "19611    [1213, 14, 608, 3972, 127, 11, 1213, 17, 1, 8,...\n",
              "17030    [37, 22, 2, 1989, 289, 67, 178, 6736, 559, 259...\n",
              "                               ...                        \n",
              "9432     [1, 163, 161, 60, 23, 66, 117, 333, 49, 133, 1...\n",
              "228      [2107, 489, 12, 298, 5, 477, 196, 86, 2677, 15...\n",
              "24435    [4, 3, 377, 419, 136, 6363, 902, 661, 234, 132...\n",
              "17167    [504, 2673, 917, 86, 2898, 2176, 140, 1706, 91...\n",
              "17591    [163, 999, 140, 439, 23, 77, 38, 58, 2, 198, 5...\n",
              "Name: newvec, Length: 4484, dtype: object"
            ]
          },
          "execution_count": 25,
          "metadata": {},
          "output_type": "execute_result"
        }
      ],
      "source": [
        "X_test"
      ]
    },
    {
      "cell_type": "code",
      "execution_count": null,
      "metadata": {
        "scrolled": true,
        "id": "57VEPL0Ee-T3",
        "outputId": "57ba7d04-d06a-4d7f-a610-9ae8dd1a1b85"
      },
      "outputs": [
        {
          "data": {
            "text/plain": [
              "15514    0\n",
              "4463     2\n",
              "26321    2\n",
              "23943    2\n",
              "16865    1\n",
              "        ..\n",
              "4622     2\n",
              "4811     2\n",
              "1530     2\n",
              "22700    2\n",
              "16714    2\n",
              "Name: 로드, Length: 13451, dtype: int32"
            ]
          },
          "execution_count": 26,
          "metadata": {},
          "output_type": "execute_result"
        }
      ],
      "source": [
        "y_train"
      ]
    },
    {
      "cell_type": "code",
      "execution_count": null,
      "metadata": {
        "id": "THnYVmwde-T4"
      },
      "outputs": [],
      "source": [
        "from tensorflow.keras.preprocessing.sequence import pad_sequences"
      ]
    },
    {
      "cell_type": "code",
      "execution_count": null,
      "metadata": {
        "id": "VlJFqX_Ue-T4"
      },
      "outputs": [],
      "source": [
        "max_len = 200\n",
        "X_train = pad_sequences(X_train, maxlen=max_len)\n",
        "X_test = pad_sequences(X_test, maxlen=max_len)"
      ]
    },
    {
      "cell_type": "code",
      "execution_count": null,
      "metadata": {
        "scrolled": true,
        "id": "msICZkZFe-T5",
        "outputId": "8c9f5267-afa8-4f73-bd21-d5fd70da69c6"
      },
      "outputs": [
        {
          "name": "stdout",
          "output_type": "stream",
          "text": [
            "X_train의 크기(shape) : (13451, 200)\n",
            "X_test의 크기(shape) : (4484, 200)\n"
          ]
        }
      ],
      "source": [
        "print('X_train의 크기(shape) :',X_train.shape)\n",
        "print('X_test의 크기(shape) :',X_test.shape)"
      ]
    },
    {
      "cell_type": "code",
      "execution_count": null,
      "metadata": {
        "scrolled": true,
        "id": "GtxTJ1rRe-T5",
        "outputId": "1badcd5b-8373-4f4e-996f-3751d27f4792"
      },
      "outputs": [
        {
          "name": "stdout",
          "output_type": "stream",
          "text": [
            "15514    0\n",
            "4463     2\n",
            "26321    2\n",
            "23943    2\n",
            "16865    1\n",
            "Name: 로드, dtype: int32\n"
          ]
        }
      ],
      "source": [
        "print(y_train[:5])"
      ]
    },
    {
      "cell_type": "code",
      "execution_count": null,
      "metadata": {
        "id": "8f3HKIn-e-T6"
      },
      "outputs": [],
      "source": [
        "vocab_size = 20000"
      ]
    },
    {
      "cell_type": "code",
      "execution_count": null,
      "metadata": {
        "scrolled": true,
        "id": "N3TpL0ffe-T6",
        "outputId": "763b3166-668e-451b-b056-631ef855e263"
      },
      "outputs": [
        {
          "name": "stdout",
          "output_type": "stream",
          "text": [
            "Epoch 1/20\n",
            "421/421 [==============================] - 50s 117ms/step - loss: 0.9426 - acc: 0.5672 - val_loss: 0.8316 - val_acc: 0.6211\n",
            "\n",
            "Epoch 00001: val_acc improved from -inf to 0.62110, saving model to best_model_load.h5\n",
            "Epoch 2/20\n",
            "421/421 [==============================] - 48s 113ms/step - loss: 0.7199 - acc: 0.6872 - val_loss: 0.7512 - val_acc: 0.6686\n",
            "\n",
            "Epoch 00002: val_acc improved from 0.62110 to 0.66860, saving model to best_model_load.h5\n",
            "Epoch 3/20\n",
            "421/421 [==============================] - 51s 121ms/step - loss: 0.4643 - acc: 0.8168 - val_loss: 0.7761 - val_acc: 0.6902\n",
            "\n",
            "Epoch 00003: val_acc improved from 0.66860 to 0.69023, saving model to best_model_load.h5\n",
            "Epoch 4/20\n",
            "421/421 [==============================] - 50s 120ms/step - loss: 0.2415 - acc: 0.9101 - val_loss: 0.9114 - val_acc: 0.6798\n",
            "\n",
            "Epoch 00004: val_acc did not improve from 0.69023\n",
            "Epoch 5/20\n",
            "421/421 [==============================] - 52s 123ms/step - loss: 0.1222 - acc: 0.9599 - val_loss: 1.1315 - val_acc: 0.6849\n",
            "\n",
            "Epoch 00005: val_acc did not improve from 0.69023\n",
            "Epoch 6/20\n",
            "421/421 [==============================] - 51s 121ms/step - loss: 0.0663 - acc: 0.9789 - val_loss: 1.3672 - val_acc: 0.6757\n",
            "\n",
            "Epoch 00006: val_acc did not improve from 0.69023\n",
            "Epoch 7/20\n",
            "421/421 [==============================] - 49s 117ms/step - loss: 0.0433 - acc: 0.9859 - val_loss: 1.4435 - val_acc: 0.6844\n",
            "\n",
            "Epoch 00007: val_acc did not improve from 0.69023\n",
            "Epoch 00007: early stopping\n"
          ]
        }
      ],
      "source": [
        "embedding_dim = 256 # 임베딩 벡터의 차원\n",
        "dropout_ratio = 0.3 # 드롭아웃 비율\n",
        "num_filters = 256 # 커널의 수\n",
        "kernel_size = 3 # 커널의 크기\n",
        "hidden_units = 128 # 뉴런의 수\n",
        "\n",
        "\n",
        "\n",
        "model = Sequential()\n",
        "model.add(Embedding(vocab_size, embedding_dim))\n",
        "model.add(Dropout(dropout_ratio))\n",
        "model.add(Conv1D(num_filters, kernel_size, padding='valid', activation='relu'))\n",
        "model.add(GlobalMaxPooling1D())\n",
        "model.add(Dense(hidden_units, activation='relu'))\n",
        "model.add(Dropout(dropout_ratio))\n",
        "model.add(Dense(3, activation='softmax'))\n",
        "\n",
        "es = EarlyStopping(monitor='val_loss', mode='min', verbose=1, patience=5)\n",
        "mc = ModelCheckpoint('best_model_load.h5', monitor='val_acc', mode='max', verbose=1, save_best_only=True)\n",
        "\n",
        "model.compile(optimizer='adam', loss=tf.keras.losses.SparseCategoricalCrossentropy(), metrics=['acc'])\n",
        "history = model.fit(X_train, y_train, epochs=20, validation_data=(X_test, y_test), callbacks=[es, mc])"
      ]
    },
    {
      "cell_type": "code",
      "execution_count": null,
      "metadata": {
        "id": "qAYud2rje-T6"
      },
      "outputs": [],
      "source": [
        "del data_full, data, target, model"
      ]
    },
    {
      "cell_type": "code",
      "execution_count": null,
      "metadata": {
        "id": "JY9uUVkee-T7",
        "outputId": "e0f630bc-74e4-46d1-f305-d52823ac4a5e"
      },
      "outputs": [
        {
          "name": "stdout",
          "output_type": "stream",
          "text": [
            "27142\n",
            "20606\n"
          ]
        }
      ],
      "source": [
        "data_full = dataset[['newvec','강의력']]\n",
        "print(len(data_full))\n",
        "data_full = data_full[data_full['강의력']!= -1]\n",
        "print(len(data_full))\n",
        "data = data_full['newvec']\n",
        "target = data_full['강의력']"
      ]
    },
    {
      "cell_type": "code",
      "execution_count": null,
      "metadata": {
        "id": "qJfjxajXe-T7"
      },
      "outputs": [],
      "source": [
        "target[target==0.5]=2"
      ]
    },
    {
      "cell_type": "code",
      "execution_count": null,
      "metadata": {
        "id": "di5XyCfUe-T8",
        "outputId": "30383f22-becf-422f-e81e-7f3b12fc71af"
      },
      "outputs": [
        {
          "data": {
            "text/plain": [
              "0    2.0\n",
              "1    2.0\n",
              "2    2.0\n",
              "3    2.0\n",
              "4    2.0\n",
              "Name: 강의력, dtype: float64"
            ]
          },
          "execution_count": 36,
          "metadata": {},
          "output_type": "execute_result"
        }
      ],
      "source": [
        "target.head()"
      ]
    },
    {
      "cell_type": "code",
      "execution_count": null,
      "metadata": {
        "id": "Xwz1dLQde-T8"
      },
      "outputs": [],
      "source": [
        "target = target.astype('int')"
      ]
    },
    {
      "cell_type": "code",
      "execution_count": null,
      "metadata": {
        "id": "diVa-iDHe-T8"
      },
      "outputs": [],
      "source": [
        "# train_test_split\n",
        "X_train, X_test, y_train, y_test = train_test_split(data, target, test_size=0.25, shuffle=True, stratify=target, random_state=34)"
      ]
    },
    {
      "cell_type": "code",
      "execution_count": null,
      "metadata": {
        "id": "glCZSPzte-T9",
        "outputId": "9efb5ef6-5f34-4a3e-f571-9fbbfb481235"
      },
      "outputs": [
        {
          "name": "stdout",
          "output_type": "stream",
          "text": [
            "훈련용 리뷰 개수 : 15454\n",
            "테스트용 리뷰 개수 : 5152\n",
            "카테고리 : 3\n"
          ]
        }
      ],
      "source": [
        "print('훈련용 리뷰 개수 : {}'.format(len(X_train)))\n",
        "print('테스트용 리뷰 개수 : {}'.format(len(X_test)))\n",
        "num_classes = len(set(y_train))\n",
        "print('카테고리 : {}'.format(num_classes))"
      ]
    },
    {
      "cell_type": "code",
      "execution_count": null,
      "metadata": {
        "id": "KIjTnguVe-T9",
        "outputId": "5ae581a3-87f3-4e8a-eaaa-6b835c0143cf"
      },
      "outputs": [
        {
          "data": {
            "text/plain": [
              "[207,\n",
              " 338,\n",
              " 264,\n",
              " 249,\n",
              " 22,\n",
              " 9,\n",
              " 1,\n",
              " 1180,\n",
              " 549,\n",
              " 672,\n",
              " 390,\n",
              " 1,\n",
              " 307,\n",
              " 481,\n",
              " 13,\n",
              " 349,\n",
              " 61,\n",
              " 1873,\n",
              " 24,\n",
              " 550,\n",
              " 25,\n",
              " 12,\n",
              " 278]"
            ]
          },
          "execution_count": 40,
          "metadata": {},
          "output_type": "execute_result"
        }
      ],
      "source": [
        "X_train[5]"
      ]
    },
    {
      "cell_type": "code",
      "execution_count": null,
      "metadata": {
        "id": "jq5SLhNme-T-",
        "outputId": "14739071-d6d6-40a4-a5ea-841bc8a7417b"
      },
      "outputs": [
        {
          "data": {
            "text/plain": [
              "5897     [2753, 2842, 968, 247, 96, 38, 4, 3, 6, 35, 28...\n",
              "12033    [208, 10, 387, 7, 34, 381, 67, 582, 73, 281, 8...\n",
              "6040     [1, 121, 33, 7, 1222, 7717, 3977, 813, 350, 70...\n",
              "5517     [4, 3, 733, 717, 933, 28, 1, 25, 243, 72, 369,...\n",
              "22425    [439, 4771, 52, 7, 206, 2806, 23, 31, 9, 4, 3,...\n",
              "                               ...                        \n",
              "14950    [154, 1813, 8135, 59, 4, 3, 464, 615, 95, 120,...\n",
              "17711    [13, 140, 53, 86, 175, 80, 252, 52, 1551, 38, ...\n",
              "26142    [372, 1, 20, 8, 319, 263, 90, 40, 37, 22, 11, ...\n",
              "6482     [45, 25, 1637, 1909, 505, 96, 173, 351, 48, 55...\n",
              "14650    [319, 7418, 464, 37, 22, 122, 606, 178, 438, 5...\n",
              "Name: newvec, Length: 5152, dtype: object"
            ]
          },
          "execution_count": 41,
          "metadata": {},
          "output_type": "execute_result"
        }
      ],
      "source": [
        "X_test"
      ]
    },
    {
      "cell_type": "code",
      "execution_count": null,
      "metadata": {
        "id": "Ew_n6GkIe-T-",
        "outputId": "a6603731-7b14-4a2f-e9ec-f13dc8b55317"
      },
      "outputs": [
        {
          "data": {
            "text/plain": [
              "25219    1\n",
              "4135     1\n",
              "1381     2\n",
              "25763    1\n",
              "15674    1\n",
              "        ..\n",
              "18920    0\n",
              "3684     2\n",
              "23913    2\n",
              "24226    2\n",
              "16967    0\n",
              "Name: 강의력, Length: 15454, dtype: int32"
            ]
          },
          "execution_count": 42,
          "metadata": {},
          "output_type": "execute_result"
        }
      ],
      "source": [
        "y_train"
      ]
    },
    {
      "cell_type": "code",
      "execution_count": null,
      "metadata": {
        "id": "gDyyPy0de-T-"
      },
      "outputs": [],
      "source": [
        "max_len = 200\n",
        "X_train = pad_sequences(X_train, maxlen=max_len)\n",
        "X_test = pad_sequences(X_test, maxlen=max_len)"
      ]
    },
    {
      "cell_type": "code",
      "execution_count": null,
      "metadata": {
        "id": "ktc9nRa7e-T_",
        "outputId": "498bf775-c344-4a6d-b3a2-2b76e11327d1"
      },
      "outputs": [
        {
          "name": "stdout",
          "output_type": "stream",
          "text": [
            "X_train의 크기(shape) : (15454, 200)\n",
            "X_test의 크기(shape) : (5152, 200)\n"
          ]
        }
      ],
      "source": [
        "print('X_train의 크기(shape) :',X_train.shape)\n",
        "print('X_test의 크기(shape) :',X_test.shape)"
      ]
    },
    {
      "cell_type": "code",
      "execution_count": null,
      "metadata": {
        "scrolled": true,
        "id": "hzZ4tm7Qe-T_",
        "outputId": "53c92ce1-ee49-4e5b-9814-2404b3eb101c"
      },
      "outputs": [
        {
          "name": "stdout",
          "output_type": "stream",
          "text": [
            "25219    1\n",
            "4135     1\n",
            "1381     2\n",
            "25763    1\n",
            "15674    1\n",
            "Name: 강의력, dtype: int32\n"
          ]
        }
      ],
      "source": [
        "print(y_train[:5])"
      ]
    },
    {
      "cell_type": "code",
      "execution_count": null,
      "metadata": {
        "id": "9SQK3R78e-T_",
        "outputId": "5bda49db-3959-4ba7-8b11-d7a41b220068"
      },
      "outputs": [
        {
          "name": "stdout",
          "output_type": "stream",
          "text": [
            "Epoch 1/20\n",
            "483/483 [==============================] - 54s 111ms/step - loss: 0.9631 - acc: 0.5113 - val_loss: 0.8419 - val_acc: 0.6106\n",
            "\n",
            "Epoch 00001: val_acc improved from -inf to 0.61064, saving model to best_model_power.h5\n",
            "Epoch 2/20\n",
            "483/483 [==============================] - 53s 109ms/step - loss: 0.7365 - acc: 0.6781 - val_loss: 0.8150 - val_acc: 0.6269\n",
            "\n",
            "Epoch 00002: val_acc improved from 0.61064 to 0.62694, saving model to best_model_power.h5\n",
            "Epoch 3/20\n",
            "483/483 [==============================] - 52s 108ms/step - loss: 0.4918 - acc: 0.8032 - val_loss: 0.8174 - val_acc: 0.6667\n",
            "\n",
            "Epoch 00003: val_acc improved from 0.62694 to 0.66673, saving model to best_model_power.h5\n",
            "Epoch 4/20\n",
            "483/483 [==============================] - 52s 108ms/step - loss: 0.2759 - acc: 0.8973 - val_loss: 0.9351 - val_acc: 0.6576\n",
            "\n",
            "Epoch 00004: val_acc did not improve from 0.66673\n",
            "Epoch 5/20\n",
            "483/483 [==============================] - 53s 111ms/step - loss: 0.1517 - acc: 0.9444 - val_loss: 1.1483 - val_acc: 0.6574\n",
            "\n",
            "Epoch 00005: val_acc did not improve from 0.66673\n",
            "Epoch 6/20\n",
            "483/483 [==============================] - 53s 111ms/step - loss: 0.0840 - acc: 0.9707 - val_loss: 1.3669 - val_acc: 0.6621\n",
            "\n",
            "Epoch 00006: val_acc did not improve from 0.66673\n",
            "Epoch 7/20\n",
            "483/483 [==============================] - 53s 109ms/step - loss: 0.0609 - acc: 0.9788 - val_loss: 1.5856 - val_acc: 0.6396\n",
            "\n",
            "Epoch 00007: val_acc did not improve from 0.66673\n",
            "Epoch 00007: early stopping\n"
          ]
        }
      ],
      "source": [
        "embedding_dim = 256 # 임베딩 벡터의 차원\n",
        "dropout_ratio = 0.3 # 드롭아웃 비율\n",
        "num_filters = 256 # 커널의 수\n",
        "kernel_size = 3 # 커널의 크기\n",
        "hidden_units = 128 # 뉴런의 수\n",
        "\n",
        "\n",
        "\n",
        "model = Sequential()\n",
        "model.add(Embedding(vocab_size, embedding_dim))\n",
        "model.add(Dropout(dropout_ratio))\n",
        "model.add(Conv1D(num_filters, kernel_size, padding='valid', activation='relu'))\n",
        "model.add(GlobalMaxPooling1D())\n",
        "model.add(Dense(hidden_units, activation='relu'))\n",
        "model.add(Dropout(dropout_ratio))\n",
        "model.add(Dense(3, activation='softmax'))\n",
        "\n",
        "es = EarlyStopping(monitor='val_loss', mode='min', verbose=1, patience=5)\n",
        "mc = ModelCheckpoint('best_model_power.h5', monitor='val_acc', mode='max', verbose=1, save_best_only=True)\n",
        "\n",
        "model.compile(optimizer='adam', loss=tf.keras.losses.SparseCategoricalCrossentropy(), metrics=['acc'])\n",
        "history = model.fit(X_train, y_train, epochs=20, validation_data=(X_test, y_test), callbacks=[es, mc])"
      ]
    },
    {
      "cell_type": "code",
      "execution_count": null,
      "metadata": {
        "id": "OIWTBwG5e-UA"
      },
      "outputs": [],
      "source": [
        "del data_full, data, target, model"
      ]
    },
    {
      "cell_type": "code",
      "execution_count": null,
      "metadata": {
        "id": "Hes9fjTke-UA",
        "outputId": "72e8b219-cdbf-429a-9f42-afbb3dd1f7a8"
      },
      "outputs": [
        {
          "name": "stdout",
          "output_type": "stream",
          "text": [
            "27142\n",
            "14234\n"
          ]
        }
      ],
      "source": [
        "data_full = dataset[['newvec','교수님성향']]\n",
        "print(len(data_full))\n",
        "data_full = data_full[data_full['교수님성향']!= -1]\n",
        "print(len(data_full))\n",
        "data = data_full['newvec']\n",
        "target = data_full['교수님성향']"
      ]
    },
    {
      "cell_type": "code",
      "execution_count": null,
      "metadata": {
        "id": "U1em148ne-UB"
      },
      "outputs": [],
      "source": [
        "target[target==0.5]=2"
      ]
    },
    {
      "cell_type": "code",
      "execution_count": null,
      "metadata": {
        "id": "U_DUUu1Le-UB",
        "outputId": "734193de-3853-4a11-e8ce-73715003c831"
      },
      "outputs": [
        {
          "data": {
            "text/plain": [
              "1    1.0\n",
              "2    1.0\n",
              "3    1.0\n",
              "4    1.0\n",
              "7    1.0\n",
              "Name: 교수님성향, dtype: float64"
            ]
          },
          "execution_count": 50,
          "metadata": {},
          "output_type": "execute_result"
        }
      ],
      "source": [
        "target.head()"
      ]
    },
    {
      "cell_type": "code",
      "execution_count": null,
      "metadata": {
        "id": "upEsF0Wwe-UB"
      },
      "outputs": [],
      "source": [
        "target = target.astype('int')"
      ]
    },
    {
      "cell_type": "code",
      "execution_count": null,
      "metadata": {
        "id": "YhLzSO40e-UC"
      },
      "outputs": [],
      "source": [
        "# train_test_split\n",
        "X_train, X_test, y_train, y_test = train_test_split(data, target, test_size=0.25, shuffle=True, stratify=target, random_state=34)"
      ]
    },
    {
      "cell_type": "code",
      "execution_count": null,
      "metadata": {
        "id": "itjeX0cne-UC",
        "outputId": "85364719-875b-4700-d7c8-d0f47260ddc4"
      },
      "outputs": [
        {
          "name": "stdout",
          "output_type": "stream",
          "text": [
            "훈련용 리뷰 개수 : 10675\n",
            "테스트용 리뷰 개수 : 3559\n",
            "카테고리 : 3\n"
          ]
        }
      ],
      "source": [
        "print('훈련용 리뷰 개수 : {}'.format(len(X_train)))\n",
        "print('테스트용 리뷰 개수 : {}'.format(len(X_test)))\n",
        "num_classes = len(set(y_train))\n",
        "print('카테고리 : {}'.format(num_classes))"
      ]
    },
    {
      "cell_type": "code",
      "execution_count": null,
      "metadata": {
        "id": "GC1mF0KCe-UD",
        "outputId": "dc21366a-3d27-4c9a-ac2b-ca9f5e151082"
      },
      "outputs": [
        {
          "data": {
            "text/plain": [
              "16472    [4, 3, 180, 40, 37, 22, 188, 196, 1273, 721, 5...\n",
              "21934    [58, 20, 32, 129, 873, 44, 1, 35, 1334, 99, 20...\n",
              "20731    [4, 3, 2107, 9, 42, 39, 5694, 37, 4, 3, 6, 142...\n",
              "21332    [1763, 969, 126, 2411, 1, 4, 3, 43, 55, 47, 24...\n",
              "20361    [59, 8, 15, 233, 873, 256, 1190, 174, 182, 60,...\n",
              "                               ...                        \n",
              "10047    [389, 407, 1, 29, 320, 599, 7, 15, 5, 4, 3, 92...\n",
              "12325    [4, 3, 1, 44, 229, 67, 10, 1359, 459, 17, 1358...\n",
              "9210     [58, 366, 13, 49, 133, 917, 548, 63, 1, 17, 51...\n",
              "10972    [29, 609, 35, 612, 1, 29, 519, 17, 134, 32, 13...\n",
              "13302    [163, 6615, 6, 132, 828, 562, 98, 580, 3032, 7...\n",
              "Name: newvec, Length: 3559, dtype: object"
            ]
          },
          "execution_count": 54,
          "metadata": {},
          "output_type": "execute_result"
        }
      ],
      "source": [
        "X_test"
      ]
    },
    {
      "cell_type": "code",
      "execution_count": null,
      "metadata": {
        "id": "4kH7MBwce-UD",
        "outputId": "cc9a1e0f-d812-422b-85be-0323646c3804"
      },
      "outputs": [
        {
          "data": {
            "text/plain": [
              "19803    1\n",
              "18469    1\n",
              "18334    1\n",
              "8830     1\n",
              "9226     2\n",
              "        ..\n",
              "8855     2\n",
              "24506    2\n",
              "20094    1\n",
              "13053    1\n",
              "8678     2\n",
              "Name: 교수님성향, Length: 10675, dtype: int32"
            ]
          },
          "execution_count": 55,
          "metadata": {},
          "output_type": "execute_result"
        }
      ],
      "source": [
        "y_train"
      ]
    },
    {
      "cell_type": "code",
      "execution_count": null,
      "metadata": {
        "id": "0o_H3DfTe-UD"
      },
      "outputs": [],
      "source": [
        "max_len = 200\n",
        "X_train = pad_sequences(X_train, maxlen=max_len)\n",
        "X_test = pad_sequences(X_test, maxlen=max_len)"
      ]
    },
    {
      "cell_type": "code",
      "execution_count": null,
      "metadata": {
        "id": "tLBkaq9re-UE",
        "outputId": "55a82423-8a76-469e-f9eb-bb96f7a2a884"
      },
      "outputs": [
        {
          "name": "stdout",
          "output_type": "stream",
          "text": [
            "X_train의 크기(shape) : (10675, 200)\n",
            "X_test의 크기(shape) : (3559, 200)\n"
          ]
        }
      ],
      "source": [
        "print('X_train의 크기(shape) :',X_train.shape)\n",
        "print('X_test의 크기(shape) :',X_test.shape)"
      ]
    },
    {
      "cell_type": "code",
      "execution_count": null,
      "metadata": {
        "scrolled": true,
        "id": "-G14It9ee-UE",
        "outputId": "98cbb5f2-d8e4-4dac-811c-2b5e5839e1aa"
      },
      "outputs": [
        {
          "name": "stdout",
          "output_type": "stream",
          "text": [
            "19803    1\n",
            "18469    1\n",
            "18334    1\n",
            "8830     1\n",
            "9226     2\n",
            "Name: 교수님성향, dtype: int32\n"
          ]
        }
      ],
      "source": [
        "print(y_train[:5])"
      ]
    },
    {
      "cell_type": "code",
      "execution_count": null,
      "metadata": {
        "id": "WZ2dvnoPe-UE"
      },
      "outputs": [],
      "source": [
        "vocab_size = 20000"
      ]
    },
    {
      "cell_type": "code",
      "execution_count": null,
      "metadata": {
        "scrolled": true,
        "id": "qT417OHXe-UF",
        "outputId": "a73001c1-e506-4f21-811f-7d2d6259deb1"
      },
      "outputs": [
        {
          "name": "stdout",
          "output_type": "stream",
          "text": [
            "Epoch 1/20\n",
            "334/334 [==============================] - 38s 112ms/step - loss: 0.7137 - acc: 0.7133 - val_loss: 0.6424 - val_acc: 0.7266\n",
            "\n",
            "Epoch 00001: val_acc improved from -inf to 0.72661, saving model to best_model_kind.h5\n",
            "Epoch 2/20\n",
            "334/334 [==============================] - 38s 115ms/step - loss: 0.5494 - acc: 0.7753 - val_loss: 0.6065 - val_acc: 0.7373\n",
            "\n",
            "Epoch 00002: val_acc improved from 0.72661 to 0.73729, saving model to best_model_kind.h5\n",
            "Epoch 3/20\n",
            "334/334 [==============================] - 39s 116ms/step - loss: 0.3541 - acc: 0.8660 - val_loss: 0.5889 - val_acc: 0.7598\n",
            "\n",
            "Epoch 00003: val_acc improved from 0.73729 to 0.75976, saving model to best_model_kind.h5\n",
            "Epoch 4/20\n",
            "334/334 [==============================] - 39s 115ms/step - loss: 0.1772 - acc: 0.9405 - val_loss: 0.6978 - val_acc: 0.7393\n",
            "\n",
            "Epoch 00004: val_acc did not improve from 0.75976\n",
            "Epoch 5/20\n",
            "334/334 [==============================] - 37s 112ms/step - loss: 0.0702 - acc: 0.9774 - val_loss: 0.8646 - val_acc: 0.7696\n",
            "\n",
            "Epoch 00005: val_acc improved from 0.75976 to 0.76960, saving model to best_model_kind.h5\n",
            "Epoch 6/20\n",
            "334/334 [==============================] - 37s 112ms/step - loss: 0.0310 - acc: 0.9906 - val_loss: 1.0902 - val_acc: 0.7645\n",
            "\n",
            "Epoch 00006: val_acc did not improve from 0.76960\n",
            "Epoch 7/20\n",
            "334/334 [==============================] - 38s 113ms/step - loss: 0.0222 - acc: 0.9940 - val_loss: 1.1375 - val_acc: 0.7297\n",
            "\n",
            "Epoch 00007: val_acc did not improve from 0.76960\n",
            "Epoch 8/20\n",
            "334/334 [==============================] - 38s 112ms/step - loss: 0.0098 - acc: 0.9977 - val_loss: 1.4027 - val_acc: 0.7665\n",
            "\n",
            "Epoch 00008: val_acc did not improve from 0.76960\n",
            "Epoch 00008: early stopping\n"
          ]
        }
      ],
      "source": [
        "embedding_dim = 256 # 임베딩 벡터의 차원\n",
        "dropout_ratio = 0.3 # 드롭아웃 비율\n",
        "num_filters = 256 # 커널의 수\n",
        "kernel_size = 3 # 커널의 크기\n",
        "hidden_units = 128 # 뉴런의 수\n",
        "\n",
        "\n",
        "\n",
        "model = Sequential()\n",
        "model.add(Embedding(vocab_size, embedding_dim))\n",
        "model.add(Dropout(dropout_ratio))\n",
        "model.add(Conv1D(num_filters, kernel_size, padding='valid', activation='relu'))\n",
        "model.add(GlobalMaxPooling1D())\n",
        "model.add(Dense(hidden_units, activation='relu'))\n",
        "model.add(Dropout(dropout_ratio))\n",
        "model.add(Dense(3, activation='softmax'))\n",
        "\n",
        "es = EarlyStopping(monitor='val_loss', mode='min', verbose=1, patience=5)\n",
        "mc = ModelCheckpoint('best_model_kind.h5', monitor='val_acc', mode='max', verbose=1, save_best_only=True)\n",
        "\n",
        "model.compile(optimizer='adam', loss=tf.keras.losses.SparseCategoricalCrossentropy(), metrics=['acc'])\n",
        "history = model.fit(X_train, y_train, epochs=20, validation_data=(X_test, y_test), callbacks=[es, mc])"
      ]
    },
    {
      "cell_type": "code",
      "execution_count": null,
      "metadata": {
        "id": "HEMTBnu7e-UF"
      },
      "outputs": [],
      "source": [
        "del data_full, data, target, model"
      ]
    },
    {
      "cell_type": "code",
      "execution_count": null,
      "metadata": {
        "id": "nrtbkVtme-UG",
        "outputId": "036638a1-c38a-4a13-ee3e-83bf74b0a783"
      },
      "outputs": [
        {
          "name": "stdout",
          "output_type": "stream",
          "text": [
            "27142\n",
            "4877\n"
          ]
        }
      ],
      "source": [
        "data_full = dataset[['newvec','강의자료질']]\n",
        "print(len(data_full))\n",
        "data_full = data_full[data_full['강의자료질']!= -1]\n",
        "print(len(data_full))\n",
        "data = data_full['newvec']\n",
        "target = data_full['강의자료질']"
      ]
    },
    {
      "cell_type": "code",
      "execution_count": null,
      "metadata": {
        "id": "sJovag8he-UG"
      },
      "outputs": [],
      "source": [
        "target[target==0.5]=2"
      ]
    },
    {
      "cell_type": "code",
      "execution_count": null,
      "metadata": {
        "scrolled": true,
        "id": "Nlnhe0cze-UH",
        "outputId": "7c8874c8-cba9-4d1f-abff-71789cb51625"
      },
      "outputs": [
        {
          "data": {
            "text/plain": [
              "24    2.0\n",
              "31    2.0\n",
              "34    2.0\n",
              "48    2.0\n",
              "68    2.0\n",
              "Name: 강의자료질, dtype: float64"
            ]
          },
          "execution_count": 64,
          "metadata": {},
          "output_type": "execute_result"
        }
      ],
      "source": [
        "target.head()"
      ]
    },
    {
      "cell_type": "code",
      "execution_count": null,
      "metadata": {
        "id": "leADC3tae-UH"
      },
      "outputs": [],
      "source": [
        "target = target.astype('int')"
      ]
    },
    {
      "cell_type": "code",
      "execution_count": null,
      "metadata": {
        "id": "yfHcZWKLe-UH"
      },
      "outputs": [],
      "source": [
        "# train_test_split\n",
        "X_train, X_test, y_train, y_test = train_test_split(data, target, test_size=0.25, shuffle=True, stratify=target, random_state=34)"
      ]
    },
    {
      "cell_type": "code",
      "execution_count": null,
      "metadata": {
        "id": "zDVzKeiee-UI",
        "outputId": "65511f4f-8590-4bb6-ee62-3ea9318d86bb"
      },
      "outputs": [
        {
          "name": "stdout",
          "output_type": "stream",
          "text": [
            "훈련용 리뷰 개수 : 3657\n",
            "테스트용 리뷰 개수 : 1220\n",
            "카테고리 : 3\n"
          ]
        }
      ],
      "source": [
        "print('훈련용 리뷰 개수 : {}'.format(len(X_train)))\n",
        "print('테스트용 리뷰 개수 : {}'.format(len(X_test)))\n",
        "num_classes = len(set(y_train))\n",
        "print('카테고리 : {}'.format(num_classes))"
      ]
    },
    {
      "cell_type": "code",
      "execution_count": null,
      "metadata": {
        "scrolled": true,
        "id": "SF6QKhuAe-UI",
        "outputId": "e8baabab-2436-454b-d235-40ef57da0e93"
      },
      "outputs": [
        {
          "data": {
            "text/plain": [
              "13525    [4, 3, 1, 2072, 5709, 857, 181, 769, 4286, 89,...\n",
              "4947     [1, 35, 513, 45, 158, 469, 24, 43, 88, 53, 23,...\n",
              "12105    [4, 3, 2613, 1392, 26, 153, 9, 181, 2975, 1, 5...\n",
              "21204    [35, 656, 59, 5667, 713, 362, 22, 269, 132, 47...\n",
              "4908     [1, 282, 20, 35, 158, 27, 88, 14, 158, 257, 17...\n",
              "                               ...                        \n",
              "7606     [215, 457, 1, 1023, 2, 112, 261, 308, 315, 158...\n",
              "9635     [1, 29, 208, 7, 2, 98, 222, 187, 368, 1, 75, 2...\n",
              "5670     [129, 42, 338, 1049, 13, 5, 176, 20, 131, 37, ...\n",
              "20847    [172, 249, 1187, 208, 57, 455, 389, 2, 172, 35...\n",
              "1708     [1162, 103, 4891, 1, 4, 84, 2727, 158, 4386, 1...\n",
              "Name: newvec, Length: 1220, dtype: object"
            ]
          },
          "execution_count": 68,
          "metadata": {},
          "output_type": "execute_result"
        }
      ],
      "source": [
        "X_test"
      ]
    },
    {
      "cell_type": "code",
      "execution_count": null,
      "metadata": {
        "scrolled": true,
        "id": "MPuxzmkte-UJ",
        "outputId": "59ff1188-4d35-4d6b-ddf7-1771923c14ea"
      },
      "outputs": [
        {
          "data": {
            "text/plain": [
              "23298    2\n",
              "16659    2\n",
              "4882     0\n",
              "2117     0\n",
              "11668    2\n",
              "        ..\n",
              "24231    2\n",
              "6882     2\n",
              "6658     1\n",
              "1879     2\n",
              "19503    2\n",
              "Name: 강의자료질, Length: 3657, dtype: int32"
            ]
          },
          "execution_count": 69,
          "metadata": {},
          "output_type": "execute_result"
        }
      ],
      "source": [
        "y_train"
      ]
    },
    {
      "cell_type": "code",
      "execution_count": null,
      "metadata": {
        "id": "I1boEhR5e-UJ"
      },
      "outputs": [],
      "source": [
        "max_len = 200\n",
        "X_train = pad_sequences(X_train, maxlen=max_len)\n",
        "X_test = pad_sequences(X_test, maxlen=max_len)"
      ]
    },
    {
      "cell_type": "code",
      "execution_count": null,
      "metadata": {
        "id": "3BNA5tEpe-UJ",
        "outputId": "9ff51f66-5934-482d-aca7-506a9e4258be"
      },
      "outputs": [
        {
          "name": "stdout",
          "output_type": "stream",
          "text": [
            "X_train의 크기(shape) : (3657, 200)\n",
            "X_test의 크기(shape) : (1220, 200)\n"
          ]
        }
      ],
      "source": [
        "print('X_train의 크기(shape) :',X_train.shape)\n",
        "print('X_test의 크기(shape) :',X_test.shape)"
      ]
    },
    {
      "cell_type": "code",
      "execution_count": null,
      "metadata": {
        "scrolled": true,
        "id": "QMsLoBoie-UK",
        "outputId": "e17ba861-b5aa-46d4-901d-d6edf742f0cf"
      },
      "outputs": [
        {
          "name": "stdout",
          "output_type": "stream",
          "text": [
            "23298    2\n",
            "16659    2\n",
            "4882     0\n",
            "2117     0\n",
            "11668    2\n",
            "Name: 강의자료질, dtype: int32\n"
          ]
        }
      ],
      "source": [
        "print(y_train[:5])"
      ]
    },
    {
      "cell_type": "code",
      "execution_count": null,
      "metadata": {
        "scrolled": true,
        "id": "kYM7WaaMe-UK",
        "outputId": "8d3ae37c-c44f-4747-f680-5c157985cb56"
      },
      "outputs": [
        {
          "name": "stdout",
          "output_type": "stream",
          "text": [
            "Epoch 1/20\n",
            "115/115 [==============================] - 13s 110ms/step - loss: 0.6477 - acc: 0.7974 - val_loss: 0.6170 - val_acc: 0.8008\n",
            "\n",
            "Epoch 00001: val_acc improved from -inf to 0.80082, saving model to best_model_qual.h5\n",
            "Epoch 2/20\n",
            "115/115 [==============================] - 12s 107ms/step - loss: 0.5743 - acc: 0.8007 - val_loss: 0.5710 - val_acc: 0.8008\n",
            "\n",
            "Epoch 00002: val_acc did not improve from 0.80082\n",
            "Epoch 3/20\n",
            "115/115 [==============================] - 12s 108ms/step - loss: 0.4265 - acc: 0.8313 - val_loss: 0.5516 - val_acc: 0.8197\n",
            "\n",
            "Epoch 00003: val_acc improved from 0.80082 to 0.81967, saving model to best_model_qual.h5\n",
            "Epoch 4/20\n",
            "115/115 [==============================] - 13s 109ms/step - loss: 0.2029 - acc: 0.9355 - val_loss: 0.5986 - val_acc: 0.8197\n",
            "\n",
            "Epoch 00004: val_acc did not improve from 0.81967\n",
            "Epoch 5/20\n",
            "115/115 [==============================] - 13s 113ms/step - loss: 0.0536 - acc: 0.9882 - val_loss: 0.7305 - val_acc: 0.8254\n",
            "\n",
            "Epoch 00005: val_acc improved from 0.81967 to 0.82541, saving model to best_model_qual.h5\n",
            "Epoch 6/20\n",
            "115/115 [==============================] - 14s 118ms/step - loss: 0.0188 - acc: 0.9975 - val_loss: 0.8730 - val_acc: 0.8369\n",
            "\n",
            "Epoch 00006: val_acc improved from 0.82541 to 0.83689, saving model to best_model_qual.h5\n",
            "Epoch 7/20\n",
            "115/115 [==============================] - 13s 115ms/step - loss: 0.0067 - acc: 1.0000 - val_loss: 0.8862 - val_acc: 0.8221\n",
            "\n",
            "Epoch 00007: val_acc did not improve from 0.83689\n",
            "Epoch 8/20\n",
            "115/115 [==============================] - 13s 113ms/step - loss: 0.0032 - acc: 1.0000 - val_loss: 1.0273 - val_acc: 0.8459\n",
            "\n",
            "Epoch 00008: val_acc improved from 0.83689 to 0.84590, saving model to best_model_qual.h5\n",
            "Epoch 00008: early stopping\n"
          ]
        }
      ],
      "source": [
        "embedding_dim = 256 # 임베딩 벡터의 차원\n",
        "dropout_ratio = 0.3 # 드롭아웃 비율\n",
        "num_filters = 256 # 커널의 수\n",
        "kernel_size = 3 # 커널의 크기\n",
        "hidden_units = 128 # 뉴런의 수\n",
        "\n",
        "\n",
        "\n",
        "model = Sequential()\n",
        "model.add(Embedding(vocab_size, embedding_dim))\n",
        "model.add(Dropout(dropout_ratio))\n",
        "model.add(Conv1D(num_filters, kernel_size, padding='valid', activation='relu'))\n",
        "model.add(GlobalMaxPooling1D())\n",
        "model.add(Dense(hidden_units, activation='relu'))\n",
        "model.add(Dropout(dropout_ratio))\n",
        "model.add(Dense(3, activation='softmax'))\n",
        "\n",
        "es = EarlyStopping(monitor='val_loss', mode='min', verbose=1, patience=5)\n",
        "mc = ModelCheckpoint('best_model_qual.h5', monitor='val_acc', mode='max', verbose=1, save_best_only=True)\n",
        "\n",
        "model.compile(optimizer='adam', loss=tf.keras.losses.SparseCategoricalCrossentropy(), metrics=['acc'])\n",
        "history = model.fit(X_train, y_train, epochs=20, validation_data=(X_test, y_test), callbacks=[es, mc])"
      ]
    },
    {
      "cell_type": "code",
      "execution_count": null,
      "metadata": {
        "id": "CXoEi-uKe-UL"
      },
      "outputs": [],
      "source": [
        "del data_full, data, target, model"
      ]
    },
    {
      "cell_type": "code",
      "execution_count": null,
      "metadata": {
        "id": "0e4r_0FRe-UL",
        "outputId": "3e7c7281-5edc-495d-9207-30dd6b4a5c0e"
      },
      "outputs": [
        {
          "name": "stdout",
          "output_type": "stream",
          "text": [
            "27142\n",
            "1522\n"
          ]
        }
      ],
      "source": [
        "data_full = dataset[['newvec','족보여부']]\n",
        "print(len(data_full))\n",
        "data_full = data_full[data_full['족보여부']!= -1]\n",
        "print(len(data_full))\n",
        "data = data_full['newvec']\n",
        "target = data_full['족보여부']"
      ]
    },
    {
      "cell_type": "code",
      "execution_count": null,
      "metadata": {
        "id": "IN8PmC2Ge-UL"
      },
      "outputs": [],
      "source": [
        "target[target==0.5]=2"
      ]
    },
    {
      "cell_type": "code",
      "execution_count": null,
      "metadata": {
        "id": "sVxVE1cre-UM",
        "outputId": "25468770-38d8-4394-bec7-74e115df0ee1"
      },
      "outputs": [
        {
          "data": {
            "text/plain": [
              "101    0.0\n",
              "151    0.0\n",
              "593    2.0\n",
              "605    1.0\n",
              "619    1.0\n",
              "Name: 족보여부, dtype: float64"
            ]
          },
          "execution_count": 77,
          "metadata": {},
          "output_type": "execute_result"
        }
      ],
      "source": [
        "target.head()"
      ]
    },
    {
      "cell_type": "code",
      "execution_count": null,
      "metadata": {
        "id": "s_1e6WE0e-UM"
      },
      "outputs": [],
      "source": [
        "target = target.astype('int')"
      ]
    },
    {
      "cell_type": "code",
      "execution_count": null,
      "metadata": {
        "id": "I3q-cvD9e-UN"
      },
      "outputs": [],
      "source": [
        "# train_test_split\n",
        "X_train, X_test, y_train, y_test = train_test_split(data, target, test_size=0.25, shuffle=True, stratify=target, random_state=34)"
      ]
    },
    {
      "cell_type": "code",
      "execution_count": null,
      "metadata": {
        "id": "xnuIUyoDe-UN",
        "outputId": "317e9dc0-e89d-4755-e49d-6501d1843d8a"
      },
      "outputs": [
        {
          "name": "stdout",
          "output_type": "stream",
          "text": [
            "훈련용 리뷰 개수 : 1141\n",
            "테스트용 리뷰 개수 : 381\n",
            "카테고리 : 3\n"
          ]
        }
      ],
      "source": [
        "print('훈련용 리뷰 개수 : {}'.format(len(X_train)))\n",
        "print('테스트용 리뷰 개수 : {}'.format(len(X_test)))\n",
        "num_classes = len(set(y_train))\n",
        "print('카테고리 : {}'.format(num_classes))"
      ]
    },
    {
      "cell_type": "code",
      "execution_count": null,
      "metadata": {
        "id": "i9ZcE4YXe-UN",
        "outputId": "cfe289df-0852-4d54-eb60-027d2f2be981"
      },
      "outputs": [
        {
          "data": {
            "text/plain": [
              "828      [108, 438, 161, 1, 153, 128, 1121, 21, 283, 15...\n",
              "5378     [89, 410, 126, 386, 52, 1, 29, 307, 1146, 223,...\n",
              "101      [207, 13, 390, 1, 5, 252, 62, 48, 65, 362, 239...\n",
              "17878    [184, 816, 56, 13, 30, 15, 37, 22, 7, 100, 206...\n",
              "18873    [525, 310, 4834, 509, 3822, 184, 2012, 706, 11...\n",
              "                               ...                        \n",
              "16284    [1200, 143, 25, 17, 28, 8, 174, 667, 26, 32, 3...\n",
              "19190    [6, 373, 2244, 84, 293, 2830, 7, 63, 10, 16, 3...\n",
              "7515     [582, 42, 17, 36, 165, 8, 105, 127, 411, 20, 9...\n",
              "25645    [187, 1264, 1247, 384, 8, 326, 129, 779, 6, 26...\n",
              "17806    [696, 148, 202, 140, 21, 1, 150, 15, 13, 62, 7...\n",
              "Name: newvec, Length: 381, dtype: object"
            ]
          },
          "execution_count": 81,
          "metadata": {},
          "output_type": "execute_result"
        }
      ],
      "source": [
        "X_test"
      ]
    },
    {
      "cell_type": "code",
      "execution_count": null,
      "metadata": {
        "id": "wvP99nA-e-UO",
        "outputId": "bc53478c-d837-4a39-fde0-59691b96829a"
      },
      "outputs": [
        {
          "data": {
            "text/plain": [
              "1845     1\n",
              "9438     1\n",
              "3936     2\n",
              "19503    0\n",
              "18798    0\n",
              "        ..\n",
              "1488     2\n",
              "16183    2\n",
              "16598    1\n",
              "3812     2\n",
              "1072     2\n",
              "Name: 족보여부, Length: 1141, dtype: int32"
            ]
          },
          "execution_count": 82,
          "metadata": {},
          "output_type": "execute_result"
        }
      ],
      "source": [
        "y_train"
      ]
    },
    {
      "cell_type": "code",
      "execution_count": null,
      "metadata": {
        "id": "DGpHV3Aie-UO"
      },
      "outputs": [],
      "source": [
        "max_len = 200\n",
        "X_train = pad_sequences(X_train, maxlen=max_len)\n",
        "X_test = pad_sequences(X_test, maxlen=max_len)"
      ]
    },
    {
      "cell_type": "code",
      "execution_count": null,
      "metadata": {
        "id": "qJPXvsTNe-UO",
        "outputId": "4fdac683-ab74-486c-891a-0b36f5336032"
      },
      "outputs": [
        {
          "name": "stdout",
          "output_type": "stream",
          "text": [
            "X_train의 크기(shape) : (1141, 200)\n",
            "X_test의 크기(shape) : (381, 200)\n"
          ]
        }
      ],
      "source": [
        "print('X_train의 크기(shape) :',X_train.shape)\n",
        "print('X_test의 크기(shape) :',X_test.shape)"
      ]
    },
    {
      "cell_type": "code",
      "execution_count": null,
      "metadata": {
        "scrolled": true,
        "id": "1cnlBHSVe-UP",
        "outputId": "c0bc38b6-5203-4385-f223-288c4b6c3fc8"
      },
      "outputs": [
        {
          "name": "stdout",
          "output_type": "stream",
          "text": [
            "1845     1\n",
            "9438     1\n",
            "3936     2\n",
            "19503    0\n",
            "18798    0\n",
            "Name: 족보여부, dtype: int32\n"
          ]
        }
      ],
      "source": [
        "print(y_train[:5])"
      ]
    },
    {
      "cell_type": "code",
      "execution_count": null,
      "metadata": {
        "scrolled": true,
        "id": "qTKGj2ome-UP",
        "outputId": "37f498fa-536a-48ff-c4fe-b48543f43202"
      },
      "outputs": [
        {
          "name": "stdout",
          "output_type": "stream",
          "text": [
            "Epoch 1/20\n",
            "36/36 [==============================] - 5s 118ms/step - loss: 1.0534 - acc: 0.4321 - val_loss: 1.0325 - val_acc: 0.5171\n",
            "\n",
            "Epoch 00001: val_acc improved from -inf to 0.51706, saving model to best_model_jokbo.h5\n",
            "Epoch 2/20\n",
            "36/36 [==============================] - 4s 118ms/step - loss: 0.9935 - acc: 0.4987 - val_loss: 0.9741 - val_acc: 0.5696\n",
            "\n",
            "Epoch 00002: val_acc improved from 0.51706 to 0.56955, saving model to best_model_jokbo.h5\n",
            "Epoch 3/20\n",
            "36/36 [==============================] - 4s 112ms/step - loss: 0.8388 - acc: 0.6643 - val_loss: 0.8848 - val_acc: 0.5984\n",
            "\n",
            "Epoch 00003: val_acc improved from 0.56955 to 0.59843, saving model to best_model_jokbo.h5\n",
            "Epoch 4/20\n",
            "36/36 [==============================] - 4s 120ms/step - loss: 0.6093 - acc: 0.7905 - val_loss: 0.8111 - val_acc: 0.6430\n",
            "\n",
            "Epoch 00004: val_acc improved from 0.59843 to 0.64304, saving model to best_model_jokbo.h5\n",
            "Epoch 5/20\n",
            "36/36 [==============================] - 4s 116ms/step - loss: 0.3066 - acc: 0.9062 - val_loss: 0.7044 - val_acc: 0.6877\n",
            "\n",
            "Epoch 00005: val_acc improved from 0.64304 to 0.68766, saving model to best_model_jokbo.h5\n",
            "Epoch 6/20\n",
            "36/36 [==============================] - 4s 123ms/step - loss: 0.1139 - acc: 0.9860 - val_loss: 0.7296 - val_acc: 0.6982\n",
            "\n",
            "Epoch 00006: val_acc improved from 0.68766 to 0.69816, saving model to best_model_jokbo.h5\n",
            "Epoch 7/20\n",
            "36/36 [==============================] - 4s 114ms/step - loss: 0.0385 - acc: 0.9965 - val_loss: 0.8025 - val_acc: 0.6929\n",
            "\n",
            "Epoch 00007: val_acc did not improve from 0.69816\n",
            "Epoch 8/20\n",
            "36/36 [==============================] - 4s 107ms/step - loss: 0.0153 - acc: 1.0000 - val_loss: 0.8259 - val_acc: 0.7087\n",
            "\n",
            "Epoch 00008: val_acc improved from 0.69816 to 0.70866, saving model to best_model_jokbo.h5\n",
            "Epoch 9/20\n",
            "36/36 [==============================] - 4s 108ms/step - loss: 0.0091 - acc: 1.0000 - val_loss: 0.8618 - val_acc: 0.7139\n",
            "\n",
            "Epoch 00009: val_acc improved from 0.70866 to 0.71391, saving model to best_model_jokbo.h5\n",
            "Epoch 10/20\n",
            "36/36 [==============================] - 4s 106ms/step - loss: 0.0057 - acc: 1.0000 - val_loss: 0.8715 - val_acc: 0.7113\n",
            "\n",
            "Epoch 00010: val_acc did not improve from 0.71391\n",
            "Epoch 00010: early stopping\n"
          ]
        }
      ],
      "source": [
        "embedding_dim = 256 # 임베딩 벡터의 차원\n",
        "dropout_ratio = 0.3 # 드롭아웃 비율\n",
        "num_filters = 256 # 커널의 수\n",
        "kernel_size = 3 # 커널의 크기\n",
        "hidden_units = 128 # 뉴런의 수\n",
        "\n",
        "\n",
        "\n",
        "model = Sequential()\n",
        "model.add(Embedding(vocab_size, embedding_dim))\n",
        "model.add(Dropout(dropout_ratio))\n",
        "model.add(Conv1D(num_filters, kernel_size, padding='valid', activation='relu'))\n",
        "model.add(GlobalMaxPooling1D())\n",
        "model.add(Dense(hidden_units, activation='relu'))\n",
        "model.add(Dropout(dropout_ratio))\n",
        "model.add(Dense(3, activation='softmax'))\n",
        "\n",
        "es = EarlyStopping(monitor='val_loss', mode='min', verbose=1, patience=5)\n",
        "mc = ModelCheckpoint('best_model_jokbo.h5', monitor='val_acc', mode='max', verbose=1, save_best_only=True)\n",
        "\n",
        "model.compile(optimizer='adam', loss=tf.keras.losses.SparseCategoricalCrossentropy(), metrics=['acc'])\n",
        "history = model.fit(X_train, y_train, epochs=20, validation_data=(X_test, y_test), callbacks=[es, mc])"
      ]
    },
    {
      "cell_type": "code",
      "execution_count": null,
      "metadata": {
        "id": "eCZb5HNEe-UQ"
      },
      "outputs": [],
      "source": [
        "del data_full, data, target, model, tokenizer"
      ]
    },
    {
      "cell_type": "code",
      "execution_count": null,
      "metadata": {
        "id": "5YUFhf29e-UQ"
      },
      "outputs": [],
      "source": [
        "import pickle"
      ]
    },
    {
      "cell_type": "code",
      "execution_count": null,
      "metadata": {
        "id": "okVe6KYre-UR"
      },
      "outputs": [],
      "source": [
        "with open('tokenizer_final.pickle', 'rb') as handle:\n",
        "    tokenizer = pickle.load(handle)"
      ]
    },
    {
      "cell_type": "code",
      "execution_count": null,
      "metadata": {
        "id": "GEhKI3f7e-UR"
      },
      "outputs": [],
      "source": [
        "max_len = 200\n",
        "loaded_model1 = load_model('best_model_abc.h5')\n",
        "loaded_model2 = load_model('best_model_load.h5')\n",
        "loaded_model3 = load_model('best_model_power.h5')\n",
        "loaded_model4 = load_model('best_model_kind.h5')\n",
        "loaded_model5 = load_model('best_model_qual.h5')\n",
        "loaded_model6 = load_model('best_model_jokbo.h5')"
      ]
    },
    {
      "cell_type": "code",
      "execution_count": null,
      "metadata": {
        "id": "pl1ai1NVe-UR"
      },
      "outputs": [],
      "source": [
        "from konlpy.tag import Okt"
      ]
    },
    {
      "cell_type": "code",
      "execution_count": null,
      "metadata": {
        "id": "yoxwNwjve-US"
      },
      "outputs": [],
      "source": [
        "okt = Okt()"
      ]
    },
    {
      "cell_type": "code",
      "execution_count": null,
      "metadata": {
        "id": "RjrmjRV_e-US"
      },
      "outputs": [],
      "source": [
        "stopwords = ['의','가','이','은','들','는','좀','잘','걍','과','도','를','으로','자','에','와','한','하다']"
      ]
    },
    {
      "cell_type": "markdown",
      "metadata": {
        "id": "D2MBLti1e-US"
      },
      "source": [
        "다른 척도들 탐색 : Recall, Precision, f1 score (acc 제외)"
      ]
    },
    {
      "cell_type": "markdown",
      "source": [
        "족보 여부"
      ],
      "metadata": {
        "id": "OWePmzaWo_mE"
      }
    },
    {
      "cell_type": "code",
      "execution_count": null,
      "metadata": {
        "scrolled": true,
        "id": "Zi4CSmRQe-UT"
      },
      "outputs": [],
      "source": [
        "y_pred = loaded_model6.predict(X_test)"
      ]
    },
    {
      "cell_type": "code",
      "execution_count": null,
      "metadata": {
        "id": "4r2b0J3ee-UT",
        "outputId": "0b4b185e-d02f-4dd5-9b92-849cd4c1c5ed"
      },
      "outputs": [
        {
          "data": {
            "text/plain": [
              "array([[5.7104934e-04, 9.9585044e-01, 3.5785097e-03],\n",
              "       [1.6061357e-01, 7.6176888e-01, 7.7617601e-02],\n",
              "       [1.0258526e-01, 4.1910559e-01, 4.7830909e-01],\n",
              "       ...,\n",
              "       [5.8962475e-03, 5.2259088e-01, 4.7151294e-01],\n",
              "       [2.8926255e-05, 6.8901840e-04, 9.9928206e-01],\n",
              "       [4.6199279e-06, 3.5418587e-05, 9.9995995e-01]], dtype=float32)"
            ]
          },
          "execution_count": 112,
          "metadata": {},
          "output_type": "execute_result"
        }
      ],
      "source": [
        "y_pred"
      ]
    },
    {
      "cell_type": "code",
      "execution_count": null,
      "metadata": {
        "id": "FlR61QH9e-UU"
      },
      "outputs": [],
      "source": [
        "predicted = y_pred.argmax(axis=-1)\n",
        "\n"
      ]
    },
    {
      "cell_type": "code",
      "execution_count": null,
      "metadata": {
        "id": "avLwDBRCe-UU",
        "outputId": "125d8625-7041-43da-c5de-f705cecd0889"
      },
      "outputs": [
        {
          "data": {
            "text/plain": [
              "array([1, 1, 2, 2, 1, 1, 2, 2, 2, 1, 2, 1, 1, 1, 2, 0, 1, 2, 2, 1, 2, 1,\n",
              "       1, 1, 2, 1, 0, 1, 1, 1, 1, 2, 1, 1, 0, 0, 1, 1, 2, 1, 2, 2, 1, 0,\n",
              "       2, 1, 1, 0, 1, 0, 1, 2, 1, 1, 1, 0, 1, 2, 1, 2, 1, 0, 1, 1, 2, 1,\n",
              "       0, 1, 1, 0, 1, 0, 1, 1, 2, 1, 1, 1, 2, 1, 0, 1, 1, 1, 1, 1, 2, 1,\n",
              "       1, 1, 0, 0, 1, 1, 1, 1, 1, 1, 2, 1, 1, 1, 1, 1, 1, 2, 1, 2, 1, 1,\n",
              "       2, 1, 1, 0, 1, 2, 2, 2, 0, 1, 1, 0, 1, 1, 0, 2, 2, 2, 0, 1, 1, 1,\n",
              "       1, 1, 1, 1, 0, 0, 1, 1, 0, 2, 1, 1, 0, 1, 1, 1, 1, 2, 2, 1, 1, 1,\n",
              "       1, 1, 0, 0, 2, 1, 1, 0, 1, 1, 2, 1, 1, 1, 1, 2, 2, 1, 2, 2, 1, 1,\n",
              "       2, 0, 1, 2, 0, 1, 1, 1, 1, 2, 1, 1, 2, 1, 1, 1, 2, 1, 1, 1, 2, 2,\n",
              "       0, 1, 1, 1, 1, 2, 1, 1, 2, 2, 0, 1, 0, 1, 1, 2, 0, 1, 1, 1, 0, 1,\n",
              "       1, 1, 2, 2, 1, 1, 2, 2, 1, 1, 0, 2, 2, 2, 2, 1, 1, 1, 1, 0, 2, 1,\n",
              "       1, 1, 1, 0, 1, 1, 2, 2, 2, 1, 0, 1, 1, 0, 1, 1, 1, 1, 0, 1, 1, 1,\n",
              "       2, 1, 1, 1, 2, 0, 1, 1, 1, 1, 0, 1, 1, 1, 2, 2, 1, 1, 0, 2, 1, 1,\n",
              "       1, 1, 1, 1, 2, 1, 0, 1, 2, 1, 1, 2, 1, 1, 1, 1, 2, 0, 2, 1, 1, 1,\n",
              "       2, 2, 2, 0, 0, 1, 1, 1, 1, 1, 2, 2, 1, 2, 1, 0, 2, 1, 1, 1, 1, 1,\n",
              "       2, 1, 1, 1, 2, 2, 1, 0, 2, 2, 2, 2, 1, 2, 2, 1, 1, 1, 1, 1, 0, 1,\n",
              "       0, 1, 1, 1, 2, 0, 1, 1, 1, 2, 2, 2, 0, 2, 0, 1, 2, 1, 2, 0, 2, 1,\n",
              "       1, 1, 2, 0, 1, 2, 2], dtype=int64)"
            ]
          },
          "execution_count": 118,
          "metadata": {},
          "output_type": "execute_result"
        }
      ],
      "source": [
        "predicted"
      ]
    },
    {
      "cell_type": "code",
      "execution_count": null,
      "metadata": {
        "id": "XdoYmhWQe-UU",
        "outputId": "9738082e-b9d2-4b3d-ea1c-50c3e4f0e97a"
      },
      "outputs": [
        {
          "name": "stdout",
          "output_type": "stream",
          "text": [
            "0.6911119001124325\n",
            "0.6911119001124325\n"
          ]
        }
      ],
      "source": [
        "from sklearn.metrics import f1_score\n",
        "print(f1_score(y_test, predicted, average='macro'))\n",
        "print(f1_score(y_test, predicted, average='macro'))"
      ]
    },
    {
      "cell_type": "code",
      "execution_count": null,
      "metadata": {
        "id": "mw_cVl9me-UV",
        "outputId": "37d2aec1-e7d3-4e8e-9384-1f632ff555fa"
      },
      "outputs": [
        {
          "name": "stdout",
          "output_type": "stream",
          "text": [
            "0.7338307520317544\n",
            "0.6757430309824942\n"
          ]
        }
      ],
      "source": [
        "from sklearn.metrics import precision_score\n",
        "print(precision_score(y_test, predicted, average = 'macro'))\n",
        "from sklearn.metrics import recall_score\n",
        "print(recall_score(y_test, predicted, average = 'macro'))"
      ]
    },
    {
      "cell_type": "code",
      "execution_count": null,
      "metadata": {
        "id": "dbwHDz3-e-UV"
      },
      "outputs": [],
      "source": [
        ""
      ]
    },
    {
      "cell_type": "markdown",
      "source": [
        "성적"
      ],
      "metadata": {
        "id": "64PJN-ZRpM67"
      }
    },
    {
      "cell_type": "code",
      "execution_count": null,
      "metadata": {
        "id": "DaS79N5Oe-UV",
        "outputId": "5ca576ef-652e-42a4-cc91-496709b39170"
      },
      "outputs": [
        {
          "name": "stdout",
          "output_type": "stream",
          "text": [
            "27142\n",
            "18672\n"
          ]
        }
      ],
      "source": [
        "data_full = dataset[['newvec','성적']]\n",
        "print(len(data_full))\n",
        "data_full = data_full[data_full['성적']!= -1]\n",
        "print(len(data_full))\n",
        "data = data_full['newvec']\n",
        "target = data_full['성적']\n",
        "target[target==0.5]=2\n",
        "target = target.astype('int')\n"
      ]
    },
    {
      "cell_type": "code",
      "execution_count": null,
      "metadata": {
        "id": "wUztQCpUe-UW"
      },
      "outputs": [],
      "source": [
        "# train_test_split\n",
        "X_train, X_test, y_train, y_test = train_test_split(data, target, test_size=0.25, shuffle=True, stratify=target, random_state=34)\n",
        "max_len = 200\n",
        "X_train = pad_sequences(X_train, maxlen=max_len)\n",
        "X_test = pad_sequences(X_test, maxlen=max_len)"
      ]
    },
    {
      "cell_type": "code",
      "execution_count": null,
      "metadata": {
        "id": "QJAjShq7e-UW"
      },
      "outputs": [],
      "source": [
        "y_pred = loaded_model1.predict(X_test)\n",
        "predicted = y_pred.argmax(axis=-1)"
      ]
    },
    {
      "cell_type": "code",
      "execution_count": null,
      "metadata": {
        "id": "AYBBBq1ze-UX",
        "outputId": "20dca210-772a-4493-f3df-8257c49b5eec"
      },
      "outputs": [
        {
          "name": "stdout",
          "output_type": "stream",
          "text": [
            "성적\n",
            "0.6434682382183735\n",
            "0.7087768262323154\n",
            "0.6109675483491889\n"
          ]
        }
      ],
      "source": [
        "print('성적')\n",
        "print(f1_score(y_test, predicted, average='macro'))\n",
        "print(precision_score(y_test, predicted, average = 'macro'))\n",
        "print(recall_score(y_test, predicted, average = 'macro'))"
      ]
    },
    {
      "cell_type": "code",
      "execution_count": null,
      "metadata": {
        "id": "vzBlD6p7e-UX",
        "outputId": "78b9ed07-1b64-4a6a-a71b-6c03c3b4d375"
      },
      "outputs": [
        {
          "name": "stdout",
          "output_type": "stream",
          "text": [
            "27142\n",
            "17935\n"
          ]
        }
      ],
      "source": [
        "data_full = dataset[['newvec','로드']]\n",
        "print(len(data_full))\n",
        "data_full = data_full[data_full['로드']!= -1]\n",
        "print(len(data_full))\n",
        "data = data_full['newvec']\n",
        "target = data_full['로드']\n",
        "target[target==0.5]=2\n",
        "target = target.astype('int')\n",
        "\n",
        "# train_test_split\n",
        "X_train, X_test, y_train, y_test = train_test_split(data, target, test_size=0.25, shuffle=True, stratify=target, random_state=34)\n",
        "max_len = 200\n",
        "X_train = pad_sequences(X_train, maxlen=max_len)\n",
        "X_test = pad_sequences(X_test, maxlen=max_len)\n",
        "\n",
        "y_pred = loaded_model2.predict(X_test)\n",
        "predicted = y_pred.argmax(axis=-1)"
      ]
    },
    {
      "cell_type": "markdown",
      "source": [
        "로드"
      ],
      "metadata": {
        "id": "6Ssneod2pOxF"
      }
    },
    {
      "cell_type": "code",
      "execution_count": null,
      "metadata": {
        "id": "7hGHHgZZe-UY",
        "outputId": "0adf3800-2ce8-4fd0-f9b1-e235232ae61a"
      },
      "outputs": [
        {
          "name": "stdout",
          "output_type": "stream",
          "text": [
            "로드\n",
            "0.6287904239641868\n",
            "0.6748889174815577\n",
            "0.6089630667743344\n"
          ]
        }
      ],
      "source": [
        "print('로드')\n",
        "print(f1_score(y_test, predicted, average='macro'))\n",
        "print(precision_score(y_test, predicted, average = 'macro'))\n",
        "print(recall_score(y_test, predicted, average = 'macro'))"
      ]
    },
    {
      "cell_type": "markdown",
      "source": [
        "강의력"
      ],
      "metadata": {
        "id": "mlGeBcI8pQ8N"
      }
    },
    {
      "cell_type": "code",
      "execution_count": null,
      "metadata": {
        "id": "jBvRwEBye-UY",
        "outputId": "0b8f4904-97e1-4301-c709-5299d9904b5a"
      },
      "outputs": [
        {
          "name": "stdout",
          "output_type": "stream",
          "text": [
            "27142\n",
            "20606\n"
          ]
        }
      ],
      "source": [
        "data_full = dataset[['newvec','강의력']]\n",
        "print(len(data_full))\n",
        "data_full = data_full[data_full['강의력']!= -1]\n",
        "print(len(data_full))\n",
        "data = data_full['newvec']\n",
        "target = data_full['강의력']\n",
        "target[target==0.5]=2\n",
        "target = target.astype('int')\n",
        "\n",
        "# train_test_split\n",
        "X_train, X_test, y_train, y_test = train_test_split(data, target, test_size=0.25, shuffle=True, stratify=target, random_state=34)\n",
        "max_len = 200\n",
        "X_train = pad_sequences(X_train, maxlen=max_len)\n",
        "X_test = pad_sequences(X_test, maxlen=max_len)\n",
        "\n",
        "y_pred = loaded_model3.predict(X_test)\n",
        "predicted = y_pred.argmax(axis=-1)"
      ]
    },
    {
      "cell_type": "code",
      "execution_count": null,
      "metadata": {
        "id": "tNwrItHGe-UY",
        "outputId": "0c1fe45c-904c-4529-a277-b4d2b0ed728d"
      },
      "outputs": [
        {
          "name": "stdout",
          "output_type": "stream",
          "text": [
            "강의력\n",
            "0.6324558154750201\n",
            "0.6550215357756519\n",
            "0.6230397808416437\n"
          ]
        }
      ],
      "source": [
        "print('강의력')\n",
        "print(f1_score(y_test, predicted, average='macro'))\n",
        "print(precision_score(y_test, predicted, average = 'macro'))\n",
        "print(recall_score(y_test, predicted, average = 'macro'))"
      ]
    },
    {
      "cell_type": "markdown",
      "source": [
        "교수님 성향"
      ],
      "metadata": {
        "id": "3FOxj3XgpSVS"
      }
    },
    {
      "cell_type": "code",
      "execution_count": null,
      "metadata": {
        "id": "VJw-u4Z-e-UZ",
        "outputId": "55a78b73-c1c6-4d52-aef5-a75c4e7d6d58"
      },
      "outputs": [
        {
          "name": "stdout",
          "output_type": "stream",
          "text": [
            "27142\n",
            "14234\n"
          ]
        }
      ],
      "source": [
        "data_full = dataset[['newvec','교수님성향']]\n",
        "print(len(data_full))\n",
        "data_full = data_full[data_full['교수님성향']!= -1]\n",
        "print(len(data_full))\n",
        "data = data_full['newvec']\n",
        "target = data_full['교수님성향']\n",
        "target[target==0.5]=2\n",
        "target = target.astype('int')\n",
        "\n",
        "# train_test_split\n",
        "X_train, X_test, y_train, y_test = train_test_split(data, target, test_size=0.25, shuffle=True, stratify=target, random_state=34)\n",
        "max_len = 200\n",
        "X_train = pad_sequences(X_train, maxlen=max_len)\n",
        "X_test = pad_sequences(X_test, maxlen=max_len)\n",
        "\n",
        "y_pred = loaded_model4.predict(X_test)\n",
        "predicted = y_pred.argmax(axis=-1)"
      ]
    },
    {
      "cell_type": "code",
      "execution_count": null,
      "metadata": {
        "id": "On6stB89e-UZ",
        "outputId": "f6f1d6e1-733d-4eba-9a58-7b46350d1b39"
      },
      "outputs": [
        {
          "name": "stdout",
          "output_type": "stream",
          "text": [
            "교수님성향\n",
            "0.586846253044271\n",
            "0.6260689042483629\n",
            "0.5634481185642288\n"
          ]
        }
      ],
      "source": [
        "print('교수님성향')\n",
        "print(f1_score(y_test, predicted, average='macro'))\n",
        "print(precision_score(y_test, predicted, average = 'macro'))\n",
        "print(recall_score(y_test, predicted, average = 'macro'))"
      ]
    },
    {
      "cell_type": "markdown",
      "source": [
        "강의자료 질"
      ],
      "metadata": {
        "id": "ldt-_QuEpXQW"
      }
    },
    {
      "cell_type": "code",
      "execution_count": null,
      "metadata": {
        "id": "HTZec0_ie-UZ",
        "outputId": "d2244ef3-0760-4af2-ccf5-76734eadedf5"
      },
      "outputs": [
        {
          "name": "stdout",
          "output_type": "stream",
          "text": [
            "27142\n",
            "4877\n"
          ]
        }
      ],
      "source": [
        "data_full = dataset[['newvec','강의자료질']]\n",
        "print(len(data_full))\n",
        "data_full = data_full[data_full['강의자료질']!= -1]\n",
        "print(len(data_full))\n",
        "data = data_full['newvec']\n",
        "target = data_full['강의자료질']\n",
        "target[target==0.5]=2\n",
        "target = target.astype('int')\n",
        "\n",
        "# train_test_split\n",
        "X_train, X_test, y_train, y_test = train_test_split(data, target, test_size=0.25, shuffle=True, stratify=target, random_state=34)\n",
        "max_len = 200\n",
        "X_train = pad_sequences(X_train, maxlen=max_len)\n",
        "X_test = pad_sequences(X_test, maxlen=max_len)\n",
        "\n",
        "y_pred = loaded_model5.predict(X_test)\n",
        "predicted = y_pred.argmax(axis=-1)"
      ]
    },
    {
      "cell_type": "code",
      "execution_count": null,
      "metadata": {
        "id": "Q7kxzFPfe-Ua",
        "outputId": "1f4f7fc9-d849-4506-eb8c-3dcc3925dc4f"
      },
      "outputs": [
        {
          "name": "stdout",
          "output_type": "stream",
          "text": [
            "강의자료질\n",
            "0.6134032795997776\n",
            "0.709533727690074\n",
            "0.5655030504925925\n"
          ]
        }
      ],
      "source": [
        "print('강의자료질')\n",
        "print(f1_score(y_test, predicted, average='macro'))\n",
        "print(precision_score(y_test, predicted, average = 'macro'))\n",
        "print(recall_score(y_test, predicted, average = 'macro'))"
      ]
    },
    {
      "cell_type": "code",
      "execution_count": null,
      "metadata": {
        "id": "nUF-P5mPe-Ua"
      },
      "outputs": [],
      "source": [
        "def sentiment_predict(s):\n",
        "    s = re.sub(\"[^ㄱ-ㅎㅏ-ㅣ가-힣 ]\", \"\", s)\n",
        "    s = re.sub('^ +', \"\", s)\n",
        "        \n",
        "    s = okt.morphs(s, stem=True) # 토큰화\n",
        "    s = [word for word in s if not word in stopwords] # 불용어 제거\n",
        "        \n",
        "    encoded = tokenizer.texts_to_sequences([s]) # 정수 인코딩\n",
        "    padded = pad_sequences(encoded, maxlen=max_len) # 패딩\n",
        "    score1 = loaded_model1.predict(padded)\n",
        "    score1 = list(score1.flatten())\n",
        "    label1 = score1.index(max(score1))\n",
        "    \n",
        "    score2 = loaded_model2.predict(padded)\n",
        "    score2 = list(score2.flatten())\n",
        "    label2 = score2.index(max(score2))\n",
        "    \n",
        "    score3 = loaded_model3.predict(padded)\n",
        "    score3 = list(score3.flatten())\n",
        "    label3 = score3.index(max(score3))\n",
        "    \n",
        "    score4 = loaded_model4.predict(padded)\n",
        "    score4 = list(score4.flatten())\n",
        "    label4 = score4.index(max(score4))\n",
        "    \n",
        "    score5 = loaded_model5.predict(padded)\n",
        "    score5 = list(score5.flatten())\n",
        "    label5 = score5.index(max(score5))\n",
        "    \n",
        "    score6 = loaded_model6.predict(padded)\n",
        "    score6 = list(score6.flatten())\n",
        "    label6 = score6.index(max(score6))\n",
        "    \n",
        "    if (label1 == 1):\n",
        "        print(\"성적을 잘 주는 강의입니다.\\n\")\n",
        "    elif (label1 == 0):\n",
        "        print(\"성적을 잘 주지 않는 강의입니다.\\n\")\n",
        "    elif (label1 == 2):\n",
        "        print(\"성적을 잘 주지도 안 주지도 않는 강의입니다.\\n\")\n",
        "    else:pass\n",
        "    \n",
        "        \n",
        "    if (label2 == 1):\n",
        "        print(\"로드가 적은 강의입니다.\\n\")\n",
        "    elif (label2 == 0):\n",
        "        print(\"로드가 많은 강의입니다.\\n\")\n",
        "    elif (label2 == 2):\n",
        "        print(\"로드가 많지도 적지도 않은 강의입니다.\\n\")\n",
        "    else: pass\n",
        "    \n",
        "    if (label3 == 1):\n",
        "        print(\"강의력이 좋은 강의입니다.\\n\")\n",
        "    elif (label3 == 0):\n",
        "        print(\"강의력이 좋지 않은 강의입니다.\\n\")\n",
        "    elif (label3 == 2):\n",
        "        print(\"강의력이 좋지도, 안 좋지도 않은 강의입니다.\\n\")\n",
        "    else: pass\n",
        "    \n",
        "    if (label4 == 1):\n",
        "        print(\"교수님의 성향이 좋은 편인 강의입니다.\\n\")\n",
        "    elif (label4 == 0):\n",
        "        print(\"교수님의 성향이 좋지 않은 편인 강의입니다.\\n\")\n",
        "    elif (label4 == 2):\n",
        "        print(\"교수님의 성향이 보통인 강의입니다.\\n\")\n",
        "    else: pass\n",
        "    \n",
        "    if (label5 == 1):\n",
        "        print(\"강의 자료 질이 좋은 강의입니다.\\n\")\n",
        "    elif (label5 == 0):\n",
        "        print(\"강의 자료 질이 좋지 않은 강의입니다.\\n\")\n",
        "    elif (label5 == 2):\n",
        "        print(\"강의 자료 질이 보통인 강의입니다.\\n\")\n",
        "    else: pass\n",
        "    \n",
        "    if (label6 == 1):\n",
        "        print(\"족보를 타는 과목입니다.\\n\")\n",
        "    elif (label6 == 0):\n",
        "        print(\"족보를 타지 않는 과목입니다.\\n\")\n",
        "    elif (label6 == 2):\n",
        "        print(\"족보에 대한 언급은 있으나 애매한 과목입니다.\\n\")\n",
        "    else: pass\n",
        "    \n",
        "while (True):\n",
        "    text = input(\"강의평을 입력하세요 (취소 : q 입력)\\n\")\n",
        "    if text == 'q':\n",
        "        print('강의평 입력을 중지합니다.')\n",
        "        break\n",
        "    sentiment_predict(text)"
      ]
    }
  ],
  "metadata": {
    "kernelspec": {
      "display_name": "Python 3",
      "language": "python",
      "name": "python3"
    },
    "language_info": {
      "codemirror_mode": {
        "name": "ipython",
        "version": 3
      },
      "file_extension": ".py",
      "mimetype": "text/x-python",
      "name": "python",
      "nbconvert_exporter": "python",
      "pygments_lexer": "ipython3",
      "version": "3.8.3"
    },
    "colab": {
      "name": "1D_CNN.ipynb",
      "provenance": []
    }
  },
  "nbformat": 4,
  "nbformat_minor": 0
}