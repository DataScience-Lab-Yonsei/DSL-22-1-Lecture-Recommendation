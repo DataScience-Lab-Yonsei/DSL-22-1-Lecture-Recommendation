{
  "nbformat": 4,
  "nbformat_minor": 0,
  "metadata": {
    "colab": {
      "name": "preprocessing_tokenize.ipynb",
      "provenance": [],
      "collapsed_sections": [],
      "mount_file_id": "1Jy6g1qGDSdSc0PH1T5Vfyuls9mRuk46f",
      "authorship_tag": "ABX9TyP3cPHaqF02JOjuXP0YKNNc",
      "include_colab_link": true
    },
    "kernelspec": {
      "name": "python3",
      "display_name": "Python 3"
    },
    "language_info": {
      "name": "python"
    },
    "accelerator": "GPU"
  },
  "cells": [
    {
      "cell_type": "markdown",
      "metadata": {
        "id": "view-in-github",
        "colab_type": "text"
      },
      "source": [
        "<a href=\"https://colab.research.google.com/github/shkim0116/Lecture-Recommendation-NLP/blob/main/preprocessing_tokenize.ipynb\" target=\"_parent\"><img src=\"https://colab.research.google.com/assets/colab-badge.svg\" alt=\"Open In Colab\"/></a>"
      ]
    },
    {
      "cell_type": "code",
      "source": [
        "import os, sys\n",
        "from google.colab import drive\n",
        "drive.mount('/content/drive')"
      ],
      "metadata": {
        "id": "HvqfdBNCcs2d"
      },
      "execution_count": null,
      "outputs": []
    },
    {
      "cell_type": "code",
      "source": [
        "!pip install contextualized-topic-models==2.2.0\n",
        "!pip install pyldavis\n",
        "!git clone https://github.com/SOMJANG/Mecab-ko-for-Google-Colab.git\n",
        "%cd Mecab-ko-for-Google-Colab\n",
        "!bash install_mecab-ko_on_colab190912.sh"
      ],
      "metadata": {
        "id": "mwOkxKHXOZnF"
      },
      "execution_count": null,
      "outputs": []
    },
    {
      "cell_type": "code",
      "source": [
        "import pandas as pd\n",
        "import numpy as np\n",
        "from konlpy.tag import Okt, Mecab\n",
        "from tqdm import tqdm"
      ],
      "metadata": {
        "id": "W97bU6foPGav"
      },
      "execution_count": null,
      "outputs": []
    },
    {
      "cell_type": "code",
      "source": [
        "label = pd.read_csv(\"/content/drive/Shareddrives/NLP모델링/labeling - labeling (1).csv\", encoding = 'cp949')\n",
        "\n",
        "#null값 0.5로 채우기\n",
        "label.fillna(0.5, inplace = True)\n",
        "\n",
        "#칼럼 이름 간단하게\n",
        "label.columns = ['암것','강의명/교수명','강의평','성적','로드','강의력','성향','족보','자료']\n",
        "\n",
        "#target data를 하나의 vector로 만들기\n",
        "target = [[label.iloc[i]['성적'],label.iloc[i]['로드'], label.iloc[i]['강의력'], label.iloc[i]['성향'], label.iloc[i]['족보'], label.iloc[i]['자료']]\\\n",
        "          for i in range(len(label))]\n",
        "\n",
        "#target 칼럼 추가\n",
        "label['target'] = target\n",
        "\n",
        "#새로운 데이터프레임\n",
        "label_target = label[['강의명/교수명','target']]"
      ],
      "metadata": {
        "id": "4AgCnoiSqwrG",
        "cellView": "code"
      },
      "execution_count": null,
      "outputs": []
    },
    {
      "cell_type": "code",
      "source": [
        "import os\n",
        "\n",
        "path = '/content/drive/Shareddrives/NLP모델링/강의평 데이터/크롤링 통합'\n",
        "file_list = os.listdir(path)\n",
        "\n",
        "#강의평 불러오기\n",
        "df = pd.DataFrame()\n",
        "for i in file_list:\n",
        "    data = pd.read_csv(path+ '/' + i)\n",
        "    df = pd.concat([df,data])\n",
        "\n",
        "#index reset\n",
        "review = df.reset_index(drop = True)\n",
        "review_dropd = review.drop_duplicates(keep = 'first')\n",
        "\n",
        "#'강의명/교수명' 칼럼 생성\n",
        "review_copy = review_dropd.copy()\n",
        "review_copy['강의명/교수명'] = review_copy['강의명']+'/'+review_copy['교수명']\n",
        "\n",
        "#강의평 개수가 20개 이상인 것들만 강의평 불러오기\n",
        "save = pd.merge(review_copy[['강의명/교수명']].drop_duplicates(keep = 'first'),review_copy.groupby('강의명/교수명').count()[['강의평']], on = '강의명/교수명')\n",
        "save1 = save[save['강의평'] >= 20]\n",
        "over20review = pd.merge(review_copy,save1, how = 'inner',on = '강의명/교수명')\n",
        "over20review_1 = over20review[['강의명/교수명','강의평_x']]\n",
        "over20review_1.columns = ['강의명/교수명','강의평']"
      ],
      "metadata": {
        "id": "j0arrZTw1Uys"
      },
      "execution_count": null,
      "outputs": []
    },
    {
      "cell_type": "code",
      "source": [
        "#강의평과 target vector merge\n",
        "dataset = pd.merge(over20review_1, label_target, how = 'inner', on='강의명/교수명')\n",
        "dataset.head()"
      ],
      "metadata": {
        "colab": {
          "base_uri": "https://localhost:8080/",
          "height": 337
        },
        "id": "nNzIR2jsEFcf",
        "outputId": "4a772117-7f95-42dc-c57c-18e1599762c9"
      },
      "execution_count": null,
      "outputs": [
        {
          "output_type": "execute_result",
          "data": {
            "text/plain": [
              "       강의명/교수명                                                강의평  \\\n",
              "0  대학기본영어Ⅱ/오진숙                   어렵지 않은 내용으로 탄탄한 기본기를 다져주는 유익한 수업   \n",
              "1  대학기본영어Ⅱ/오진숙  교수님 너무 귀여우심... 사랑해요\\n자잘한 과제들 귀찮긴 했지만 시간투자 그렇게 ...   \n",
              "2  대학기본영어Ⅱ/오진숙  완전 좋음 2학기 때 내가 살아있던 이유.. 기말 때 갑자기 시험을 세번 본 거는 ...   \n",
              "3  대학기본영어Ⅱ/오진숙  영어 말하는 데에 자신감을 얻고 싶으면 추천 다만 과제는 자잘한게 많고 필자는 1학...   \n",
              "4  대학기본영어Ⅱ/오진숙  수강당시에는 조모임 비율도 높았고 발음 중시하시는건 왜 그러시는지 잘 이해가지 않지...   \n",
              "\n",
              "                           target  \n",
              "0  [1.0, 0.5, 0.5, 1.0, 0.0, 0.5]  \n",
              "1  [1.0, 0.5, 0.5, 1.0, 0.0, 0.5]  \n",
              "2  [1.0, 0.5, 0.5, 1.0, 0.0, 0.5]  \n",
              "3  [1.0, 0.5, 0.5, 1.0, 0.0, 0.5]  \n",
              "4  [1.0, 0.5, 0.5, 1.0, 0.0, 0.5]  "
            ],
            "text/html": [
              "\n",
              "  <div id=\"df-ff23c4d4-a5d4-4faa-8e72-28a1da26beee\">\n",
              "    <div class=\"colab-df-container\">\n",
              "      <div>\n",
              "<style scoped>\n",
              "    .dataframe tbody tr th:only-of-type {\n",
              "        vertical-align: middle;\n",
              "    }\n",
              "\n",
              "    .dataframe tbody tr th {\n",
              "        vertical-align: top;\n",
              "    }\n",
              "\n",
              "    .dataframe thead th {\n",
              "        text-align: right;\n",
              "    }\n",
              "</style>\n",
              "<table border=\"1\" class=\"dataframe\">\n",
              "  <thead>\n",
              "    <tr style=\"text-align: right;\">\n",
              "      <th></th>\n",
              "      <th>강의명/교수명</th>\n",
              "      <th>강의평</th>\n",
              "      <th>target</th>\n",
              "    </tr>\n",
              "  </thead>\n",
              "  <tbody>\n",
              "    <tr>\n",
              "      <th>0</th>\n",
              "      <td>대학기본영어Ⅱ/오진숙</td>\n",
              "      <td>어렵지 않은 내용으로 탄탄한 기본기를 다져주는 유익한 수업</td>\n",
              "      <td>[1.0, 0.5, 0.5, 1.0, 0.0, 0.5]</td>\n",
              "    </tr>\n",
              "    <tr>\n",
              "      <th>1</th>\n",
              "      <td>대학기본영어Ⅱ/오진숙</td>\n",
              "      <td>교수님 너무 귀여우심... 사랑해요\\n자잘한 과제들 귀찮긴 했지만 시간투자 그렇게 ...</td>\n",
              "      <td>[1.0, 0.5, 0.5, 1.0, 0.0, 0.5]</td>\n",
              "    </tr>\n",
              "    <tr>\n",
              "      <th>2</th>\n",
              "      <td>대학기본영어Ⅱ/오진숙</td>\n",
              "      <td>완전 좋음 2학기 때 내가 살아있던 이유.. 기말 때 갑자기 시험을 세번 본 거는 ...</td>\n",
              "      <td>[1.0, 0.5, 0.5, 1.0, 0.0, 0.5]</td>\n",
              "    </tr>\n",
              "    <tr>\n",
              "      <th>3</th>\n",
              "      <td>대학기본영어Ⅱ/오진숙</td>\n",
              "      <td>영어 말하는 데에 자신감을 얻고 싶으면 추천 다만 과제는 자잘한게 많고 필자는 1학...</td>\n",
              "      <td>[1.0, 0.5, 0.5, 1.0, 0.0, 0.5]</td>\n",
              "    </tr>\n",
              "    <tr>\n",
              "      <th>4</th>\n",
              "      <td>대학기본영어Ⅱ/오진숙</td>\n",
              "      <td>수강당시에는 조모임 비율도 높았고 발음 중시하시는건 왜 그러시는지 잘 이해가지 않지...</td>\n",
              "      <td>[1.0, 0.5, 0.5, 1.0, 0.0, 0.5]</td>\n",
              "    </tr>\n",
              "  </tbody>\n",
              "</table>\n",
              "</div>\n",
              "      <button class=\"colab-df-convert\" onclick=\"convertToInteractive('df-ff23c4d4-a5d4-4faa-8e72-28a1da26beee')\"\n",
              "              title=\"Convert this dataframe to an interactive table.\"\n",
              "              style=\"display:none;\">\n",
              "        \n",
              "  <svg xmlns=\"http://www.w3.org/2000/svg\" height=\"24px\"viewBox=\"0 0 24 24\"\n",
              "       width=\"24px\">\n",
              "    <path d=\"M0 0h24v24H0V0z\" fill=\"none\"/>\n",
              "    <path d=\"M18.56 5.44l.94 2.06.94-2.06 2.06-.94-2.06-.94-.94-2.06-.94 2.06-2.06.94zm-11 1L8.5 8.5l.94-2.06 2.06-.94-2.06-.94L8.5 2.5l-.94 2.06-2.06.94zm10 10l.94 2.06.94-2.06 2.06-.94-2.06-.94-.94-2.06-.94 2.06-2.06.94z\"/><path d=\"M17.41 7.96l-1.37-1.37c-.4-.4-.92-.59-1.43-.59-.52 0-1.04.2-1.43.59L10.3 9.45l-7.72 7.72c-.78.78-.78 2.05 0 2.83L4 21.41c.39.39.9.59 1.41.59.51 0 1.02-.2 1.41-.59l7.78-7.78 2.81-2.81c.8-.78.8-2.07 0-2.86zM5.41 20L4 18.59l7.72-7.72 1.47 1.35L5.41 20z\"/>\n",
              "  </svg>\n",
              "      </button>\n",
              "      \n",
              "  <style>\n",
              "    .colab-df-container {\n",
              "      display:flex;\n",
              "      flex-wrap:wrap;\n",
              "      gap: 12px;\n",
              "    }\n",
              "\n",
              "    .colab-df-convert {\n",
              "      background-color: #E8F0FE;\n",
              "      border: none;\n",
              "      border-radius: 50%;\n",
              "      cursor: pointer;\n",
              "      display: none;\n",
              "      fill: #1967D2;\n",
              "      height: 32px;\n",
              "      padding: 0 0 0 0;\n",
              "      width: 32px;\n",
              "    }\n",
              "\n",
              "    .colab-df-convert:hover {\n",
              "      background-color: #E2EBFA;\n",
              "      box-shadow: 0px 1px 2px rgba(60, 64, 67, 0.3), 0px 1px 3px 1px rgba(60, 64, 67, 0.15);\n",
              "      fill: #174EA6;\n",
              "    }\n",
              "\n",
              "    [theme=dark] .colab-df-convert {\n",
              "      background-color: #3B4455;\n",
              "      fill: #D2E3FC;\n",
              "    }\n",
              "\n",
              "    [theme=dark] .colab-df-convert:hover {\n",
              "      background-color: #434B5C;\n",
              "      box-shadow: 0px 1px 3px 1px rgba(0, 0, 0, 0.15);\n",
              "      filter: drop-shadow(0px 1px 2px rgba(0, 0, 0, 0.3));\n",
              "      fill: #FFFFFF;\n",
              "    }\n",
              "  </style>\n",
              "\n",
              "      <script>\n",
              "        const buttonEl =\n",
              "          document.querySelector('#df-ff23c4d4-a5d4-4faa-8e72-28a1da26beee button.colab-df-convert');\n",
              "        buttonEl.style.display =\n",
              "          google.colab.kernel.accessAllowed ? 'block' : 'none';\n",
              "\n",
              "        async function convertToInteractive(key) {\n",
              "          const element = document.querySelector('#df-ff23c4d4-a5d4-4faa-8e72-28a1da26beee');\n",
              "          const dataTable =\n",
              "            await google.colab.kernel.invokeFunction('convertToInteractive',\n",
              "                                                     [key], {});\n",
              "          if (!dataTable) return;\n",
              "\n",
              "          const docLinkHtml = 'Like what you see? Visit the ' +\n",
              "            '<a target=\"_blank\" href=https://colab.research.google.com/notebooks/data_table.ipynb>data table notebook</a>'\n",
              "            + ' to learn more about interactive tables.';\n",
              "          element.innerHTML = '';\n",
              "          dataTable['output_type'] = 'display_data';\n",
              "          await google.colab.output.renderOutput(dataTable, element);\n",
              "          const docLink = document.createElement('div');\n",
              "          docLink.innerHTML = docLinkHtml;\n",
              "          element.appendChild(docLink);\n",
              "        }\n",
              "      </script>\n",
              "    </div>\n",
              "  </div>\n",
              "  "
            ]
          },
          "metadata": {},
          "execution_count": 24
        }
      ]
    },
    {
      "cell_type": "code",
      "source": [
        "#강의평 중 한글만 불러오기\n",
        "dataset['강의평'] = dataset['강의평'].str.replace(\"[^가-힣ㄱ-하-ㅣ ]\",\"\")\n",
        "dataset.head()"
      ],
      "metadata": {
        "colab": {
          "base_uri": "https://localhost:8080/",
          "height": 394
        },
        "id": "7sGTRS_NTjgB",
        "outputId": "34e5469f-24f4-465f-9575-8ec78b1daf67"
      },
      "execution_count": null,
      "outputs": [
        {
          "output_type": "stream",
          "name": "stderr",
          "text": [
            "/usr/local/lib/python3.7/dist-packages/ipykernel_launcher.py:2: FutureWarning: The default value of regex will change from True to False in a future version.\n",
            "  \n"
          ]
        },
        {
          "output_type": "execute_result",
          "data": {
            "text/plain": [
              "       강의명/교수명                                                강의평  \\\n",
              "0  대학기본영어Ⅱ/오진숙                   어렵지 않은 내용으로 탄탄한 기본기를 다져주는 유익한 수업   \n",
              "1  대학기본영어Ⅱ/오진숙  교수님 너무 귀여우심 사랑해요자잘한 과제들 귀찮긴 했지만 시간투자 그렇게 오래 걸리...   \n",
              "2  대학기본영어Ⅱ/오진숙  완전 좋음 학기 때 내가 살아있던 이유 기말 때 갑자기 시험을 세번 본 거는 당황스...   \n",
              "3  대학기본영어Ⅱ/오진숙  영어 말하는 데에 자신감을 얻고 싶으면 추천 다만 과제는 자잘한게 많고 필자는 학기...   \n",
              "4  대학기본영어Ⅱ/오진숙  수강당시에는 조모임 비율도 높았고 발음 중시하시는건 왜 그러시는지 잘 이해가지 않지...   \n",
              "\n",
              "                           target  \n",
              "0  [1.0, 0.5, 0.5, 1.0, 0.0, 0.5]  \n",
              "1  [1.0, 0.5, 0.5, 1.0, 0.0, 0.5]  \n",
              "2  [1.0, 0.5, 0.5, 1.0, 0.0, 0.5]  \n",
              "3  [1.0, 0.5, 0.5, 1.0, 0.0, 0.5]  \n",
              "4  [1.0, 0.5, 0.5, 1.0, 0.0, 0.5]  "
            ],
            "text/html": [
              "\n",
              "  <div id=\"df-364baabd-c596-426a-ac66-68342e958459\">\n",
              "    <div class=\"colab-df-container\">\n",
              "      <div>\n",
              "<style scoped>\n",
              "    .dataframe tbody tr th:only-of-type {\n",
              "        vertical-align: middle;\n",
              "    }\n",
              "\n",
              "    .dataframe tbody tr th {\n",
              "        vertical-align: top;\n",
              "    }\n",
              "\n",
              "    .dataframe thead th {\n",
              "        text-align: right;\n",
              "    }\n",
              "</style>\n",
              "<table border=\"1\" class=\"dataframe\">\n",
              "  <thead>\n",
              "    <tr style=\"text-align: right;\">\n",
              "      <th></th>\n",
              "      <th>강의명/교수명</th>\n",
              "      <th>강의평</th>\n",
              "      <th>target</th>\n",
              "    </tr>\n",
              "  </thead>\n",
              "  <tbody>\n",
              "    <tr>\n",
              "      <th>0</th>\n",
              "      <td>대학기본영어Ⅱ/오진숙</td>\n",
              "      <td>어렵지 않은 내용으로 탄탄한 기본기를 다져주는 유익한 수업</td>\n",
              "      <td>[1.0, 0.5, 0.5, 1.0, 0.0, 0.5]</td>\n",
              "    </tr>\n",
              "    <tr>\n",
              "      <th>1</th>\n",
              "      <td>대학기본영어Ⅱ/오진숙</td>\n",
              "      <td>교수님 너무 귀여우심 사랑해요자잘한 과제들 귀찮긴 했지만 시간투자 그렇게 오래 걸리...</td>\n",
              "      <td>[1.0, 0.5, 0.5, 1.0, 0.0, 0.5]</td>\n",
              "    </tr>\n",
              "    <tr>\n",
              "      <th>2</th>\n",
              "      <td>대학기본영어Ⅱ/오진숙</td>\n",
              "      <td>완전 좋음 학기 때 내가 살아있던 이유 기말 때 갑자기 시험을 세번 본 거는 당황스...</td>\n",
              "      <td>[1.0, 0.5, 0.5, 1.0, 0.0, 0.5]</td>\n",
              "    </tr>\n",
              "    <tr>\n",
              "      <th>3</th>\n",
              "      <td>대학기본영어Ⅱ/오진숙</td>\n",
              "      <td>영어 말하는 데에 자신감을 얻고 싶으면 추천 다만 과제는 자잘한게 많고 필자는 학기...</td>\n",
              "      <td>[1.0, 0.5, 0.5, 1.0, 0.0, 0.5]</td>\n",
              "    </tr>\n",
              "    <tr>\n",
              "      <th>4</th>\n",
              "      <td>대학기본영어Ⅱ/오진숙</td>\n",
              "      <td>수강당시에는 조모임 비율도 높았고 발음 중시하시는건 왜 그러시는지 잘 이해가지 않지...</td>\n",
              "      <td>[1.0, 0.5, 0.5, 1.0, 0.0, 0.5]</td>\n",
              "    </tr>\n",
              "  </tbody>\n",
              "</table>\n",
              "</div>\n",
              "      <button class=\"colab-df-convert\" onclick=\"convertToInteractive('df-364baabd-c596-426a-ac66-68342e958459')\"\n",
              "              title=\"Convert this dataframe to an interactive table.\"\n",
              "              style=\"display:none;\">\n",
              "        \n",
              "  <svg xmlns=\"http://www.w3.org/2000/svg\" height=\"24px\"viewBox=\"0 0 24 24\"\n",
              "       width=\"24px\">\n",
              "    <path d=\"M0 0h24v24H0V0z\" fill=\"none\"/>\n",
              "    <path d=\"M18.56 5.44l.94 2.06.94-2.06 2.06-.94-2.06-.94-.94-2.06-.94 2.06-2.06.94zm-11 1L8.5 8.5l.94-2.06 2.06-.94-2.06-.94L8.5 2.5l-.94 2.06-2.06.94zm10 10l.94 2.06.94-2.06 2.06-.94-2.06-.94-.94-2.06-.94 2.06-2.06.94z\"/><path d=\"M17.41 7.96l-1.37-1.37c-.4-.4-.92-.59-1.43-.59-.52 0-1.04.2-1.43.59L10.3 9.45l-7.72 7.72c-.78.78-.78 2.05 0 2.83L4 21.41c.39.39.9.59 1.41.59.51 0 1.02-.2 1.41-.59l7.78-7.78 2.81-2.81c.8-.78.8-2.07 0-2.86zM5.41 20L4 18.59l7.72-7.72 1.47 1.35L5.41 20z\"/>\n",
              "  </svg>\n",
              "      </button>\n",
              "      \n",
              "  <style>\n",
              "    .colab-df-container {\n",
              "      display:flex;\n",
              "      flex-wrap:wrap;\n",
              "      gap: 12px;\n",
              "    }\n",
              "\n",
              "    .colab-df-convert {\n",
              "      background-color: #E8F0FE;\n",
              "      border: none;\n",
              "      border-radius: 50%;\n",
              "      cursor: pointer;\n",
              "      display: none;\n",
              "      fill: #1967D2;\n",
              "      height: 32px;\n",
              "      padding: 0 0 0 0;\n",
              "      width: 32px;\n",
              "    }\n",
              "\n",
              "    .colab-df-convert:hover {\n",
              "      background-color: #E2EBFA;\n",
              "      box-shadow: 0px 1px 2px rgba(60, 64, 67, 0.3), 0px 1px 3px 1px rgba(60, 64, 67, 0.15);\n",
              "      fill: #174EA6;\n",
              "    }\n",
              "\n",
              "    [theme=dark] .colab-df-convert {\n",
              "      background-color: #3B4455;\n",
              "      fill: #D2E3FC;\n",
              "    }\n",
              "\n",
              "    [theme=dark] .colab-df-convert:hover {\n",
              "      background-color: #434B5C;\n",
              "      box-shadow: 0px 1px 3px 1px rgba(0, 0, 0, 0.15);\n",
              "      filter: drop-shadow(0px 1px 2px rgba(0, 0, 0, 0.3));\n",
              "      fill: #FFFFFF;\n",
              "    }\n",
              "  </style>\n",
              "\n",
              "      <script>\n",
              "        const buttonEl =\n",
              "          document.querySelector('#df-364baabd-c596-426a-ac66-68342e958459 button.colab-df-convert');\n",
              "        buttonEl.style.display =\n",
              "          google.colab.kernel.accessAllowed ? 'block' : 'none';\n",
              "\n",
              "        async function convertToInteractive(key) {\n",
              "          const element = document.querySelector('#df-364baabd-c596-426a-ac66-68342e958459');\n",
              "          const dataTable =\n",
              "            await google.colab.kernel.invokeFunction('convertToInteractive',\n",
              "                                                     [key], {});\n",
              "          if (!dataTable) return;\n",
              "\n",
              "          const docLinkHtml = 'Like what you see? Visit the ' +\n",
              "            '<a target=\"_blank\" href=https://colab.research.google.com/notebooks/data_table.ipynb>data table notebook</a>'\n",
              "            + ' to learn more about interactive tables.';\n",
              "          element.innerHTML = '';\n",
              "          dataTable['output_type'] = 'display_data';\n",
              "          await google.colab.output.renderOutput(dataTable, element);\n",
              "          const docLink = document.createElement('div');\n",
              "          docLink.innerHTML = docLinkHtml;\n",
              "          element.appendChild(docLink);\n",
              "        }\n",
              "      </script>\n",
              "    </div>\n",
              "  </div>\n",
              "  "
            ]
          },
          "metadata": {},
          "execution_count": 25
        }
      ]
    },
    {
      "cell_type": "code",
      "source": [
        "okt = Okt()\n",
        "stop = ['Josa','Suffix','Punctuation', 'Foreign', 'Number']\n",
        "\n",
        "tokenized = []\n",
        "for review in tqdm(dataset['강의평']):\n",
        "    t = okt.pos(review, stem = True)\n",
        "    t = [w[0] for w in t if w[1] not in stop]\n",
        "    tokenized.append(t)"
      ],
      "metadata": {
        "id": "a5tyYk-RRLV6",
        "colab": {
          "base_uri": "https://localhost:8080/"
        },
        "outputId": "dfaa16ea-3725-43e7-86de-0730edee277d"
      },
      "execution_count": null,
      "outputs": [
        {
          "output_type": "stream",
          "name": "stderr",
          "text": [
            "100%|██████████| 27142/27142 [05:08<00:00, 87.97it/s]\n"
          ]
        }
      ]
    },
    {
      "cell_type": "code",
      "source": [
        "dataset_reviewtoken = dataset.copy()\n",
        "dataset_reviewtoken['강의평토큰화'] = tokenized"
      ],
      "metadata": {
        "id": "W8robiiBF4ee"
      },
      "execution_count": null,
      "outputs": []
    },
    {
      "cell_type": "code",
      "source": [
        "tokenized_reduce = [i for i in tokenized if len(i) > 1]"
      ],
      "metadata": {
        "id": "nI2zAq-rGqV-"
      },
      "execution_count": null,
      "outputs": []
    },
    {
      "cell_type": "code",
      "source": [
        "dataset_reduced = dataset_reviewtoken[dataset_reviewtoken['강의평토큰화'].isin(tokenized_reduce)]"
      ],
      "metadata": {
        "id": "kOcjvFKGYGS_"
      },
      "execution_count": null,
      "outputs": []
    },
    {
      "cell_type": "code",
      "source": [
        "# dataset_reduced.to_csv('/content/drive/Shareddrives/NLP모델링/코드 연습/문서/reviewtokenized.csv')"
      ],
      "metadata": {
        "id": "q-QD0j0qHoj6"
      },
      "execution_count": null,
      "outputs": []
    }
  ]
}