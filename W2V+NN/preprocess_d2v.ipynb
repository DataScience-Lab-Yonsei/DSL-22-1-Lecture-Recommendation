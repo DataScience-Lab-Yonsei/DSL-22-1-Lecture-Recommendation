{
  "nbformat": 4,
  "nbformat_minor": 0,
  "metadata": {
    "colab": {
      "name": "preprocess_d2v.ipynb",
      "provenance": [],
      "collapsed_sections": [],
      "mount_file_id": "1eimxOnxXCWYgJex4qCtFAIByZ9XAuT_a",
      "authorship_tag": "ABX9TyPB3J/9khtdRyNWfai2E3cE",
      "include_colab_link": true
    },
    "kernelspec": {
      "name": "python3",
      "display_name": "Python 3"
    },
    "language_info": {
      "name": "python"
    }
  },
  "cells": [
    {
      "cell_type": "markdown",
      "metadata": {
        "id": "view-in-github",
        "colab_type": "text"
      },
      "source": [
        "<a href=\"https://colab.research.google.com/github/shkim0116/Lecture-Recommendation-NLP/blob/main/preprocess_d2v.ipynb\" target=\"_parent\"><img src=\"https://colab.research.google.com/assets/colab-badge.svg\" alt=\"Open In Colab\"/></a>"
      ]
    },
    {
      "cell_type": "code",
      "execution_count": null,
      "metadata": {
        "id": "ETHEVFBXS7bB"
      },
      "outputs": [],
      "source": [
        "import numpy as np\n",
        "import pandas as pd\n",
        "from sklearn.feature_extraction.text import TfidfVectorizer\n",
        "from gensim.models.doc2vec import Doc2Vec, TaggedDocument\n",
        "from tqdm import tqdm\n",
        "\n",
        "data = pd.read_csv('/content/drive/Shareddrives/NLP모델링/코드 연습/문서/reviewtokenized.csv')\n",
        "data['강의평토큰화'] = [list(map(str, data['강의평토큰화'].iloc[i][2:-2].split(\"', '\"))) for i in range(len(data))]\n",
        "data['target'] = [list(map(float, data['target'].iloc[i][1:-1].split(', '))) for i in range(len(data))]"
      ]
    },
    {
      "cell_type": "code",
      "source": [
        "data.head()"
      ],
      "metadata": {
        "colab": {
          "base_uri": "https://localhost:8080/",
          "height": 354
        },
        "id": "JDWNf7XasROM",
        "outputId": "9bf71d59-4441-4fb7-cb25-231161df75e0"
      },
      "execution_count": null,
      "outputs": [
        {
          "output_type": "execute_result",
          "data": {
            "text/plain": [
              "   Unnamed: 0      강의명/교수명                                                강의평  \\\n",
              "0           0  대학기본영어Ⅱ/오진숙                   어렵지 않은 내용으로 탄탄한 기본기를 다져주는 유익한 수업   \n",
              "1           1  대학기본영어Ⅱ/오진숙  교수님 너무 귀여우심 사랑해요자잘한 과제들 귀찮긴 했지만 시간투자 그렇게 오래 걸리...   \n",
              "2           2  대학기본영어Ⅱ/오진숙  완전 좋음 학기 때 내가 살아있던 이유 기말 때 갑자기 시험을 세번 본 거는 당황스...   \n",
              "3           3  대학기본영어Ⅱ/오진숙  영어 말하는 데에 자신감을 얻고 싶으면 추천 다만 과제는 자잘한게 많고 필자는 학기...   \n",
              "4           4  대학기본영어Ⅱ/오진숙  수강당시에는 조모임 비율도 높았고 발음 중시하시는건 왜 그러시는지 잘 이해가지 않지...   \n",
              "\n",
              "                           target  \\\n",
              "0  [1.0, 0.5, 0.5, 1.0, 0.0, 0.5]   \n",
              "1  [1.0, 0.5, 0.5, 1.0, 0.0, 0.5]   \n",
              "2  [1.0, 0.5, 0.5, 1.0, 0.0, 0.5]   \n",
              "3  [1.0, 0.5, 0.5, 1.0, 0.0, 0.5]   \n",
              "4  [1.0, 0.5, 0.5, 1.0, 0.0, 0.5]   \n",
              "\n",
              "                                              강의평토큰화  \n",
              "0          [어렵다, 않다, 내용, 탄탄하다, 기, 본기, 다지다, 유익하다, 수업]  \n",
              "1  [교수, 너무, 귀, 여우, 심, 사랑, 하다, 자잘하다, 과제, 귀찮다, 하다, ...  \n",
              "2  [완전, 좋다, 학기, 때, 내, 살다, 이유, 기, 말, 때, 갑자기, 시험, 세...  \n",
              "3  [영어, 말, 하다, 데, 자신감, 얻다, 싶다, 추천, 다만, 과제, 자잘하다, ...  \n",
              "4  [수강, 당시, 조, 모임, 비율, 높다, 발음, 중시, 하다, 왜, 그렇다, 자다...  "
            ],
            "text/html": [
              "\n",
              "  <div id=\"df-5d861b63-ada4-40e8-848b-066a7bbb1674\">\n",
              "    <div class=\"colab-df-container\">\n",
              "      <div>\n",
              "<style scoped>\n",
              "    .dataframe tbody tr th:only-of-type {\n",
              "        vertical-align: middle;\n",
              "    }\n",
              "\n",
              "    .dataframe tbody tr th {\n",
              "        vertical-align: top;\n",
              "    }\n",
              "\n",
              "    .dataframe thead th {\n",
              "        text-align: right;\n",
              "    }\n",
              "</style>\n",
              "<table border=\"1\" class=\"dataframe\">\n",
              "  <thead>\n",
              "    <tr style=\"text-align: right;\">\n",
              "      <th></th>\n",
              "      <th>Unnamed: 0</th>\n",
              "      <th>강의명/교수명</th>\n",
              "      <th>강의평</th>\n",
              "      <th>target</th>\n",
              "      <th>강의평토큰화</th>\n",
              "    </tr>\n",
              "  </thead>\n",
              "  <tbody>\n",
              "    <tr>\n",
              "      <th>0</th>\n",
              "      <td>0</td>\n",
              "      <td>대학기본영어Ⅱ/오진숙</td>\n",
              "      <td>어렵지 않은 내용으로 탄탄한 기본기를 다져주는 유익한 수업</td>\n",
              "      <td>[1.0, 0.5, 0.5, 1.0, 0.0, 0.5]</td>\n",
              "      <td>[어렵다, 않다, 내용, 탄탄하다, 기, 본기, 다지다, 유익하다, 수업]</td>\n",
              "    </tr>\n",
              "    <tr>\n",
              "      <th>1</th>\n",
              "      <td>1</td>\n",
              "      <td>대학기본영어Ⅱ/오진숙</td>\n",
              "      <td>교수님 너무 귀여우심 사랑해요자잘한 과제들 귀찮긴 했지만 시간투자 그렇게 오래 걸리...</td>\n",
              "      <td>[1.0, 0.5, 0.5, 1.0, 0.0, 0.5]</td>\n",
              "      <td>[교수, 너무, 귀, 여우, 심, 사랑, 하다, 자잘하다, 과제, 귀찮다, 하다, ...</td>\n",
              "    </tr>\n",
              "    <tr>\n",
              "      <th>2</th>\n",
              "      <td>2</td>\n",
              "      <td>대학기본영어Ⅱ/오진숙</td>\n",
              "      <td>완전 좋음 학기 때 내가 살아있던 이유 기말 때 갑자기 시험을 세번 본 거는 당황스...</td>\n",
              "      <td>[1.0, 0.5, 0.5, 1.0, 0.0, 0.5]</td>\n",
              "      <td>[완전, 좋다, 학기, 때, 내, 살다, 이유, 기, 말, 때, 갑자기, 시험, 세...</td>\n",
              "    </tr>\n",
              "    <tr>\n",
              "      <th>3</th>\n",
              "      <td>3</td>\n",
              "      <td>대학기본영어Ⅱ/오진숙</td>\n",
              "      <td>영어 말하는 데에 자신감을 얻고 싶으면 추천 다만 과제는 자잘한게 많고 필자는 학기...</td>\n",
              "      <td>[1.0, 0.5, 0.5, 1.0, 0.0, 0.5]</td>\n",
              "      <td>[영어, 말, 하다, 데, 자신감, 얻다, 싶다, 추천, 다만, 과제, 자잘하다, ...</td>\n",
              "    </tr>\n",
              "    <tr>\n",
              "      <th>4</th>\n",
              "      <td>4</td>\n",
              "      <td>대학기본영어Ⅱ/오진숙</td>\n",
              "      <td>수강당시에는 조모임 비율도 높았고 발음 중시하시는건 왜 그러시는지 잘 이해가지 않지...</td>\n",
              "      <td>[1.0, 0.5, 0.5, 1.0, 0.0, 0.5]</td>\n",
              "      <td>[수강, 당시, 조, 모임, 비율, 높다, 발음, 중시, 하다, 왜, 그렇다, 자다...</td>\n",
              "    </tr>\n",
              "  </tbody>\n",
              "</table>\n",
              "</div>\n",
              "      <button class=\"colab-df-convert\" onclick=\"convertToInteractive('df-5d861b63-ada4-40e8-848b-066a7bbb1674')\"\n",
              "              title=\"Convert this dataframe to an interactive table.\"\n",
              "              style=\"display:none;\">\n",
              "        \n",
              "  <svg xmlns=\"http://www.w3.org/2000/svg\" height=\"24px\"viewBox=\"0 0 24 24\"\n",
              "       width=\"24px\">\n",
              "    <path d=\"M0 0h24v24H0V0z\" fill=\"none\"/>\n",
              "    <path d=\"M18.56 5.44l.94 2.06.94-2.06 2.06-.94-2.06-.94-.94-2.06-.94 2.06-2.06.94zm-11 1L8.5 8.5l.94-2.06 2.06-.94-2.06-.94L8.5 2.5l-.94 2.06-2.06.94zm10 10l.94 2.06.94-2.06 2.06-.94-2.06-.94-.94-2.06-.94 2.06-2.06.94z\"/><path d=\"M17.41 7.96l-1.37-1.37c-.4-.4-.92-.59-1.43-.59-.52 0-1.04.2-1.43.59L10.3 9.45l-7.72 7.72c-.78.78-.78 2.05 0 2.83L4 21.41c.39.39.9.59 1.41.59.51 0 1.02-.2 1.41-.59l7.78-7.78 2.81-2.81c.8-.78.8-2.07 0-2.86zM5.41 20L4 18.59l7.72-7.72 1.47 1.35L5.41 20z\"/>\n",
              "  </svg>\n",
              "      </button>\n",
              "      \n",
              "  <style>\n",
              "    .colab-df-container {\n",
              "      display:flex;\n",
              "      flex-wrap:wrap;\n",
              "      gap: 12px;\n",
              "    }\n",
              "\n",
              "    .colab-df-convert {\n",
              "      background-color: #E8F0FE;\n",
              "      border: none;\n",
              "      border-radius: 50%;\n",
              "      cursor: pointer;\n",
              "      display: none;\n",
              "      fill: #1967D2;\n",
              "      height: 32px;\n",
              "      padding: 0 0 0 0;\n",
              "      width: 32px;\n",
              "    }\n",
              "\n",
              "    .colab-df-convert:hover {\n",
              "      background-color: #E2EBFA;\n",
              "      box-shadow: 0px 1px 2px rgba(60, 64, 67, 0.3), 0px 1px 3px 1px rgba(60, 64, 67, 0.15);\n",
              "      fill: #174EA6;\n",
              "    }\n",
              "\n",
              "    [theme=dark] .colab-df-convert {\n",
              "      background-color: #3B4455;\n",
              "      fill: #D2E3FC;\n",
              "    }\n",
              "\n",
              "    [theme=dark] .colab-df-convert:hover {\n",
              "      background-color: #434B5C;\n",
              "      box-shadow: 0px 1px 3px 1px rgba(0, 0, 0, 0.15);\n",
              "      filter: drop-shadow(0px 1px 2px rgba(0, 0, 0, 0.3));\n",
              "      fill: #FFFFFF;\n",
              "    }\n",
              "  </style>\n",
              "\n",
              "      <script>\n",
              "        const buttonEl =\n",
              "          document.querySelector('#df-5d861b63-ada4-40e8-848b-066a7bbb1674 button.colab-df-convert');\n",
              "        buttonEl.style.display =\n",
              "          google.colab.kernel.accessAllowed ? 'block' : 'none';\n",
              "\n",
              "        async function convertToInteractive(key) {\n",
              "          const element = document.querySelector('#df-5d861b63-ada4-40e8-848b-066a7bbb1674');\n",
              "          const dataTable =\n",
              "            await google.colab.kernel.invokeFunction('convertToInteractive',\n",
              "                                                     [key], {});\n",
              "          if (!dataTable) return;\n",
              "\n",
              "          const docLinkHtml = 'Like what you see? Visit the ' +\n",
              "            '<a target=\"_blank\" href=https://colab.research.google.com/notebooks/data_table.ipynb>data table notebook</a>'\n",
              "            + ' to learn more about interactive tables.';\n",
              "          element.innerHTML = '';\n",
              "          dataTable['output_type'] = 'display_data';\n",
              "          await google.colab.output.renderOutput(dataTable, element);\n",
              "          const docLink = document.createElement('div');\n",
              "          docLink.innerHTML = docLinkHtml;\n",
              "          element.appendChild(docLink);\n",
              "        }\n",
              "      </script>\n",
              "    </div>\n",
              "  </div>\n",
              "  "
            ]
          },
          "metadata": {},
          "execution_count": 19
        }
      ]
    },
    {
      "cell_type": "code",
      "source": [
        "uniquecla = list(set(data['강의명/교수명'].values))"
      ],
      "metadata": {
        "id": "KJrkpDBshrVI"
      },
      "execution_count": null,
      "outputs": []
    },
    {
      "cell_type": "code",
      "source": [
        "aggword = []\n",
        "for j in tqdm(uniquecla):\n",
        "    index = data[data['강의명/교수명']==j].index\n",
        "    word = ''\n",
        "    for i in index:\n",
        "        word += data['강의평'][i] + '. '\n",
        "    aggword.append(word[:-1])"
      ],
      "metadata": {
        "colab": {
          "base_uri": "https://localhost:8080/"
        },
        "id": "iWES271fh3dU",
        "outputId": "e37fb79b-b566-4a43-87e4-0fdb5d8fcf5c"
      },
      "execution_count": null,
      "outputs": [
        {
          "output_type": "stream",
          "name": "stderr",
          "text": [
            "100%|██████████| 386/386 [00:01<00:00, 371.59it/s]\n"
          ]
        }
      ]
    },
    {
      "cell_type": "code",
      "source": [
        "target = []\n",
        "for i in uniquecla:\n",
        "    target.append(data['target'][data['강의명/교수명']==i].values[0])"
      ],
      "metadata": {
        "id": "0P6cYkBpkAxp"
      },
      "execution_count": null,
      "outputs": []
    },
    {
      "cell_type": "code",
      "source": [
        "data1 = pd.DataFrame({'강의명/교수명' : uniquecla,\\\n",
        "                      'target' : target,\\\n",
        "                      '강의평' : aggword})"
      ],
      "metadata": {
        "id": "xLZHyRCNiZVs"
      },
      "execution_count": null,
      "outputs": []
    },
    {
      "cell_type": "code",
      "source": [
        "data1"
      ],
      "metadata": {
        "colab": {
          "base_uri": "https://localhost:8080/",
          "height": 424
        },
        "id": "77sj4SMxtZO8",
        "outputId": "7b8a66f7-6fce-4e3b-edb7-3d9e9d7b587b"
      },
      "execution_count": null,
      "outputs": [
        {
          "output_type": "execute_result",
          "data": {
            "text/plain": [
              "                            강의명/교수명                          target  \\\n",
              "0    INTRODUCTION TO MANAGEMENT/천은영  [0.5, 1.0, 0.0, 0.5, 0.0, 0.5]   \n",
              "1                        생명공학수학/김영식  [1.0, 0.5, 0.0, 0.5, 0.5, 0.5]   \n",
              "2                         영어음성학/이석재  [1.0, 0.5, 1.0, 1.0, 0.5, 0.5]   \n",
              "3                         언론학개론/윤영철  [1.0, 0.0, 0.0, 0.5, 0.5, 0.5]   \n",
              "4                        사회복지개론/채주석  [1.0, 0.0, 0.5, 1.0, 0.5, 0.5]   \n",
              "..                              ...                             ...   \n",
              "381                 RC자기주도활동(2)/한봉환  [0.5, 0.5, 0.5, 0.5, 0.5, 0.5]   \n",
              "382         YONSEI RC 101-생명공학과/홍혜경  [0.5, 0.5, 0.5, 0.5, 0.5, 0.5]   \n",
              "383                        유기화학/심태보  [0.5, 0.5, 0.0, 0.0, 0.0, 0.5]   \n",
              "384                       한문(1)/김기완  [1.0, 1.0, 0.5, 1.0, 0.0, 0.5]   \n",
              "385                         글쓰기/이시은  [1.0, 1.0, 1.0, 1.0, 0.0, 0.5]   \n",
              "\n",
              "                                                   강의평  \n",
              "0    피할 수 있으면 피하세요 아 맞다 근데 이거 이지 ㅋㅋㅋㅋㅋ. -이 교수님 솔직히 ...  \n",
              "1    솔직히 강의력은 학년때 들었던 미적벡 교수님들이 훨씬 비교도 안되게 좋음 하지만 학...  \n",
              "2    교수님이 정말 좋으시고 학생들을 은근히 위해주시는게 보입니다 학점도 후하시고 설명도...  \n",
              "3    대체 어디를 가르치시는건지 수업내내 궁금함 강의노트는 왜있는거고 있으면 왜따라가지않...  \n",
              "4    빛수업은 개론 수업이다보니 지루할 수 있으나 교수님이 너어무 좋습니다 배려도 많이 ...  \n",
              "..                                                 ...  \n",
              "381  비대면이라 아쉬웠지만 여러 가지 경험해보면서 즐거운 시간 보냈습니다. 막판에 몰아서...  \n",
              "382  과제는 거의 없고 틀어놓기만 하면 되는 수업입니다 저는 틀어놓고 협곡에서 시간을 보...  \n",
              "383  만 피합시다 왜 녹강을 실시간으로 틀어주는 지도 모르겠고 그렇다고 교수님이 실시간 ...  \n",
              "384  학점을 정말 퍼주십니다 정말정말 게으르신 사람이 아니라면 노베도 무조건 받아간다고 ...  \n",
              "385  글 개정도 썼는데 조모임 열심히 하고 피드백 잘 반영해서 고치면 좋은 점수 나오는 ...  \n",
              "\n",
              "[386 rows x 3 columns]"
            ],
            "text/html": [
              "\n",
              "  <div id=\"df-c7c405b1-8b3a-4a7c-8f42-0214832badbc\">\n",
              "    <div class=\"colab-df-container\">\n",
              "      <div>\n",
              "<style scoped>\n",
              "    .dataframe tbody tr th:only-of-type {\n",
              "        vertical-align: middle;\n",
              "    }\n",
              "\n",
              "    .dataframe tbody tr th {\n",
              "        vertical-align: top;\n",
              "    }\n",
              "\n",
              "    .dataframe thead th {\n",
              "        text-align: right;\n",
              "    }\n",
              "</style>\n",
              "<table border=\"1\" class=\"dataframe\">\n",
              "  <thead>\n",
              "    <tr style=\"text-align: right;\">\n",
              "      <th></th>\n",
              "      <th>강의명/교수명</th>\n",
              "      <th>target</th>\n",
              "      <th>강의평</th>\n",
              "    </tr>\n",
              "  </thead>\n",
              "  <tbody>\n",
              "    <tr>\n",
              "      <th>0</th>\n",
              "      <td>INTRODUCTION TO MANAGEMENT/천은영</td>\n",
              "      <td>[0.5, 1.0, 0.0, 0.5, 0.0, 0.5]</td>\n",
              "      <td>피할 수 있으면 피하세요 아 맞다 근데 이거 이지 ㅋㅋㅋㅋㅋ. -이 교수님 솔직히 ...</td>\n",
              "    </tr>\n",
              "    <tr>\n",
              "      <th>1</th>\n",
              "      <td>생명공학수학/김영식</td>\n",
              "      <td>[1.0, 0.5, 0.0, 0.5, 0.5, 0.5]</td>\n",
              "      <td>솔직히 강의력은 학년때 들었던 미적벡 교수님들이 훨씬 비교도 안되게 좋음 하지만 학...</td>\n",
              "    </tr>\n",
              "    <tr>\n",
              "      <th>2</th>\n",
              "      <td>영어음성학/이석재</td>\n",
              "      <td>[1.0, 0.5, 1.0, 1.0, 0.5, 0.5]</td>\n",
              "      <td>교수님이 정말 좋으시고 학생들을 은근히 위해주시는게 보입니다 학점도 후하시고 설명도...</td>\n",
              "    </tr>\n",
              "    <tr>\n",
              "      <th>3</th>\n",
              "      <td>언론학개론/윤영철</td>\n",
              "      <td>[1.0, 0.0, 0.0, 0.5, 0.5, 0.5]</td>\n",
              "      <td>대체 어디를 가르치시는건지 수업내내 궁금함 강의노트는 왜있는거고 있으면 왜따라가지않...</td>\n",
              "    </tr>\n",
              "    <tr>\n",
              "      <th>4</th>\n",
              "      <td>사회복지개론/채주석</td>\n",
              "      <td>[1.0, 0.0, 0.5, 1.0, 0.5, 0.5]</td>\n",
              "      <td>빛수업은 개론 수업이다보니 지루할 수 있으나 교수님이 너어무 좋습니다 배려도 많이 ...</td>\n",
              "    </tr>\n",
              "    <tr>\n",
              "      <th>...</th>\n",
              "      <td>...</td>\n",
              "      <td>...</td>\n",
              "      <td>...</td>\n",
              "    </tr>\n",
              "    <tr>\n",
              "      <th>381</th>\n",
              "      <td>RC자기주도활동(2)/한봉환</td>\n",
              "      <td>[0.5, 0.5, 0.5, 0.5, 0.5, 0.5]</td>\n",
              "      <td>비대면이라 아쉬웠지만 여러 가지 경험해보면서 즐거운 시간 보냈습니다. 막판에 몰아서...</td>\n",
              "    </tr>\n",
              "    <tr>\n",
              "      <th>382</th>\n",
              "      <td>YONSEI RC 101-생명공학과/홍혜경</td>\n",
              "      <td>[0.5, 0.5, 0.5, 0.5, 0.5, 0.5]</td>\n",
              "      <td>과제는 거의 없고 틀어놓기만 하면 되는 수업입니다 저는 틀어놓고 협곡에서 시간을 보...</td>\n",
              "    </tr>\n",
              "    <tr>\n",
              "      <th>383</th>\n",
              "      <td>유기화학/심태보</td>\n",
              "      <td>[0.5, 0.5, 0.0, 0.0, 0.0, 0.5]</td>\n",
              "      <td>만 피합시다 왜 녹강을 실시간으로 틀어주는 지도 모르겠고 그렇다고 교수님이 실시간 ...</td>\n",
              "    </tr>\n",
              "    <tr>\n",
              "      <th>384</th>\n",
              "      <td>한문(1)/김기완</td>\n",
              "      <td>[1.0, 1.0, 0.5, 1.0, 0.0, 0.5]</td>\n",
              "      <td>학점을 정말 퍼주십니다 정말정말 게으르신 사람이 아니라면 노베도 무조건 받아간다고 ...</td>\n",
              "    </tr>\n",
              "    <tr>\n",
              "      <th>385</th>\n",
              "      <td>글쓰기/이시은</td>\n",
              "      <td>[1.0, 1.0, 1.0, 1.0, 0.0, 0.5]</td>\n",
              "      <td>글 개정도 썼는데 조모임 열심히 하고 피드백 잘 반영해서 고치면 좋은 점수 나오는 ...</td>\n",
              "    </tr>\n",
              "  </tbody>\n",
              "</table>\n",
              "<p>386 rows × 3 columns</p>\n",
              "</div>\n",
              "      <button class=\"colab-df-convert\" onclick=\"convertToInteractive('df-c7c405b1-8b3a-4a7c-8f42-0214832badbc')\"\n",
              "              title=\"Convert this dataframe to an interactive table.\"\n",
              "              style=\"display:none;\">\n",
              "        \n",
              "  <svg xmlns=\"http://www.w3.org/2000/svg\" height=\"24px\"viewBox=\"0 0 24 24\"\n",
              "       width=\"24px\">\n",
              "    <path d=\"M0 0h24v24H0V0z\" fill=\"none\"/>\n",
              "    <path d=\"M18.56 5.44l.94 2.06.94-2.06 2.06-.94-2.06-.94-.94-2.06-.94 2.06-2.06.94zm-11 1L8.5 8.5l.94-2.06 2.06-.94-2.06-.94L8.5 2.5l-.94 2.06-2.06.94zm10 10l.94 2.06.94-2.06 2.06-.94-2.06-.94-.94-2.06-.94 2.06-2.06.94z\"/><path d=\"M17.41 7.96l-1.37-1.37c-.4-.4-.92-.59-1.43-.59-.52 0-1.04.2-1.43.59L10.3 9.45l-7.72 7.72c-.78.78-.78 2.05 0 2.83L4 21.41c.39.39.9.59 1.41.59.51 0 1.02-.2 1.41-.59l7.78-7.78 2.81-2.81c.8-.78.8-2.07 0-2.86zM5.41 20L4 18.59l7.72-7.72 1.47 1.35L5.41 20z\"/>\n",
              "  </svg>\n",
              "      </button>\n",
              "      \n",
              "  <style>\n",
              "    .colab-df-container {\n",
              "      display:flex;\n",
              "      flex-wrap:wrap;\n",
              "      gap: 12px;\n",
              "    }\n",
              "\n",
              "    .colab-df-convert {\n",
              "      background-color: #E8F0FE;\n",
              "      border: none;\n",
              "      border-radius: 50%;\n",
              "      cursor: pointer;\n",
              "      display: none;\n",
              "      fill: #1967D2;\n",
              "      height: 32px;\n",
              "      padding: 0 0 0 0;\n",
              "      width: 32px;\n",
              "    }\n",
              "\n",
              "    .colab-df-convert:hover {\n",
              "      background-color: #E2EBFA;\n",
              "      box-shadow: 0px 1px 2px rgba(60, 64, 67, 0.3), 0px 1px 3px 1px rgba(60, 64, 67, 0.15);\n",
              "      fill: #174EA6;\n",
              "    }\n",
              "\n",
              "    [theme=dark] .colab-df-convert {\n",
              "      background-color: #3B4455;\n",
              "      fill: #D2E3FC;\n",
              "    }\n",
              "\n",
              "    [theme=dark] .colab-df-convert:hover {\n",
              "      background-color: #434B5C;\n",
              "      box-shadow: 0px 1px 3px 1px rgba(0, 0, 0, 0.15);\n",
              "      filter: drop-shadow(0px 1px 2px rgba(0, 0, 0, 0.3));\n",
              "      fill: #FFFFFF;\n",
              "    }\n",
              "  </style>\n",
              "\n",
              "      <script>\n",
              "        const buttonEl =\n",
              "          document.querySelector('#df-c7c405b1-8b3a-4a7c-8f42-0214832badbc button.colab-df-convert');\n",
              "        buttonEl.style.display =\n",
              "          google.colab.kernel.accessAllowed ? 'block' : 'none';\n",
              "\n",
              "        async function convertToInteractive(key) {\n",
              "          const element = document.querySelector('#df-c7c405b1-8b3a-4a7c-8f42-0214832badbc');\n",
              "          const dataTable =\n",
              "            await google.colab.kernel.invokeFunction('convertToInteractive',\n",
              "                                                     [key], {});\n",
              "          if (!dataTable) return;\n",
              "\n",
              "          const docLinkHtml = 'Like what you see? Visit the ' +\n",
              "            '<a target=\"_blank\" href=https://colab.research.google.com/notebooks/data_table.ipynb>data table notebook</a>'\n",
              "            + ' to learn more about interactive tables.';\n",
              "          element.innerHTML = '';\n",
              "          dataTable['output_type'] = 'display_data';\n",
              "          await google.colab.output.renderOutput(dataTable, element);\n",
              "          const docLink = document.createElement('div');\n",
              "          docLink.innerHTML = docLinkHtml;\n",
              "          element.appendChild(docLink);\n",
              "        }\n",
              "      </script>\n",
              "    </div>\n",
              "  </div>\n",
              "  "
            ]
          },
          "metadata": {},
          "execution_count": 24
        }
      ]
    },
    {
      "cell_type": "code",
      "source": [
        "aaa = data1[['강의명/교수명', '강의평']]\n",
        "texttag_1 = [(aaa.iloc[i][1], [aaa.iloc[i][0],]) for i in range(len(aaa))]\n",
        "TRAIN_documents = [TaggedDocument(words=text, tags=tags) for text, tags in texttag_1]"
      ],
      "metadata": {
        "id": "69QxrdCWmEAS"
      },
      "execution_count": null,
      "outputs": []
    },
    {
      "cell_type": "code",
      "source": [
        "model = Doc2Vec(TRAIN_documents, vector_size = 100, window = 3, min_count = 5, workers = 4)"
      ],
      "metadata": {
        "id": "8lf6y3IGuMOG"
      },
      "execution_count": null,
      "outputs": []
    },
    {
      "cell_type": "code",
      "source": [
        "inputvec = []\n",
        "for i in uniquecla:\n",
        "    inputvec.append(list(model.docvecs[i]))"
      ],
      "metadata": {
        "id": "A2OYybScuYlE"
      },
      "execution_count": null,
      "outputs": []
    },
    {
      "cell_type": "code",
      "source": [
        "data1['input'] = inputvec\n",
        "data1 = data1[['강의명/교수명','input','target']]"
      ],
      "metadata": {
        "id": "V7Q7PVauuxI8"
      },
      "execution_count": null,
      "outputs": []
    },
    {
      "cell_type": "code",
      "source": [
        "data1.to_csv('/content/drive/Shareddrives/NLP모델링/코드 연습/문서/d2vnormver.csv')"
      ],
      "metadata": {
        "id": "vEjTXMjRu71_"
      },
      "execution_count": null,
      "outputs": []
    }
  ]
}
