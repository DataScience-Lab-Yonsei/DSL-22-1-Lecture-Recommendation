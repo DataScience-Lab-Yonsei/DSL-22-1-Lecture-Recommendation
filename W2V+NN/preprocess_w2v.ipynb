{
  "nbformat": 4,
  "nbformat_minor": 0,
  "metadata": {
    "colab": {
      "name": "preprocess_w2v.ipynb",
      "provenance": [],
      "collapsed_sections": [],
      "mount_file_id": "129moXmNLAFpBtiQywWgW4yw-9AAbQEGS",
      "authorship_tag": "ABX9TyPuJifBhLa/Nt5XyQXQWGkT",
      "include_colab_link": true
    },
    "kernelspec": {
      "name": "python3",
      "display_name": "Python 3"
    },
    "language_info": {
      "name": "python"
    }
  },
  "cells": [
    {
      "cell_type": "markdown",
      "metadata": {
        "id": "view-in-github",
        "colab_type": "text"
      },
      "source": [
        "<a href=\"https://colab.research.google.com/github/shkim0116/Lecture-Recommendation-NLP/blob/main/preprocess_w2v.ipynb\" target=\"_parent\"><img src=\"https://colab.research.google.com/assets/colab-badge.svg\" alt=\"Open In Colab\"/></a>"
      ]
    },
    {
      "cell_type": "code",
      "execution_count": null,
      "metadata": {
        "id": "ETHEVFBXS7bB"
      },
      "outputs": [],
      "source": [
        "import numpy as np\n",
        "import pandas as pd\n",
        "from sklearn.feature_extraction.text import TfidfVectorizer\n",
        "from gensim.models import Word2Vec\n",
        "from tqdm import tqdm\n",
        "\n",
        "data = pd.read_csv('/content/drive/Shareddrives/NLP모델링/코드 연습/문서/reviewtokenized.csv')\n",
        "data['강의평토큰화'] = [list(map(str, data['강의평토큰화'].iloc[i][2:-2].split(\"', '\"))) for i in range(len(data))]\n",
        "data['target'] = [list(map(float, data['target'].iloc[i][1:-1].split(', '))) for i in range(len(data))]"
      ]
    },
    {
      "cell_type": "code",
      "source": [
        "review = list(data['강의평토큰화'])\n",
        "corpus = []\n",
        "for i in review:\n",
        "    a = ''\n",
        "    for j in i:\n",
        "        a += j + ' '\n",
        "    corpus.append(a[:-1])"
      ],
      "metadata": {
        "id": "uBHiKCkQWFx2"
      },
      "execution_count": null,
      "outputs": []
    },
    {
      "cell_type": "code",
      "source": [
        "tfidfv = TfidfVectorizer(min_df = 5).fit(corpus)\n",
        "k = tfidfv.transform(corpus).toarray()"
      ],
      "metadata": {
        "id": "7alqs4ydV4Zt"
      },
      "execution_count": null,
      "outputs": []
    },
    {
      "cell_type": "code",
      "source": [
        "new = []\n",
        "for i in review:\n",
        "    ddd = []\n",
        "    for j in i:\n",
        "        if len(j) > 1:ddd.append(j)\n",
        "    new.append(ddd)"
      ],
      "metadata": {
        "id": "l9s08LB3eN6b"
      },
      "execution_count": null,
      "outputs": []
    },
    {
      "cell_type": "code",
      "source": [
        "model = Word2Vec(sentences = new, size=100, window = 5, min_count = 5, workers = 4, sg = 1)"
      ],
      "metadata": {
        "id": "ECmb-AD3YfuN"
      },
      "execution_count": null,
      "outputs": []
    },
    {
      "cell_type": "code",
      "source": [
        "i = 1\n",
        "for a in tfidfv.vocabulary_.keys():\n",
        "    if i == 1:\n",
        "        vector = model.wv[a][np.newaxis, :]\n",
        "    else:\n",
        "        vector = np.concatenate([vector, model.wv[a][np.newaxis, :]], axis = 0)\n",
        "    i += 1"
      ],
      "metadata": {
        "id": "UD6iJcJEbKdy"
      },
      "execution_count": null,
      "outputs": []
    },
    {
      "cell_type": "code",
      "source": [
        "sentence_vector = k @ vector\n",
        "data['input'] = [list(sentence_vector[i]) for i in range(sentence_vector.shape[0])]"
      ],
      "metadata": {
        "id": "gwsSpKj8f6x0"
      },
      "execution_count": null,
      "outputs": []
    },
    {
      "cell_type": "code",
      "source": [
        "uniquecla = list(set(data['강의명/교수명'].values))"
      ],
      "metadata": {
        "id": "KJrkpDBshrVI"
      },
      "execution_count": null,
      "outputs": []
    },
    {
      "cell_type": "code",
      "source": [
        "aggword = []\n",
        "for j in tqdm(uniquecla):\n",
        "    index = data[data['강의명/교수명']==j].index\n",
        "    word = []\n",
        "    for i in index:\n",
        "        word += data['강의평토큰화'][i]\n",
        "    aggword.append(word.copy())"
      ],
      "metadata": {
        "colab": {
          "base_uri": "https://localhost:8080/"
        },
        "id": "iWES271fh3dU",
        "outputId": "c9dd9478-984a-4fbd-b518-c2e571bb5828"
      },
      "execution_count": null,
      "outputs": [
        {
          "output_type": "stream",
          "name": "stderr",
          "text": [
            "100%|██████████| 386/386 [00:01<00:00, 358.83it/s]\n"
          ]
        }
      ]
    },
    {
      "cell_type": "code",
      "source": [
        "target = []\n",
        "for i in uniquecla:\n",
        "    target.append(data['target'][data['강의명/교수명']==i].values[0])"
      ],
      "metadata": {
        "id": "0P6cYkBpkAxp"
      },
      "execution_count": null,
      "outputs": []
    },
    {
      "cell_type": "code",
      "source": [
        "data1 = pd.DataFrame({'강의명/교수명' : uniquecla,\\\n",
        "                      'target' : target,\\\n",
        "                      '강의평' : aggword})"
      ],
      "metadata": {
        "id": "xLZHyRCNiZVs"
      },
      "execution_count": null,
      "outputs": []
    },
    {
      "cell_type": "code",
      "source": [
        "review1 = list(data1['강의평'])\n",
        "\n",
        "corpus1 = []\n",
        "for i in review1:\n",
        "    a = ''\n",
        "    for j in i:\n",
        "        a += j + ' '\n",
        "    corpus1.append(a[:-1])"
      ],
      "metadata": {
        "id": "69QxrdCWmEAS"
      },
      "execution_count": null,
      "outputs": []
    },
    {
      "cell_type": "code",
      "source": [
        "tfidfv1 = TfidfVectorizer(min_df = 5).fit(corpus1)\n",
        "k1 = tfidfv1.transform(corpus1).toarray()"
      ],
      "metadata": {
        "id": "1r85RVgqm1C6"
      },
      "execution_count": null,
      "outputs": []
    },
    {
      "cell_type": "code",
      "source": [
        "i = 1\n",
        "for a in tfidfv1.vocabulary_.keys():\n",
        "    if i == 1:\n",
        "        vector1 = model.wv[a][np.newaxis, :]\n",
        "    else:\n",
        "        vector1 = np.concatenate([vector1, model.wv[a][np.newaxis, :]], axis = 0)\n",
        "    i += 1"
      ],
      "metadata": {
        "id": "PPjz0yyfm56a"
      },
      "execution_count": null,
      "outputs": []
    },
    {
      "cell_type": "code",
      "source": [
        "sentence_vector1 = k1 @ vector1\n",
        "data1['input'] = [list(sentence_vector1[i]) for i in range(sentence_vector1.shape[0])]"
      ],
      "metadata": {
        "id": "uaLkyw-ynDBz"
      },
      "execution_count": null,
      "outputs": []
    },
    {
      "cell_type": "code",
      "source": [
        "data1 = data1[['강의명/교수명','input','target']]"
      ],
      "metadata": {
        "id": "hHzH75G2ne68"
      },
      "execution_count": null,
      "outputs": []
    },
    {
      "cell_type": "code",
      "source": [
        "data1.head(5)"
      ],
      "metadata": {
        "colab": {
          "base_uri": "https://localhost:8080/",
          "height": 206
        },
        "id": "HQC8f7sFn2CD",
        "outputId": "7e9d1cda-77c1-4c1a-ac9f-cfe6ae23c43d"
      },
      "execution_count": null,
      "outputs": [
        {
          "output_type": "execute_result",
          "data": {
            "text/plain": [
              "                               강의명/교수명  \\\n",
              "0                            통계학입문/김숙경   \n",
              "1                           글로벌리더십/김용호   \n",
              "2                           인문사회수학/김동호   \n",
              "3                          스페인어(1)/최유정   \n",
              "4  ROCK MUSIC, CULTURE AND SOCIETY/이지훈   \n",
              "\n",
              "                                               input  \\\n",
              "0  [-1.2990191696527762, -1.4830524926307118, 0.1...   \n",
              "1  [-1.237644724973481, -1.4695318804965667, 0.07...   \n",
              "2  [-1.061686247201042, -1.268587524747092, -0.16...   \n",
              "3  [-1.2145690852873476, -1.358813846804486, 0.20...   \n",
              "4  [-1.2546117497950418, -1.387209685319639, 0.05...   \n",
              "\n",
              "                           target  \n",
              "0  [1.0, 0.5, 1.0, 1.0, 0.5, 0.5]  \n",
              "1  [0.5, 0.5, 0.5, 0.5, 0.5, 0.5]  \n",
              "2  [1.0, 0.5, 1.0, 0.5, 0.0, 0.5]  \n",
              "3  [1.0, 1.0, 1.0, 1.0, 0.0, 0.5]  \n",
              "4  [1.0, 0.0, 0.5, 1.0, 0.5, 0.5]  "
            ],
            "text/html": [
              "\n",
              "  <div id=\"df-aa58e3fd-d6bb-4cfd-880b-af0488bc8286\">\n",
              "    <div class=\"colab-df-container\">\n",
              "      <div>\n",
              "<style scoped>\n",
              "    .dataframe tbody tr th:only-of-type {\n",
              "        vertical-align: middle;\n",
              "    }\n",
              "\n",
              "    .dataframe tbody tr th {\n",
              "        vertical-align: top;\n",
              "    }\n",
              "\n",
              "    .dataframe thead th {\n",
              "        text-align: right;\n",
              "    }\n",
              "</style>\n",
              "<table border=\"1\" class=\"dataframe\">\n",
              "  <thead>\n",
              "    <tr style=\"text-align: right;\">\n",
              "      <th></th>\n",
              "      <th>강의명/교수명</th>\n",
              "      <th>input</th>\n",
              "      <th>target</th>\n",
              "    </tr>\n",
              "  </thead>\n",
              "  <tbody>\n",
              "    <tr>\n",
              "      <th>0</th>\n",
              "      <td>통계학입문/김숙경</td>\n",
              "      <td>[-1.2990191696527762, -1.4830524926307118, 0.1...</td>\n",
              "      <td>[1.0, 0.5, 1.0, 1.0, 0.5, 0.5]</td>\n",
              "    </tr>\n",
              "    <tr>\n",
              "      <th>1</th>\n",
              "      <td>글로벌리더십/김용호</td>\n",
              "      <td>[-1.237644724973481, -1.4695318804965667, 0.07...</td>\n",
              "      <td>[0.5, 0.5, 0.5, 0.5, 0.5, 0.5]</td>\n",
              "    </tr>\n",
              "    <tr>\n",
              "      <th>2</th>\n",
              "      <td>인문사회수학/김동호</td>\n",
              "      <td>[-1.061686247201042, -1.268587524747092, -0.16...</td>\n",
              "      <td>[1.0, 0.5, 1.0, 0.5, 0.0, 0.5]</td>\n",
              "    </tr>\n",
              "    <tr>\n",
              "      <th>3</th>\n",
              "      <td>스페인어(1)/최유정</td>\n",
              "      <td>[-1.2145690852873476, -1.358813846804486, 0.20...</td>\n",
              "      <td>[1.0, 1.0, 1.0, 1.0, 0.0, 0.5]</td>\n",
              "    </tr>\n",
              "    <tr>\n",
              "      <th>4</th>\n",
              "      <td>ROCK MUSIC, CULTURE AND SOCIETY/이지훈</td>\n",
              "      <td>[-1.2546117497950418, -1.387209685319639, 0.05...</td>\n",
              "      <td>[1.0, 0.0, 0.5, 1.0, 0.5, 0.5]</td>\n",
              "    </tr>\n",
              "  </tbody>\n",
              "</table>\n",
              "</div>\n",
              "      <button class=\"colab-df-convert\" onclick=\"convertToInteractive('df-aa58e3fd-d6bb-4cfd-880b-af0488bc8286')\"\n",
              "              title=\"Convert this dataframe to an interactive table.\"\n",
              "              style=\"display:none;\">\n",
              "        \n",
              "  <svg xmlns=\"http://www.w3.org/2000/svg\" height=\"24px\"viewBox=\"0 0 24 24\"\n",
              "       width=\"24px\">\n",
              "    <path d=\"M0 0h24v24H0V0z\" fill=\"none\"/>\n",
              "    <path d=\"M18.56 5.44l.94 2.06.94-2.06 2.06-.94-2.06-.94-.94-2.06-.94 2.06-2.06.94zm-11 1L8.5 8.5l.94-2.06 2.06-.94-2.06-.94L8.5 2.5l-.94 2.06-2.06.94zm10 10l.94 2.06.94-2.06 2.06-.94-2.06-.94-.94-2.06-.94 2.06-2.06.94z\"/><path d=\"M17.41 7.96l-1.37-1.37c-.4-.4-.92-.59-1.43-.59-.52 0-1.04.2-1.43.59L10.3 9.45l-7.72 7.72c-.78.78-.78 2.05 0 2.83L4 21.41c.39.39.9.59 1.41.59.51 0 1.02-.2 1.41-.59l7.78-7.78 2.81-2.81c.8-.78.8-2.07 0-2.86zM5.41 20L4 18.59l7.72-7.72 1.47 1.35L5.41 20z\"/>\n",
              "  </svg>\n",
              "      </button>\n",
              "      \n",
              "  <style>\n",
              "    .colab-df-container {\n",
              "      display:flex;\n",
              "      flex-wrap:wrap;\n",
              "      gap: 12px;\n",
              "    }\n",
              "\n",
              "    .colab-df-convert {\n",
              "      background-color: #E8F0FE;\n",
              "      border: none;\n",
              "      border-radius: 50%;\n",
              "      cursor: pointer;\n",
              "      display: none;\n",
              "      fill: #1967D2;\n",
              "      height: 32px;\n",
              "      padding: 0 0 0 0;\n",
              "      width: 32px;\n",
              "    }\n",
              "\n",
              "    .colab-df-convert:hover {\n",
              "      background-color: #E2EBFA;\n",
              "      box-shadow: 0px 1px 2px rgba(60, 64, 67, 0.3), 0px 1px 3px 1px rgba(60, 64, 67, 0.15);\n",
              "      fill: #174EA6;\n",
              "    }\n",
              "\n",
              "    [theme=dark] .colab-df-convert {\n",
              "      background-color: #3B4455;\n",
              "      fill: #D2E3FC;\n",
              "    }\n",
              "\n",
              "    [theme=dark] .colab-df-convert:hover {\n",
              "      background-color: #434B5C;\n",
              "      box-shadow: 0px 1px 3px 1px rgba(0, 0, 0, 0.15);\n",
              "      filter: drop-shadow(0px 1px 2px rgba(0, 0, 0, 0.3));\n",
              "      fill: #FFFFFF;\n",
              "    }\n",
              "  </style>\n",
              "\n",
              "      <script>\n",
              "        const buttonEl =\n",
              "          document.querySelector('#df-aa58e3fd-d6bb-4cfd-880b-af0488bc8286 button.colab-df-convert');\n",
              "        buttonEl.style.display =\n",
              "          google.colab.kernel.accessAllowed ? 'block' : 'none';\n",
              "\n",
              "        async function convertToInteractive(key) {\n",
              "          const element = document.querySelector('#df-aa58e3fd-d6bb-4cfd-880b-af0488bc8286');\n",
              "          const dataTable =\n",
              "            await google.colab.kernel.invokeFunction('convertToInteractive',\n",
              "                                                     [key], {});\n",
              "          if (!dataTable) return;\n",
              "\n",
              "          const docLinkHtml = 'Like what you see? Visit the ' +\n",
              "            '<a target=\"_blank\" href=https://colab.research.google.com/notebooks/data_table.ipynb>data table notebook</a>'\n",
              "            + ' to learn more about interactive tables.';\n",
              "          element.innerHTML = '';\n",
              "          dataTable['output_type'] = 'display_data';\n",
              "          await google.colab.output.renderOutput(dataTable, element);\n",
              "          const docLink = document.createElement('div');\n",
              "          docLink.innerHTML = docLinkHtml;\n",
              "          element.appendChild(docLink);\n",
              "        }\n",
              "      </script>\n",
              "    </div>\n",
              "  </div>\n",
              "  "
            ]
          },
          "metadata": {},
          "execution_count": 142
        }
      ]
    },
    {
      "cell_type": "code",
      "source": [
        "data2 = data.copy()\n",
        "data2 = data2[['강의명/교수명', 'input', 'target']]"
      ],
      "metadata": {
        "id": "_ezYWOttoEV-"
      },
      "execution_count": null,
      "outputs": []
    },
    {
      "cell_type": "code",
      "source": [
        "aggvector = []\n",
        "for j in tqdm(uniquecla):\n",
        "    index = data2[data2['강의명/교수명']==j].index\n",
        "    vector = np.zeros((100,))\n",
        "    n = 0\n",
        "    for i in index:\n",
        "        vector += np.array(data2['input'][i])\n",
        "        n += 1\n",
        "    vector = vector / n\n",
        "    aggvector.append(list(vector).copy())"
      ],
      "metadata": {
        "colab": {
          "base_uri": "https://localhost:8080/"
        },
        "id": "zpJjpHzQoG3p",
        "outputId": "238269e8-06c3-435d-89e0-fe8031d24d82"
      },
      "execution_count": null,
      "outputs": [
        {
          "output_type": "stream",
          "name": "stderr",
          "text": [
            "100%|██████████| 386/386 [00:03<00:00, 110.31it/s]\n"
          ]
        }
      ]
    },
    {
      "cell_type": "code",
      "source": [
        "data3 = pd.DataFrame({'강의명/교수명' : uniquecla,\\\n",
        "                      'input' : aggvector,\\\n",
        "                      'target' : target})"
      ],
      "metadata": {
        "id": "HVcLuv1oo41F"
      },
      "execution_count": null,
      "outputs": []
    },
    {
      "cell_type": "code",
      "source": [
        "data3.head()"
      ],
      "metadata": {
        "colab": {
          "base_uri": "https://localhost:8080/",
          "height": 206
        },
        "id": "FlqASErhpzKa",
        "outputId": "3796565c-9b93-4a4d-e192-a118243c4dcf"
      },
      "execution_count": null,
      "outputs": [
        {
          "output_type": "execute_result",
          "data": {
            "text/plain": [
              "                               강의명/교수명  \\\n",
              "0                            통계학입문/김숙경   \n",
              "1                           글로벌리더십/김용호   \n",
              "2                           인문사회수학/김동호   \n",
              "3                          스페인어(1)/최유정   \n",
              "4  ROCK MUSIC, CULTURE AND SOCIETY/이지훈   \n",
              "\n",
              "                                               input  \\\n",
              "0  [-0.31417282734761487, -0.3674974179630464, -0...   \n",
              "1  [-0.3530267322174085, -0.3057673649840293, -0....   \n",
              "2  [-0.4518579473536773, -0.4531542860712264, -0....   \n",
              "3  [-0.45684682930194104, -0.37327360611225824, -...   \n",
              "4  [-0.40634037789608635, -0.3194865621501923, -0...   \n",
              "\n",
              "                           target  \n",
              "0  [1.0, 0.5, 1.0, 1.0, 0.5, 0.5]  \n",
              "1  [0.5, 0.5, 0.5, 0.5, 0.5, 0.5]  \n",
              "2  [1.0, 0.5, 1.0, 0.5, 0.0, 0.5]  \n",
              "3  [1.0, 1.0, 1.0, 1.0, 0.0, 0.5]  \n",
              "4  [1.0, 0.0, 0.5, 1.0, 0.5, 0.5]  "
            ],
            "text/html": [
              "\n",
              "  <div id=\"df-809df44b-a5a4-479c-a13e-f9002ffc2c65\">\n",
              "    <div class=\"colab-df-container\">\n",
              "      <div>\n",
              "<style scoped>\n",
              "    .dataframe tbody tr th:only-of-type {\n",
              "        vertical-align: middle;\n",
              "    }\n",
              "\n",
              "    .dataframe tbody tr th {\n",
              "        vertical-align: top;\n",
              "    }\n",
              "\n",
              "    .dataframe thead th {\n",
              "        text-align: right;\n",
              "    }\n",
              "</style>\n",
              "<table border=\"1\" class=\"dataframe\">\n",
              "  <thead>\n",
              "    <tr style=\"text-align: right;\">\n",
              "      <th></th>\n",
              "      <th>강의명/교수명</th>\n",
              "      <th>input</th>\n",
              "      <th>target</th>\n",
              "    </tr>\n",
              "  </thead>\n",
              "  <tbody>\n",
              "    <tr>\n",
              "      <th>0</th>\n",
              "      <td>통계학입문/김숙경</td>\n",
              "      <td>[-0.31417282734761487, -0.3674974179630464, -0...</td>\n",
              "      <td>[1.0, 0.5, 1.0, 1.0, 0.5, 0.5]</td>\n",
              "    </tr>\n",
              "    <tr>\n",
              "      <th>1</th>\n",
              "      <td>글로벌리더십/김용호</td>\n",
              "      <td>[-0.3530267322174085, -0.3057673649840293, -0....</td>\n",
              "      <td>[0.5, 0.5, 0.5, 0.5, 0.5, 0.5]</td>\n",
              "    </tr>\n",
              "    <tr>\n",
              "      <th>2</th>\n",
              "      <td>인문사회수학/김동호</td>\n",
              "      <td>[-0.4518579473536773, -0.4531542860712264, -0....</td>\n",
              "      <td>[1.0, 0.5, 1.0, 0.5, 0.0, 0.5]</td>\n",
              "    </tr>\n",
              "    <tr>\n",
              "      <th>3</th>\n",
              "      <td>스페인어(1)/최유정</td>\n",
              "      <td>[-0.45684682930194104, -0.37327360611225824, -...</td>\n",
              "      <td>[1.0, 1.0, 1.0, 1.0, 0.0, 0.5]</td>\n",
              "    </tr>\n",
              "    <tr>\n",
              "      <th>4</th>\n",
              "      <td>ROCK MUSIC, CULTURE AND SOCIETY/이지훈</td>\n",
              "      <td>[-0.40634037789608635, -0.3194865621501923, -0...</td>\n",
              "      <td>[1.0, 0.0, 0.5, 1.0, 0.5, 0.5]</td>\n",
              "    </tr>\n",
              "  </tbody>\n",
              "</table>\n",
              "</div>\n",
              "      <button class=\"colab-df-convert\" onclick=\"convertToInteractive('df-809df44b-a5a4-479c-a13e-f9002ffc2c65')\"\n",
              "              title=\"Convert this dataframe to an interactive table.\"\n",
              "              style=\"display:none;\">\n",
              "        \n",
              "  <svg xmlns=\"http://www.w3.org/2000/svg\" height=\"24px\"viewBox=\"0 0 24 24\"\n",
              "       width=\"24px\">\n",
              "    <path d=\"M0 0h24v24H0V0z\" fill=\"none\"/>\n",
              "    <path d=\"M18.56 5.44l.94 2.06.94-2.06 2.06-.94-2.06-.94-.94-2.06-.94 2.06-2.06.94zm-11 1L8.5 8.5l.94-2.06 2.06-.94-2.06-.94L8.5 2.5l-.94 2.06-2.06.94zm10 10l.94 2.06.94-2.06 2.06-.94-2.06-.94-.94-2.06-.94 2.06-2.06.94z\"/><path d=\"M17.41 7.96l-1.37-1.37c-.4-.4-.92-.59-1.43-.59-.52 0-1.04.2-1.43.59L10.3 9.45l-7.72 7.72c-.78.78-.78 2.05 0 2.83L4 21.41c.39.39.9.59 1.41.59.51 0 1.02-.2 1.41-.59l7.78-7.78 2.81-2.81c.8-.78.8-2.07 0-2.86zM5.41 20L4 18.59l7.72-7.72 1.47 1.35L5.41 20z\"/>\n",
              "  </svg>\n",
              "      </button>\n",
              "      \n",
              "  <style>\n",
              "    .colab-df-container {\n",
              "      display:flex;\n",
              "      flex-wrap:wrap;\n",
              "      gap: 12px;\n",
              "    }\n",
              "\n",
              "    .colab-df-convert {\n",
              "      background-color: #E8F0FE;\n",
              "      border: none;\n",
              "      border-radius: 50%;\n",
              "      cursor: pointer;\n",
              "      display: none;\n",
              "      fill: #1967D2;\n",
              "      height: 32px;\n",
              "      padding: 0 0 0 0;\n",
              "      width: 32px;\n",
              "    }\n",
              "\n",
              "    .colab-df-convert:hover {\n",
              "      background-color: #E2EBFA;\n",
              "      box-shadow: 0px 1px 2px rgba(60, 64, 67, 0.3), 0px 1px 3px 1px rgba(60, 64, 67, 0.15);\n",
              "      fill: #174EA6;\n",
              "    }\n",
              "\n",
              "    [theme=dark] .colab-df-convert {\n",
              "      background-color: #3B4455;\n",
              "      fill: #D2E3FC;\n",
              "    }\n",
              "\n",
              "    [theme=dark] .colab-df-convert:hover {\n",
              "      background-color: #434B5C;\n",
              "      box-shadow: 0px 1px 3px 1px rgba(0, 0, 0, 0.15);\n",
              "      filter: drop-shadow(0px 1px 2px rgba(0, 0, 0, 0.3));\n",
              "      fill: #FFFFFF;\n",
              "    }\n",
              "  </style>\n",
              "\n",
              "      <script>\n",
              "        const buttonEl =\n",
              "          document.querySelector('#df-809df44b-a5a4-479c-a13e-f9002ffc2c65 button.colab-df-convert');\n",
              "        buttonEl.style.display =\n",
              "          google.colab.kernel.accessAllowed ? 'block' : 'none';\n",
              "\n",
              "        async function convertToInteractive(key) {\n",
              "          const element = document.querySelector('#df-809df44b-a5a4-479c-a13e-f9002ffc2c65');\n",
              "          const dataTable =\n",
              "            await google.colab.kernel.invokeFunction('convertToInteractive',\n",
              "                                                     [key], {});\n",
              "          if (!dataTable) return;\n",
              "\n",
              "          const docLinkHtml = 'Like what you see? Visit the ' +\n",
              "            '<a target=\"_blank\" href=https://colab.research.google.com/notebooks/data_table.ipynb>data table notebook</a>'\n",
              "            + ' to learn more about interactive tables.';\n",
              "          element.innerHTML = '';\n",
              "          dataTable['output_type'] = 'display_data';\n",
              "          await google.colab.output.renderOutput(dataTable, element);\n",
              "          const docLink = document.createElement('div');\n",
              "          docLink.innerHTML = docLinkHtml;\n",
              "          element.appendChild(docLink);\n",
              "        }\n",
              "      </script>\n",
              "    </div>\n",
              "  </div>\n",
              "  "
            ]
          },
          "metadata": {},
          "execution_count": 155
        }
      ]
    },
    {
      "cell_type": "code",
      "source": [
        "# data1.to_csv('/content/drive/Shareddrives/NLP모델링/코드 연습/문서/w2vaggver.csv')\n",
        "# data3.to_csv('/content/drive/Shareddrives/NLP모델링/코드 연습/문서/w2vnormver.csv')"
      ],
      "metadata": {
        "id": "6fQgpQwBqRP6"
      },
      "execution_count": null,
      "outputs": []
    }
  ]
}
