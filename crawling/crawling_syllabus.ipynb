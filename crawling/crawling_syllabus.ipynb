{
  "cells": [
    {
      "cell_type": "code",
      "execution_count": null,
      "metadata": {
        "id": "IuNgrfRAiD7N"
      },
      "outputs": [],
      "source": [
        "#셀레늄 라이브러리 불러오기\n",
        "from selenium import webdriver\n",
        "\n",
        "#셀레늄에서 html문서가 생성될 때까지 대기하는 함수 불러오기\n",
        "from selenium.webdriver.support.ui import WebDriverWait\n",
        "\n",
        "#셀레늄에서 조건을 걸어줄 수 있는 함수 불러오기\n",
        "from selenium.webdriver.support import expected_conditions as EC\n",
        "from selenium.webdriver.common.by import By\n",
        "\n",
        "#이외 필요한 라이브러리\n",
        "import re\n",
        "from pandas import DataFrame\n",
        "from pandas import Series\n",
        "import pandas as pd\n",
        "import numpy as np"
      ]
    },
    {
      "cell_type": "code",
      "execution_count": null,
      "metadata": {
        "id": "5aID2ryPiD7e",
        "outputId": "4e3f7699-39df-44ef-825b-49b82fc8419b"
      },
      "outputs": [
        {
          "name": "stderr",
          "output_type": "stream",
          "text": [
            "<ipython-input-46-ffee1535a575>:6: DeprecationWarning: executable_path has been deprecated, please pass in a Service object\n",
            "  browser = webdriver.Chrome(path)\n"
          ]
        }
      ],
      "source": [
        "#크롬드라이버 경로 설정\n",
        "#본인의 크롬 드라이버 경로로 설정\n",
        "path = ''\n",
        "\n",
        "#드라이버 객체 생성\n",
        "browser = webdriver.Chrome(path)\n"
      ]
    },
    {
      "cell_type": "code",
      "execution_count": null,
      "metadata": {
        "id": "ohr-_vRsiD7k"
      },
      "outputs": [],
      "source": [
        "browser.get('https://everytime.kr')\n",
        "#에브리타임 주소 입력"
      ]
    },
    {
      "cell_type": "code",
      "execution_count": null,
      "metadata": {
        "id": "xQhiima-iD7m",
        "outputId": "9a0e3a7b-ce00-47c8-e386-4746de091be2"
      },
      "outputs": [
        {
          "name": "stderr",
          "output_type": "stream",
          "text": [
            "<ipython-input-48-d0a81028444b>:1: DeprecationWarning: find_element_by_* commands are deprecated. Please use find_element() instead\n",
            "  browser.find_element_by_xpath('/html/body/aside/div[1]/a[2]').click()\n"
          ]
        }
      ],
      "source": [
        "browser.find_element_by_xpath('/html/body/aside/div[1]/a[2]').click()\n",
        "#로그인버튼 클릭"
      ]
    },
    {
      "cell_type": "code",
      "execution_count": null,
      "metadata": {
        "id": "M2I6dp1KiD7q",
        "outputId": "00bc2ecb-644c-4f8b-ffcf-3ebae426f204"
      },
      "outputs": [
        {
          "name": "stderr",
          "output_type": "stream",
          "text": [
            "<ipython-input-49-aa7ef018f258>:1: DeprecationWarning: find_element_by_* commands are deprecated. Please use find_element() instead\n",
            "  browser.find_element_by_xpath('//*[@id=\"container\"]/form/p[1]/input').send_keys(['lsj3232']) #본인 아이디 입력\n",
            "<ipython-input-49-aa7ef018f258>:2: DeprecationWarning: find_element_by_* commands are deprecated. Please use find_element() instead\n",
            "  browser.find_element_by_xpath('//*[@id=\"container\"]/form/p[2]/input').send_keys(['ll112203!!']) #본인 비밀번호 입력\n",
            "<ipython-input-49-aa7ef018f258>:3: DeprecationWarning: find_element_by_* commands are deprecated. Please use find_element() instead\n",
            "  browser.find_element_by_xpath('//*[@id=\"container\"]/form/p[3]/input').click()\n"
          ]
        }
      ],
      "source": [
        "browser.find_element_by_xpath('//*[@id=\"container\"]/form/p[1]/input').send_keys(['']) #본인 아이디 입력\n",
        "browser.find_element_by_xpath('//*[@id=\"container\"]/form/p[2]/input').send_keys(['']) #본인 비밀번호 입력\n",
        "browser.find_element_by_xpath('//*[@id=\"container\"]/form/p[3]/input').click()\n",
        "#아이디, 비밀번호 입력하여 로그인"
      ]
    },
    {
      "cell_type": "code",
      "execution_count": null,
      "metadata": {
        "scrolled": true,
        "id": "7r1UThUOiD7s",
        "outputId": "bfc039f6-bec3-4a29-9e3f-53684d337801"
      },
      "outputs": [
        {
          "name": "stderr",
          "output_type": "stream",
          "text": [
            "<ipython-input-50-6715de3e9dd9>:1: DeprecationWarning: find_element_by_* commands are deprecated. Please use find_element() instead\n",
            "  browser.find_element_by_xpath('//*[@id=\"menu\"]/li[2]/a').click()\n"
          ]
        }
      ],
      "source": [
        "browser.find_element_by_xpath('//*[@id=\"menu\"]/li[2]/a').click()\n",
        "#시간표 버튼 클릭"
      ]
    },
    {
      "cell_type": "code",
      "execution_count": null,
      "metadata": {
        "id": "X5mFfPthiD7v",
        "outputId": "43199809-639e-4467-992c-fed8a32ef141"
      },
      "outputs": [
        {
          "name": "stderr",
          "output_type": "stream",
          "text": [
            "<ipython-input-51-374c4107f422>:1: DeprecationWarning: find_element_by_* commands are deprecated. Please use find_element() instead\n",
            "  browser.find_element_by_xpath('//*[@id=\"container\"]/ul/li[1]').click()\n"
          ]
        }
      ],
      "source": [
        "browser.find_element_by_xpath('//*[@id=\"container\"]/ul/li[1]').click()\n",
        "#수업목록에서 검색 클릭"
      ]
    },
    {
      "cell_type": "code",
      "execution_count": null,
      "metadata": {
        "id": "tPqMryhsiD70",
        "outputId": "82d6e7b2-14fc-44aa-f35c-402e3d5d5f24"
      },
      "outputs": [
        {
          "name": "stderr",
          "output_type": "stream",
          "text": [
            "<ipython-input-52-2cbca9df9766>:1: DeprecationWarning: find_element_by_* commands are deprecated. Please use find_element() instead\n",
            "  browser.find_element_by_xpath('//*[@id=\"subjects\"]/div[1]/a[4]/span[2]').click()\n"
          ]
        }
      ],
      "source": [
        "browser.find_element_by_xpath('//*[@id=\"subjects\"]/div[1]/a[4]/span[2]').click()\n",
        "#전공/영역:전체 클릭 (상세 교양/전공 찾아가는 칸)"
      ]
    },
    {
      "cell_type": "code",
      "execution_count": null,
      "metadata": {
        "id": "yNrtnQnsiD73",
        "outputId": "8239c34e-9e83-42d0-ab4d-27c23372bd96"
      },
      "outputs": [
        {
          "name": "stderr",
          "output_type": "stream",
          "text": [
            "<ipython-input-53-af83cf78dbce>:1: DeprecationWarning: find_element_by_* commands are deprecated. Please use find_element() instead\n",
            "  browser.find_element_by_xpath('//*[@id=\"subjectCategoryFilter\"]/div/ul/li[12]').click()\n"
          ]
        }
      ],
      "source": [
        "browser.find_element_by_xpath('//*[@id=\"subjectCategoryFilter\"]/div/ul/li[12]').click()\n",
        "#상경대학 버튼 클릭\n",
        "#li[12]부분이 단과대(or 교양 세부) 선택하는 부분임. \n",
        "#에브리타임에서도 확인해보면 상경대학이 12번째에 있습니다! 그거 참고하셔서 li부분 변경하셔도 되고,\n",
        "#아니면 그냥 직접 크롬 창에서 '검사' 부분 눌러서 Xpath 복사하셔도 됩니다!"
      ]
    },
    {
      "cell_type": "code",
      "execution_count": null,
      "metadata": {
        "id": "ail6JFGBiD76",
        "outputId": "3a7aaf12-6252-47b5-9c17-c95f5fd33440"
      },
      "outputs": [
        {
          "name": "stderr",
          "output_type": "stream",
          "text": [
            "<ipython-input-54-3a68c258e072>:8: DeprecationWarning: find_element_by_* commands are deprecated. Please use find_element() instead\n",
            "  browser.find_element_by_xpath('//*[@id=\"subjectCategoryFilter\"]/div/ul/ul[12]/li[%d]'%k).click()\n",
            "<ipython-input-54-3a68c258e072>:17: DeprecationWarning: find_element_by_* commands are deprecated. Please use find_element() instead\n",
            "  num = browser.find_element_by_xpath('//*[@id=\"subjects\"]/div[2]/table/tbody/tr[%d]/td[4]'%t)\n",
            "<ipython-input-54-3a68c258e072>:22: DeprecationWarning: find_element_by_* commands are deprecated. Please use find_element() instead\n",
            "  lec = browser.find_element_by_xpath('//*[@id=\"subjects\"]/div[2]/table/tbody/tr[%d]/td[6]'%t)\n",
            "<ipython-input-54-3a68c258e072>:25: DeprecationWarning: find_element_by_* commands are deprecated. Please use find_element() instead\n",
            "  prof = browser.find_element_by_xpath('//*[@id=\"subjects\"]/div[2]/table/tbody/tr[%d]/td[7]'%t)\n",
            "<ipython-input-54-3a68c258e072>:28: DeprecationWarning: find_element_by_* commands are deprecated. Please use find_element() instead\n",
            "  care = browser.find_element_by_xpath('//*[@id=\"subjects\"]/div[2]/table/tbody/tr[%d]/td[12]'%t)\n",
            "<ipython-input-54-3a68c258e072>:31: DeprecationWarning: find_element_by_* commands are deprecated. Please use find_element() instead\n",
            "  browser.find_element_by_xpath('//*[@id=\"subjects\"]/div[2]/table/tbody/tr[%d]/td[1]/a'%t).click()\n",
            "<ipython-input-54-3a68c258e072>:36: DeprecationWarning: find_element_by_* commands are deprecated. Please use find_element() instead\n",
            "  mat = browser.find_element_by_xpath('/html/body/form/table[2]/tbody/tr[5]/td[1]')\n",
            "<ipython-input-54-3a68c258e072>:41: DeprecationWarning: find_element_by_* commands are deprecated. Please use find_element() instead\n",
            "  cont = browser.find_element_by_xpath('/html/body/form/table[2]/tbody/tr[13]/td[2]')\n",
            "<ipython-input-54-3a68c258e072>:44: DeprecationWarning: find_element_by_* commands are deprecated. Please use find_element() instead\n",
            "  cont = browser.find_element_by_xpath('/html/body/form/table[2]/tbody/tr[14]/td[2]')\n",
            "<ipython-input-54-3a68c258e072>:60: DeprecationWarning: find_element_by_* commands are deprecated. Please use find_element() instead\n",
            "  browser.find_element_by_xpath('//*[@id=\"subjects\"]/div[1]/a[4]/span[2]').click()\n"
          ]
        }
      ],
      "source": [
        "k = 0\n",
        "t = 0\n",
        "full = DataFrame(columns = ['학정번호','강의명','교수명','유의사항','강의개요'])\n",
        "\n",
        "while(True):\n",
        "    k=k+1\n",
        "    try:\n",
        "        browser.find_element_by_xpath('//*[@id=\"subjectCategoryFilter\"]/div/ul/ul[12]/li[%d]'%k).click()\n",
        "        #응용통계학 버튼 클릭\n",
        "        #li[2] 부분이 학과(or 교양 카테고리) 선택하는 부분\n",
        "        browser.implicitly_wait(15)\n",
        "        inside = True\n",
        "        t = 0\n",
        "        while(inside):\n",
        "            t = t+1\n",
        "            try: #여기는 이전 페이지임.\n",
        "                num = browser.find_element_by_xpath('//*[@id=\"subjects\"]/div[2]/table/tbody/tr[%d]/td[4]'%t)\n",
        "                num = num.text\n",
        "                #이거 학정번호인데 딸 수 있음 따오자...\n",
        "                #tr 부분이 n번째 강의임\n",
        "\n",
        "                lec = browser.find_element_by_xpath('//*[@id=\"subjects\"]/div[2]/table/tbody/tr[%d]/td[6]'%t)\n",
        "                lec = lec.text\n",
        "\n",
        "                prof = browser.find_element_by_xpath('//*[@id=\"subjects\"]/div[2]/table/tbody/tr[%d]/td[7]'%t)\n",
        "                prof = prof.text\n",
        "        \n",
        "                care = browser.find_element_by_xpath('//*[@id=\"subjects\"]/div[2]/table/tbody/tr[%d]/td[12]'%t)\n",
        "                care = care.text\n",
        "\n",
        "                browser.find_element_by_xpath('//*[@id=\"subjects\"]/div[2]/table/tbody/tr[%d]/td[1]/a'%t).click()\n",
        "\n",
        "                browser.switch_to.window(browser.window_handles[1])\n",
        "                browser.implicitly_wait(10)\n",
        "\n",
        "                mat = browser.find_element_by_xpath('/html/body/form/table[2]/tbody/tr[5]/td[1]')\n",
        "                mat = mat.text\n",
        "        \n",
        "                if mat != '참고자료':\n",
        "                #간혹 '참고자료'를 포함하는 경우 xpath가 뒤로 밀리는 경우 발생하여 추가함.\n",
        "            \n",
        "                    cont = browser.find_element_by_xpath('/html/body/form/table[2]/tbody/tr[13]/td[2]')\n",
        "                    #강의개요 있는 부분\n",
        "                    cont = cont.text\n",
        "                else:\n",
        "                    cont = browser.find_element_by_xpath('/html/body/form/table[2]/tbody/tr[14]/td[2]')\n",
        "                    #강의개요 있는 부분\n",
        "                    cont = cont.text\n",
        "\n",
        "                    \n",
        "                one = Series([num,lec,prof,care,cont], index=['학정번호','강의명','교수명','유의사항','강의개요'])\n",
        "        #one['학정번호'] = num\n",
        "        #one['강의명'] = lec\n",
        "        #one['교수명'] = prof\n",
        "        #one['유의사항'] = care\n",
        "                full = full.append(one,ignore_index = True)\n",
        "        #time.sleep(1)\n",
        "                browser.close() #팝업창 닫기 - 해당 페이지의 크롤링이 다 끝나면 닫아주자.\n",
        "                browser.switch_to.window(browser.window_handles[0]) #원래 페이지로 돌아가기     \n",
        "\n",
        "            except:\n",
        "                inside = False\n",
        "                browser.find_element_by_xpath('//*[@id=\"subjects\"]/div[1]/a[4]/span[2]').click()\n",
        "                browser.implicitly_wait(10)\n",
        "    except:\n",
        "        break"
      ]
    },
    {
      "cell_type": "code",
      "execution_count": null,
      "metadata": {
        "id": "Z2LQKKIOiD7_",
        "outputId": "d5d2bf87-7a88-4671-fad8-87c2cb6ff638"
      },
      "outputs": [
        {
          "name": "stderr",
          "output_type": "stream",
          "text": [
            "<ipython-input-43-b07b3a998c37>:7: DeprecationWarning: find_element_by_* commands are deprecated. Please use find_element() instead\n",
            "  num = browser.find_element_by_xpath('//*[@id=\"subjects\"]/div[2]/table/tbody/tr[%d]/td[4]'%t)\n",
            "<ipython-input-43-b07b3a998c37>:12: DeprecationWarning: find_element_by_* commands are deprecated. Please use find_element() instead\n",
            "  lec = browser.find_element_by_xpath('//*[@id=\"subjects\"]/div[2]/table/tbody/tr[%d]/td[6]'%t)\n",
            "<ipython-input-43-b07b3a998c37>:15: DeprecationWarning: find_element_by_* commands are deprecated. Please use find_element() instead\n",
            "  prof = browser.find_element_by_xpath('//*[@id=\"subjects\"]/div[2]/table/tbody/tr[%d]/td[7]'%t)\n",
            "<ipython-input-43-b07b3a998c37>:18: DeprecationWarning: find_element_by_* commands are deprecated. Please use find_element() instead\n",
            "  care = browser.find_element_by_xpath('//*[@id=\"subjects\"]/div[2]/table/tbody/tr[%d]/td[12]'%t)\n",
            "<ipython-input-43-b07b3a998c37>:21: DeprecationWarning: find_element_by_* commands are deprecated. Please use find_element() instead\n",
            "  browser.find_element_by_xpath('//*[@id=\"subjects\"]/div[2]/table/tbody/tr[%d]/td[1]/a'%t).click()\n"
          ]
        }
      ],
      "source": [
        "'''\n",
        "tr 부분이 강의 고르는 부분임 (알아서 처음부터 끝까지 돌아가게 설정해놓았음)\n",
        "t = 0\n",
        "full = DataFrame(columns = ['학정번호','강의명','교수명','유의사항','강의개요'])\n",
        "while(True):\n",
        "    t = t+1\n",
        "    try: #여기는 이전 페이지임.\n",
        "        num = browser.find_element_by_xpath('//*[@id=\"subjects\"]/div[2]/table/tbody/tr[%d]/td[4]'%t)\n",
        "        num = num.text\n",
        "        #이거 학정번호인데 딸 수 있음 따오자...\n",
        "        #tr 부분이 n번째 강의임\n",
        "\n",
        "        lec = browser.find_element_by_xpath('//*[@id=\"subjects\"]/div[2]/table/tbody/tr[%d]/td[6]'%t)\n",
        "        lec = lec.text\n",
        "\n",
        "        prof = browser.find_element_by_xpath('//*[@id=\"subjects\"]/div[2]/table/tbody/tr[%d]/td[7]'%t)\n",
        "        prof = prof.text\n",
        "        \n",
        "        care = browser.find_element_by_xpath('//*[@id=\"subjects\"]/div[2]/table/tbody/tr[%d]/td[12]'%t)\n",
        "        care = care.text\n",
        "\n",
        "        browser.find_element_by_xpath('//*[@id=\"subjects\"]/div[2]/table/tbody/tr[%d]/td[1]/a'%t).click()\n",
        "\n",
        "        browser.switch_to.window(browser.window_handles[1])\n",
        "        browser.implicitly_wait(10)\n",
        "\n",
        "        mat = browser.find_element_by_xpath('/html/body/form/table[2]/tbody/tr[5]/td[1]')\n",
        "        mat = mat.text\n",
        "        \n",
        "        if mat != '참고자료':\n",
        "            \n",
        "            cont = browser.find_element_by_xpath('/html/body/form/table[2]/tbody/tr[13]/td[2]')\n",
        "            cont = cont.text\n",
        "        else:\n",
        "            cont = browser.find_element_by_xpath('/html/body/form/table[2]/tbody/tr[14]/td[2]')\n",
        "            cont = cont.text\n",
        "        '''\n",
        "        #아아아\n",
        "        #contlist = []\n",
        "        #for i in range(3,18):\n",
        "            #cont = browser.find_element_by_xpath('/html/body/form/table[3]/tbody/tr[%d]/td[3]'%i)\n",
        "            #cont = cont.text\n",
        "            #contlist.append(cont)\n",
        "        #contlist = ''.join(contlist)\n",
        "        '''\n",
        "        \n",
        "        \n",
        "        \n",
        "                    \n",
        "        one = Series([num,lec,prof,care,cont], index=['학정번호','강의명','교수명','유의사항','강의개요'])\n",
        "        #one['학정번호'] = num\n",
        "        #one['강의명'] = lec\n",
        "        #one['교수명'] = prof\n",
        "        #one['유의사항'] = care\n",
        "        full = full.append(one,ignore_index = True)\n",
        "        #time.sleep(1)\n",
        "        browser.close() #팝업창 닫기 - 해당 페이지의 크롤링이 다 끝나면 닫아주자.\n",
        "        browser.switch_to.window(browser.window_handles[0]) #원래 페이지로 돌아가기     \n",
        "\n",
        "    except:\n",
        "        break\n",
        "'''\n",
        "#"
      ]
    },
    {
      "cell_type": "code",
      "execution_count": null,
      "metadata": {
        "scrolled": true,
        "id": "nhB_4VdgiD8D",
        "outputId": "39c7102a-8877-4660-b9db-05383655562c"
      },
      "outputs": [
        {
          "data": {
            "text/html": [
              "<div>\n",
              "<style scoped>\n",
              "    .dataframe tbody tr th:only-of-type {\n",
              "        vertical-align: middle;\n",
              "    }\n",
              "\n",
              "    .dataframe tbody tr th {\n",
              "        vertical-align: top;\n",
              "    }\n",
              "\n",
              "    .dataframe thead th {\n",
              "        text-align: right;\n",
              "    }\n",
              "</style>\n",
              "<table border=\"1\" class=\"dataframe\">\n",
              "  <thead>\n",
              "    <tr style=\"text-align: right;\">\n",
              "      <th></th>\n",
              "      <th>학정번호</th>\n",
              "      <th>강의명</th>\n",
              "      <th>교수명</th>\n",
              "      <th>유의사항</th>\n",
              "      <th>강의개요</th>\n",
              "    </tr>\n",
              "  </thead>\n",
              "  <tbody>\n",
              "    <tr>\n",
              "      <th>0</th>\n",
              "      <td>ECO1101-01-00</td>\n",
              "      <td>경제수학(1)</td>\n",
              "      <td>지창구</td>\n",
              "      <td>100%온라인:동영상-실시간혼합강의, 영어강의, 절대평가</td>\n",
              "      <td>The main objective of this course is to build ...</td>\n",
              "    </tr>\n",
              "    <tr>\n",
              "      <th>1</th>\n",
              "      <td>ECO1101-02-00</td>\n",
              "      <td>경제수학(1)</td>\n",
              "      <td>문명인</td>\n",
              "      <td>100%온라인:동영상-실시간혼합강의, 절대평가</td>\n",
              "      <td>경제학과에서 필요로 하는  수학의 주요내용,특히 선형대수학과 미분적분학의 중요한 내...</td>\n",
              "    </tr>\n",
              "    <tr>\n",
              "      <th>2</th>\n",
              "      <td>ECO1101-03-00</td>\n",
              "      <td>경제수학(1)</td>\n",
              "      <td>이진현</td>\n",
              "      <td>100%온라인:동영상-실시간혼합강의, 절대평가</td>\n",
              "      <td>이 과목은 경제학을 시작하는 학부 학생들에게 경제학에서 필히 사용되는 기본 도구로서...</td>\n",
              "    </tr>\n",
              "    <tr>\n",
              "      <th>3</th>\n",
              "      <td>ECO1101-04-00</td>\n",
              "      <td>경제수학(1)</td>\n",
              "      <td>서보윤</td>\n",
              "      <td>국제캠퍼스과목, 100%온라인:동영상-실시간혼합강의, 절대평가</td>\n",
              "      <td>경제학에 필요한 선형대수와 미적분학의 중요한 개념을 이해하고 익히는 것을 목표로 한...</td>\n",
              "    </tr>\n",
              "    <tr>\n",
              "      <th>4</th>\n",
              "      <td>ECO1101-05-00</td>\n",
              "      <td>경제수학(1)</td>\n",
              "      <td>서보윤</td>\n",
              "      <td>국제캠퍼스과목, 100%온라인:동영상-실시간혼합강의, 절대평가</td>\n",
              "      <td>경제학에 필요한 선형대수와 미적분학의 중요한 개념을 이해하고 익히는 것을 목표로 한...</td>\n",
              "    </tr>\n",
              "    <tr>\n",
              "      <th>...</th>\n",
              "      <td>...</td>\n",
              "      <td>...</td>\n",
              "      <td>...</td>\n",
              "      <td>...</td>\n",
              "      <td>...</td>\n",
              "    </tr>\n",
              "    <tr>\n",
              "      <th>90</th>\n",
              "      <td>STA4119-01-00</td>\n",
              "      <td>데이터사이언스를 위한 QISKIT</td>\n",
              "      <td>이학배</td>\n",
              "      <td>100%온라인:실시간온라인강의, 절대평가</td>\n",
              "      <td>양자 컴퓨팅(quantum computing)을 실행하기 위한 프로그래밍 소프트웨어...</td>\n",
              "    </tr>\n",
              "    <tr>\n",
              "      <th>91</th>\n",
              "      <td>STA4120-01-00</td>\n",
              "      <td>고급 데이터사이언스 방법론</td>\n",
              "      <td>임종호</td>\n",
              "      <td>100%온라인:동영상-실시간혼합강의, 절대평가</td>\n",
              "      <td>From the perspectives of sampling, weighting, ...</td>\n",
              "    </tr>\n",
              "    <tr>\n",
              "      <th>92</th>\n",
              "      <td>STA3110-01-00</td>\n",
              "      <td>시계열분석</td>\n",
              "      <td>문지은</td>\n",
              "      <td>100%온라인:동영상-실시간혼합강의, 절대평가</td>\n",
              "      <td>현대 시대는 실시간으로 많은 데이터들이 쏟아져 나오고 있다. 본 수업에서는 아주 다...</td>\n",
              "    </tr>\n",
              "    <tr>\n",
              "      <th>93</th>\n",
              "      <td>STA4111-01-00</td>\n",
              "      <td>보험통계</td>\n",
              "      <td>김현태</td>\n",
              "      <td>100%온라인:동영상-실시간혼합강의, 영어강의, 절대평가</td>\n",
              "      <td>Students will learn how to price standard life...</td>\n",
              "    </tr>\n",
              "    <tr>\n",
              "      <th>94</th>\n",
              "      <td>STA4115-01-00</td>\n",
              "      <td>이론통계학(1)</td>\n",
              "      <td>강승호</td>\n",
              "      <td>100%온라인:동영상-실시간혼합강의, 절대평가</td>\n",
              "      <td>수리통계학1과 수리통계학2에서 배운 내용을 기초로, 통계학의 더 깊은 핵심 이론을 ...</td>\n",
              "    </tr>\n",
              "  </tbody>\n",
              "</table>\n",
              "<p>95 rows × 5 columns</p>\n",
              "</div>"
            ],
            "text/plain": [
              "             학정번호                 강의명  교수명  \\\n",
              "0   ECO1101-01-00             경제수학(1)  지창구   \n",
              "1   ECO1101-02-00             경제수학(1)  문명인   \n",
              "2   ECO1101-03-00             경제수학(1)  이진현   \n",
              "3   ECO1101-04-00             경제수학(1)  서보윤   \n",
              "4   ECO1101-05-00             경제수학(1)  서보윤   \n",
              "..            ...                 ...  ...   \n",
              "90  STA4119-01-00  데이터사이언스를 위한 QISKIT  이학배   \n",
              "91  STA4120-01-00      고급 데이터사이언스 방법론  임종호   \n",
              "92  STA3110-01-00               시계열분석  문지은   \n",
              "93  STA4111-01-00                보험통계  김현태   \n",
              "94  STA4115-01-00            이론통계학(1)  강승호   \n",
              "\n",
              "                                  유의사항  \\\n",
              "0      100%온라인:동영상-실시간혼합강의, 영어강의, 절대평가   \n",
              "1            100%온라인:동영상-실시간혼합강의, 절대평가   \n",
              "2            100%온라인:동영상-실시간혼합강의, 절대평가   \n",
              "3   국제캠퍼스과목, 100%온라인:동영상-실시간혼합강의, 절대평가   \n",
              "4   국제캠퍼스과목, 100%온라인:동영상-실시간혼합강의, 절대평가   \n",
              "..                                 ...   \n",
              "90              100%온라인:실시간온라인강의, 절대평가   \n",
              "91           100%온라인:동영상-실시간혼합강의, 절대평가   \n",
              "92           100%온라인:동영상-실시간혼합강의, 절대평가   \n",
              "93     100%온라인:동영상-실시간혼합강의, 영어강의, 절대평가   \n",
              "94           100%온라인:동영상-실시간혼합강의, 절대평가   \n",
              "\n",
              "                                                 강의개요  \n",
              "0   The main objective of this course is to build ...  \n",
              "1   경제학과에서 필요로 하는  수학의 주요내용,특히 선형대수학과 미분적분학의 중요한 내...  \n",
              "2   이 과목은 경제학을 시작하는 학부 학생들에게 경제학에서 필히 사용되는 기본 도구로서...  \n",
              "3   경제학에 필요한 선형대수와 미적분학의 중요한 개념을 이해하고 익히는 것을 목표로 한...  \n",
              "4   경제학에 필요한 선형대수와 미적분학의 중요한 개념을 이해하고 익히는 것을 목표로 한...  \n",
              "..                                                ...  \n",
              "90  양자 컴퓨팅(quantum computing)을 실행하기 위한 프로그래밍 소프트웨어...  \n",
              "91  From the perspectives of sampling, weighting, ...  \n",
              "92  현대 시대는 실시간으로 많은 데이터들이 쏟아져 나오고 있다. 본 수업에서는 아주 다...  \n",
              "93  Students will learn how to price standard life...  \n",
              "94  수리통계학1과 수리통계학2에서 배운 내용을 기초로, 통계학의 더 깊은 핵심 이론을 ...  \n",
              "\n",
              "[95 rows x 5 columns]"
            ]
          },
          "execution_count": 55,
          "metadata": {},
          "output_type": "execute_result"
        }
      ],
      "source": [
        "full"
      ]
    },
    {
      "cell_type": "code",
      "execution_count": null,
      "metadata": {
        "id": "5VOad_PUiD8F",
        "outputId": "5830ba2a-4c82-48d3-ea62-9168ec228f8a"
      },
      "outputs": [
        {
          "data": {
            "text/html": [
              "<div>\n",
              "<style scoped>\n",
              "    .dataframe tbody tr th:only-of-type {\n",
              "        vertical-align: middle;\n",
              "    }\n",
              "\n",
              "    .dataframe tbody tr th {\n",
              "        vertical-align: top;\n",
              "    }\n",
              "\n",
              "    .dataframe thead th {\n",
              "        text-align: right;\n",
              "    }\n",
              "</style>\n",
              "<table border=\"1\" class=\"dataframe\">\n",
              "  <thead>\n",
              "    <tr style=\"text-align: right;\">\n",
              "      <th></th>\n",
              "      <th>학정번호</th>\n",
              "      <th>강의명</th>\n",
              "      <th>교수명</th>\n",
              "      <th>유의사항</th>\n",
              "      <th>강의개요</th>\n",
              "    </tr>\n",
              "  </thead>\n",
              "  <tbody>\n",
              "    <tr>\n",
              "      <th>0</th>\n",
              "      <td>ECO1101-01-00</td>\n",
              "      <td>경제수학(1)</td>\n",
              "      <td>지창구</td>\n",
              "      <td>100%온라인:동영상-실시간혼합강의, 영어강의, 절대평가</td>\n",
              "      <td>The main objective of this course is to build ...</td>\n",
              "    </tr>\n",
              "    <tr>\n",
              "      <th>1</th>\n",
              "      <td>ECO1101-02-00</td>\n",
              "      <td>경제수학(1)</td>\n",
              "      <td>문명인</td>\n",
              "      <td>100%온라인:동영상-실시간혼합강의, 절대평가</td>\n",
              "      <td>경제학과에서 필요로 하는  수학의 주요내용,특히 선형대수학과 미분적분학의 중요한 내...</td>\n",
              "    </tr>\n",
              "    <tr>\n",
              "      <th>2</th>\n",
              "      <td>ECO1101-03-00</td>\n",
              "      <td>경제수학(1)</td>\n",
              "      <td>이진현</td>\n",
              "      <td>100%온라인:동영상-실시간혼합강의, 절대평가</td>\n",
              "      <td>이 과목은 경제학을 시작하는 학부 학생들에게 경제학에서 필히 사용되는 기본 도구로서...</td>\n",
              "    </tr>\n",
              "    <tr>\n",
              "      <th>3</th>\n",
              "      <td>ECO1101-04-00</td>\n",
              "      <td>경제수학(1)</td>\n",
              "      <td>서보윤</td>\n",
              "      <td>국제캠퍼스과목, 100%온라인:동영상-실시간혼합강의, 절대평가</td>\n",
              "      <td>경제학에 필요한 선형대수와 미적분학의 중요한 개념을 이해하고 익히는 것을 목표로 한...</td>\n",
              "    </tr>\n",
              "    <tr>\n",
              "      <th>4</th>\n",
              "      <td>ECO1101-07-00</td>\n",
              "      <td>경제수학(1)</td>\n",
              "      <td>김준희</td>\n",
              "      <td>국제캠퍼스과목, 100%온라인:동영상-실시간혼합강의, 영어강의, 절대평가</td>\n",
              "      <td>This course aims to provide students with the ...</td>\n",
              "    </tr>\n",
              "    <tr>\n",
              "      <th>...</th>\n",
              "      <td>...</td>\n",
              "      <td>...</td>\n",
              "      <td>...</td>\n",
              "      <td>...</td>\n",
              "      <td>...</td>\n",
              "    </tr>\n",
              "    <tr>\n",
              "      <th>81</th>\n",
              "      <td>STA4119-01-00</td>\n",
              "      <td>데이터사이언스를 위한 QISKIT</td>\n",
              "      <td>이학배</td>\n",
              "      <td>100%온라인:실시간온라인강의, 절대평가</td>\n",
              "      <td>양자 컴퓨팅(quantum computing)을 실행하기 위한 프로그래밍 소프트웨어...</td>\n",
              "    </tr>\n",
              "    <tr>\n",
              "      <th>82</th>\n",
              "      <td>STA4120-01-00</td>\n",
              "      <td>고급 데이터사이언스 방법론</td>\n",
              "      <td>임종호</td>\n",
              "      <td>100%온라인:동영상-실시간혼합강의, 절대평가</td>\n",
              "      <td>From the perspectives of sampling, weighting, ...</td>\n",
              "    </tr>\n",
              "    <tr>\n",
              "      <th>83</th>\n",
              "      <td>STA3110-01-00</td>\n",
              "      <td>시계열분석</td>\n",
              "      <td>문지은</td>\n",
              "      <td>100%온라인:동영상-실시간혼합강의, 절대평가</td>\n",
              "      <td>현대 시대는 실시간으로 많은 데이터들이 쏟아져 나오고 있다. 본 수업에서는 아주 다...</td>\n",
              "    </tr>\n",
              "    <tr>\n",
              "      <th>84</th>\n",
              "      <td>STA4111-01-00</td>\n",
              "      <td>보험통계</td>\n",
              "      <td>김현태</td>\n",
              "      <td>100%온라인:동영상-실시간혼합강의, 영어강의, 절대평가</td>\n",
              "      <td>Students will learn how to price standard life...</td>\n",
              "    </tr>\n",
              "    <tr>\n",
              "      <th>85</th>\n",
              "      <td>STA4115-01-00</td>\n",
              "      <td>이론통계학(1)</td>\n",
              "      <td>강승호</td>\n",
              "      <td>100%온라인:동영상-실시간혼합강의, 절대평가</td>\n",
              "      <td>수리통계학1과 수리통계학2에서 배운 내용을 기초로, 통계학의 더 깊은 핵심 이론을 ...</td>\n",
              "    </tr>\n",
              "  </tbody>\n",
              "</table>\n",
              "<p>86 rows × 5 columns</p>\n",
              "</div>"
            ],
            "text/plain": [
              "             학정번호                 강의명  교수명  \\\n",
              "0   ECO1101-01-00             경제수학(1)  지창구   \n",
              "1   ECO1101-02-00             경제수학(1)  문명인   \n",
              "2   ECO1101-03-00             경제수학(1)  이진현   \n",
              "3   ECO1101-04-00             경제수학(1)  서보윤   \n",
              "4   ECO1101-07-00             경제수학(1)  김준희   \n",
              "..            ...                 ...  ...   \n",
              "81  STA4119-01-00  데이터사이언스를 위한 QISKIT  이학배   \n",
              "82  STA4120-01-00      고급 데이터사이언스 방법론  임종호   \n",
              "83  STA3110-01-00               시계열분석  문지은   \n",
              "84  STA4111-01-00                보험통계  김현태   \n",
              "85  STA4115-01-00            이론통계학(1)  강승호   \n",
              "\n",
              "                                        유의사항  \\\n",
              "0            100%온라인:동영상-실시간혼합강의, 영어강의, 절대평가   \n",
              "1                  100%온라인:동영상-실시간혼합강의, 절대평가   \n",
              "2                  100%온라인:동영상-실시간혼합강의, 절대평가   \n",
              "3         국제캠퍼스과목, 100%온라인:동영상-실시간혼합강의, 절대평가   \n",
              "4   국제캠퍼스과목, 100%온라인:동영상-실시간혼합강의, 영어강의, 절대평가   \n",
              "..                                       ...   \n",
              "81                    100%온라인:실시간온라인강의, 절대평가   \n",
              "82                 100%온라인:동영상-실시간혼합강의, 절대평가   \n",
              "83                 100%온라인:동영상-실시간혼합강의, 절대평가   \n",
              "84           100%온라인:동영상-실시간혼합강의, 영어강의, 절대평가   \n",
              "85                 100%온라인:동영상-실시간혼합강의, 절대평가   \n",
              "\n",
              "                                                 강의개요  \n",
              "0   The main objective of this course is to build ...  \n",
              "1   경제학과에서 필요로 하는  수학의 주요내용,특히 선형대수학과 미분적분학의 중요한 내...  \n",
              "2   이 과목은 경제학을 시작하는 학부 학생들에게 경제학에서 필히 사용되는 기본 도구로서...  \n",
              "3   경제학에 필요한 선형대수와 미적분학의 중요한 개념을 이해하고 익히는 것을 목표로 한...  \n",
              "4   This course aims to provide students with the ...  \n",
              "..                                                ...  \n",
              "81  양자 컴퓨팅(quantum computing)을 실행하기 위한 프로그래밍 소프트웨어...  \n",
              "82  From the perspectives of sampling, weighting, ...  \n",
              "83  현대 시대는 실시간으로 많은 데이터들이 쏟아져 나오고 있다. 본 수업에서는 아주 다...  \n",
              "84  Students will learn how to price standard life...  \n",
              "85  수리통계학1과 수리통계학2에서 배운 내용을 기초로, 통계학의 더 깊은 핵심 이론을 ...  \n",
              "\n",
              "[86 rows x 5 columns]"
            ]
          },
          "execution_count": 56,
          "metadata": {},
          "output_type": "execute_result"
        }
      ],
      "source": [
        "final = full.drop_duplicates(subset=['강의명', '교수명'], keep='first', inplace=False, ignore_index=True)\n",
        "#다른 시간 수업이면 학정번호가 다르기 때문에 학정번호는 제외하고 겹치는 강의평들은 모두 제외\n",
        "#같은 교수님 같은 강의가 여러 시간대에 존재할 수도 있기 때문\n",
        "\n",
        "final"
      ]
    },
    {
      "cell_type": "code",
      "execution_count": null,
      "metadata": {
        "id": "t_CFwLlsiD8H"
      },
      "outputs": [],
      "source": [
        "browser.quit()"
      ]
    },
    {
      "cell_type": "code",
      "execution_count": null,
      "metadata": {
        "id": "0Kfg435ciD8J"
      },
      "outputs": [],
      "source": [
        "#browser.switch_to.window(browser.window_handles[0])"
      ]
    },
    {
      "cell_type": "code",
      "execution_count": null,
      "metadata": {
        "id": "oZ0GtbEliD8J"
      },
      "outputs": [],
      "source": [
        "final.to_csv('상경대학.csv',encoding='utf-8-sig', index=False)"
      ]
    },
    {
      "cell_type": "code",
      "execution_count": null,
      "metadata": {
        "id": "LmecetpeiD8L"
      },
      "outputs": [],
      "source": [
        "only_cont = final['강의개요']"
      ]
    },
    {
      "cell_type": "code",
      "execution_count": null,
      "metadata": {
        "id": "q1IOr6qFiD8M",
        "outputId": "9e8706ed-2c9f-4c61-f34e-93a6db46ea9d"
      },
      "outputs": [
        {
          "data": {
            "text/plain": [
              "0     The main objective of this course is to build ...\n",
              "1     경제학과에서 필요로 하는  수학의 주요내용,특히 선형대수학과 미분적분학의 중요한 내...\n",
              "2     이 과목은 경제학을 시작하는 학부 학생들에게 경제학에서 필히 사용되는 기본 도구로서...\n",
              "3     경제학에 필요한 선형대수와 미적분학의 중요한 개념을 이해하고 익히는 것을 목표로 한...\n",
              "4     This course aims to provide students with the ...\n",
              "                            ...                        \n",
              "81    양자 컴퓨팅(quantum computing)을 실행하기 위한 프로그래밍 소프트웨어...\n",
              "82    From the perspectives of sampling, weighting, ...\n",
              "83    현대 시대는 실시간으로 많은 데이터들이 쏟아져 나오고 있다. 본 수업에서는 아주 다...\n",
              "84    Students will learn how to price standard life...\n",
              "85    수리통계학1과 수리통계학2에서 배운 내용을 기초로, 통계학의 더 깊은 핵심 이론을 ...\n",
              "Name: 강의개요, Length: 86, dtype: object"
            ]
          },
          "execution_count": 59,
          "metadata": {},
          "output_type": "execute_result"
        }
      ],
      "source": [
        "only_cont"
      ]
    },
    {
      "cell_type": "code",
      "execution_count": null,
      "metadata": {
        "id": "9NajDtvfiD8O"
      },
      "outputs": [],
      "source": [
        "only_cont.to_excel('상경대학_강의개요.xlsx',encoding='utf-8-sig')"
      ]
    }
  ],
  "metadata": {
    "kernelspec": {
      "display_name": "Python 3",
      "language": "python",
      "name": "python3"
    },
    "language_info": {
      "codemirror_mode": {
        "name": "ipython",
        "version": 3
      },
      "file_extension": ".py",
      "mimetype": "text/x-python",
      "name": "python",
      "nbconvert_exporter": "python",
      "pygments_lexer": "ipython3",
      "version": "3.8.3"
    },
    "colab": {
      "name": "crawling_syllabus.ipynb",
      "provenance": []
    }
  },
  "nbformat": 4,
  "nbformat_minor": 0
}