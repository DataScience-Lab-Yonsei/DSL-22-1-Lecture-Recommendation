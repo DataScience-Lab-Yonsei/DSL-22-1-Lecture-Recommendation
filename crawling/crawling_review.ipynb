{
  "cells": [
    {
      "cell_type": "code",
      "execution_count": null,
      "metadata": {
        "id": "x1mIzpdmlDEp"
      },
      "outputs": [],
      "source": [
        "#셀레늄 라이브러리 불러오기\n",
        "from selenium import webdriver\n",
        "\n",
        "#셀레늄에서 html문서가 생성될 때까지 대기하는 함수 불러오기\n",
        "from selenium.webdriver.support.ui import WebDriverWait\n",
        "\n",
        "#셀레늄에서 조건을 걸어줄 수 있는 함수 불러오기\n",
        "from selenium.webdriver.support import expected_conditions as EC\n",
        "from selenium.webdriver.common.by import By\n",
        "\n",
        "#이외 필요한 라이브러리\n",
        "import re\n",
        "from pandas import DataFrame\n",
        "import pandas as pd\n",
        "import numpy as np"
      ]
    },
    {
      "cell_type": "code",
      "execution_count": null,
      "metadata": {
        "id": "XJRQixX1lDEx",
        "outputId": "a3a29c4d-3c63-4ef6-8ce5-9c6c46a39a19"
      },
      "outputs": [
        {
          "name": "stderr",
          "output_type": "stream",
          "text": [
            "<ipython-input-2-38d53d7b24c6>:5: DeprecationWarning: executable_path has been deprecated, please pass in a Service object\n",
            "  browser = webdriver.Chrome(path)\n"
          ]
        }
      ],
      "source": [
        "#크롬드라이버 경로 설정\n",
        "#본인의 크롬 드라이버 경로로 설정\n",
        "path = ''\n",
        "\n",
        "#드라이버 객체 생성\n",
        "browser = webdriver.Chrome(path)\n"
      ]
    },
    {
      "cell_type": "code",
      "execution_count": null,
      "metadata": {
        "id": "YZaq9nqylDE0"
      },
      "outputs": [],
      "source": [
        "browser.get('https://everytime.kr')\n",
        "#에브리타임 주소 입력"
      ]
    },
    {
      "cell_type": "code",
      "execution_count": null,
      "metadata": {
        "id": "m_XrfuLOlDE1",
        "outputId": "c31e4ec7-abe1-4462-c3ea-29dc2f41c772"
      },
      "outputs": [
        {
          "name": "stderr",
          "output_type": "stream",
          "text": [
            "<ipython-input-4-d0a81028444b>:1: DeprecationWarning: find_element_by_* commands are deprecated. Please use find_element() instead\n",
            "  browser.find_element_by_xpath('/html/body/aside/div[1]/a[2]').click()\n"
          ]
        }
      ],
      "source": [
        "browser.find_element_by_xpath('/html/body/aside/div[1]/a[2]').click()\n",
        "#로그인버튼 클릭"
      ]
    },
    {
      "cell_type": "code",
      "execution_count": null,
      "metadata": {
        "id": "JJlSCS-hlDE3",
        "outputId": "3be9670b-7a60-43ed-8627-7110debb51b4"
      },
      "outputs": [
        {
          "name": "stderr",
          "output_type": "stream",
          "text": [
            "<ipython-input-5-eb9608f2989c>:1: DeprecationWarning: find_element_by_* commands are deprecated. Please use find_element() instead\n",
            "  browser.find_element_by_xpath('//*[@id=\"container\"]/form/p[1]/input').send_keys(['lsj3232'])\n",
            "<ipython-input-5-eb9608f2989c>:2: DeprecationWarning: find_element_by_* commands are deprecated. Please use find_element() instead\n",
            "  browser.find_element_by_xpath('//*[@id=\"container\"]/form/p[2]/input').send_keys(['ll112203!!'])\n",
            "<ipython-input-5-eb9608f2989c>:3: DeprecationWarning: find_element_by_* commands are deprecated. Please use find_element() instead\n",
            "  browser.find_element_by_xpath('//*[@id=\"container\"]/form/p[3]/input').click()\n"
          ]
        }
      ],
      "source": [
        "browser.find_element_by_xpath('//*[@id=\"container\"]/form/p[1]/input').send_keys(['']) #본인 아이디 입력\n",
        "browser.find_element_by_xpath('//*[@id=\"container\"]/form/p[2]/input').send_keys(['']) #본인 비밀번호 입력\n",
        "browser.find_element_by_xpath('//*[@id=\"container\"]/form/p[3]/input').click()\n",
        "#아이디, 비밀번호 입력하여 로그인"
      ]
    },
    {
      "cell_type": "code",
      "execution_count": null,
      "metadata": {
        "scrolled": true,
        "id": "T5PU0_CzlDE4",
        "outputId": "b76d70f0-bcbc-4f26-bd28-661ce28d3359"
      },
      "outputs": [
        {
          "name": "stderr",
          "output_type": "stream",
          "text": [
            "<ipython-input-6-6715de3e9dd9>:1: DeprecationWarning: find_element_by_* commands are deprecated. Please use find_element() instead\n",
            "  browser.find_element_by_xpath('//*[@id=\"menu\"]/li[2]/a').click()\n"
          ]
        }
      ],
      "source": [
        "browser.find_element_by_xpath('//*[@id=\"menu\"]/li[2]/a').click()\n",
        "#시간표 버튼 클릭"
      ]
    },
    {
      "cell_type": "code",
      "execution_count": null,
      "metadata": {
        "id": "RAxvzUMelDE6",
        "outputId": "040a91db-211e-4a65-ecbe-3c1da23c1993"
      },
      "outputs": [
        {
          "name": "stderr",
          "output_type": "stream",
          "text": [
            "<ipython-input-7-374c4107f422>:1: DeprecationWarning: find_element_by_* commands are deprecated. Please use find_element() instead\n",
            "  browser.find_element_by_xpath('//*[@id=\"container\"]/ul/li[1]').click()\n"
          ]
        }
      ],
      "source": [
        "browser.find_element_by_xpath('//*[@id=\"container\"]/ul/li[1]').click()\n",
        "#수업목록에서 검색 클릭"
      ]
    },
    {
      "cell_type": "code",
      "execution_count": null,
      "metadata": {
        "id": "sFHhO8qMlDE8",
        "outputId": "8a7c581a-2553-404a-9183-ca8841331ef0"
      },
      "outputs": [
        {
          "name": "stderr",
          "output_type": "stream",
          "text": [
            "<ipython-input-8-2cbca9df9766>:1: DeprecationWarning: find_element_by_* commands are deprecated. Please use find_element() instead\n",
            "  browser.find_element_by_xpath('//*[@id=\"subjects\"]/div[1]/a[4]/span[2]').click()\n"
          ]
        }
      ],
      "source": [
        "browser.find_element_by_xpath('//*[@id=\"subjects\"]/div[1]/a[4]/span[2]').click()\n",
        "#전공/영역:전체 클릭 (상세 교양/전공 찾아가는 칸)"
      ]
    },
    {
      "cell_type": "code",
      "execution_count": null,
      "metadata": {
        "id": "BulO1A2jlDE9",
        "outputId": "792009b1-d210-4c9b-9c0c-147898db2eef"
      },
      "outputs": [
        {
          "name": "stderr",
          "output_type": "stream",
          "text": [
            "<ipython-input-9-215686117ea4>:1: DeprecationWarning: find_element_by_* commands are deprecated. Please use find_element() instead\n",
            "  browser.find_element_by_xpath('//*[@id=\"subjectCategoryFilter\"]/div/ul/li[12]').click()\n"
          ]
        }
      ],
      "source": [
        "browser.find_element_by_xpath('//*[@id=\"subjectCategoryFilter\"]/div/ul/li[12]').click()\n",
        "#상경대학 버튼 클릭\n",
        "#li[12]부분이 단과대(or 교양 세부) 선택하는 부분 \n",
        "#에브리타임에서도 확인해보면 상경대학이 12번째에 있습니다! 그거 참고하셔서 li부분 변경하셔도 되고,\n",
        "#아니면 그냥 직접 크롬 창에서 '검사' 부분 눌러서 Xpath 복사하셔도 됩니다!"
      ]
    },
    {
      "cell_type": "code",
      "execution_count": null,
      "metadata": {
        "id": "t4KtREBWlDE_",
        "outputId": "3d403a62-0111-4ee2-9d25-00f014f79e28"
      },
      "outputs": [
        {
          "name": "stderr",
          "output_type": "stream",
          "text": [
            "<ipython-input-10-2383789f249f>:1: DeprecationWarning: find_element_by_* commands are deprecated. Please use find_element() instead\n",
            "  browser.find_element_by_xpath('//*[@id=\"subjectCategoryFilter\"]/div/ul/ul[12]/li[2]').click()\n"
          ]
        }
      ],
      "source": [
        "browser.find_element_by_xpath('//*[@id=\"subjectCategoryFilter\"]/div/ul/ul[12]/li[2]').click()\n",
        "#응용통계학 버튼 클릭\n",
        "#li[2] 부분이 학과(or 교양 카테고리) 선택하는 부분\n",
        "#이것 역시 응용통계가 상경대학 누른 것 중에서는 두 번째에 있기 때문입니다!\n",
        "#직접 Xpath 복사하셔도 괜찮습니다!!"
      ]
    },
    {
      "cell_type": "code",
      "execution_count": null,
      "metadata": {
        "id": "_oaQ2Jx1lDFB",
        "outputId": "fe7679cd-4a24-4984-92b5-b398dcf392ac"
      },
      "outputs": [
        {
          "name": "stderr",
          "output_type": "stream",
          "text": [
            "<ipython-input-11-5865bdcc6cba>:7: DeprecationWarning: find_element_by_* commands are deprecated. Please use find_element() instead\n",
            "  num = browser.find_element_by_xpath('//*[@id=\"subjects\"]/div[2]/table/tbody/tr[%d]/td[4]'%t)\n",
            "<ipython-input-11-5865bdcc6cba>:12: DeprecationWarning: find_element_by_* commands are deprecated. Please use find_element() instead\n",
            "  lec = browser.find_element_by_xpath('//*[@id=\"subjects\"]/div[2]/table/tbody/tr[%d]/td[6]'%t)\n",
            "<ipython-input-11-5865bdcc6cba>:15: DeprecationWarning: find_element_by_* commands are deprecated. Please use find_element() instead\n",
            "  prof = browser.find_element_by_xpath('//*[@id=\"subjects\"]/div[2]/table/tbody/tr[%d]/td[7]'%t)\n",
            "<ipython-input-11-5865bdcc6cba>:18: DeprecationWarning: find_element_by_* commands are deprecated. Please use find_element() instead\n",
            "  care = browser.find_element_by_xpath('//*[@id=\"subjects\"]/div[2]/table/tbody/tr[%d]/td[12]'%t)\n",
            "<ipython-input-11-5865bdcc6cba>:21: DeprecationWarning: find_element_by_* commands are deprecated. Please use find_element() instead\n",
            "  browser.find_element_by_xpath('//*[@id=\"subjects\"]/div[2]/table/tbody/tr[%d]/td[10]/a'%t).click()\n",
            "<ipython-input-11-5865bdcc6cba>:34: DeprecationWarning: find_element_by_* commands are deprecated. Please use find_element() instead\n",
            "  star = browser.find_element_by_xpath('//*[@id=\"container\"]/div[4]/div[2]/article[%d]/p[1]/span/span'%i)\n",
            "<ipython-input-11-5865bdcc6cba>:42: DeprecationWarning: find_element_by_* commands are deprecated. Please use find_element() instead\n",
            "  when = browser.find_element_by_xpath('//*[@id=\"container\"]/div[4]/div[2]/article[%d]/p[2]/span'%i)\n",
            "<ipython-input-11-5865bdcc6cba>:47: DeprecationWarning: find_element_by_* commands are deprecated. Please use find_element() instead\n",
            "  review = browser.find_element_by_xpath('//*[@id=\"container\"]/div[4]/div[2]/article[%d]/p[3]'%i)\n"
          ]
        }
      ],
      "source": [
        "#tr 부분이 강의 고르는 부분임 (알아서 처음부터 끝까지 돌아가게 설정해놓았음)\n",
        "t = 0\n",
        "full = DataFrame(columns = ['학정번호','강의명','교수명','유의사항','별점','수강시기','강의평'])\n",
        "while(True):\n",
        "    t = t+1\n",
        "    try: #여기는 이전 페이지임.\n",
        "        num = browser.find_element_by_xpath('//*[@id=\"subjects\"]/div[2]/table/tbody/tr[%d]/td[4]'%t)\n",
        "        num = num.text\n",
        "        #이거 학정번호인데 딸 수 있음 따오자...\n",
        "        #tr 부분이 n번째 강의임\n",
        "\n",
        "        lec = browser.find_element_by_xpath('//*[@id=\"subjects\"]/div[2]/table/tbody/tr[%d]/td[6]'%t)\n",
        "        lec = lec.text\n",
        "\n",
        "        prof = browser.find_element_by_xpath('//*[@id=\"subjects\"]/div[2]/table/tbody/tr[%d]/td[7]'%t)\n",
        "        prof = prof.text\n",
        "        \n",
        "        care = browser.find_element_by_xpath('//*[@id=\"subjects\"]/div[2]/table/tbody/tr[%d]/td[12]'%t)\n",
        "        care = care.text\n",
        "\n",
        "        browser.find_element_by_xpath('//*[@id=\"subjects\"]/div[2]/table/tbody/tr[%d]/td[10]/a'%t).click()\n",
        "\n",
        "        try: #리뷰 페이지 안으로 들어옴.\n",
        "            browser.switch_to.window(browser.window_handles[1])\n",
        "            browser.implicitly_wait(10)\n",
        "            starlist = []\n",
        "            whenlist = []\n",
        "            reviewlist = []\n",
        "            i=0\n",
        "            inside = True\n",
        "            while(inside): #이제 리뷰 끝까지 볼 거다???\n",
        "                i = i+1\n",
        "                try: #리뷰가 있는 만큼 계속 찾아!!\n",
        "                    star = browser.find_element_by_xpath('//*[@id=\"container\"]/div[4]/div[2]/article[%d]/p[1]/span/span'%i)\n",
        "                    starper = int(re.sub(r'[^0-9]', '', star.get_attribute('style')))\n",
        "                    #100%, 80% 이런 식으로 나와있어서 숫자만 추출함\n",
        "\n",
        "                    realstar= starper/20\n",
        "                    #실제 별 개수는 백분위에서 20으로 나눈 것!\n",
        "        \n",
        "\n",
        "                    when = browser.find_element_by_xpath('//*[@id=\"container\"]/div[4]/div[2]/article[%d]/p[2]/span'%i)\n",
        "                    when = when.text[:7] #[:7]은 사실상 없어도 됨 !\n",
        "                    #언제 수강했는지\n",
        "        \n",
        "\n",
        "                    review = browser.find_element_by_xpath('//*[@id=\"container\"]/div[4]/div[2]/article[%d]/p[3]'%i)\n",
        "                    review = review.text\n",
        "                    #실제 강의평\n",
        "        \n",
        "                    starlist.append(realstar)\n",
        "                    whenlist.append(when)\n",
        "                    reviewlist.append(review)\n",
        "                    #리스트에 담기\n",
        "        \n",
        "                except: #리뷰 더이상 없으면 그만둬!!\n",
        "                    inside = False\n",
        "                    \n",
        "            one = pd.DataFrame({'별점':starlist,'수강시기':whenlist,'강의평':reviewlist})\n",
        "            one['학정번호'] = num\n",
        "            one['강의명'] = lec\n",
        "            one['교수명'] = prof\n",
        "            one['유의사항'] = care\n",
        "            full = pd.concat([full, one],ignore_index = True)\n",
        "            #time.sleep(1)\n",
        "            browser.close() #팝업창 닫기 - 해당 페이지의 크롤링이 다 끝나면 닫아주자.\n",
        "            browser.switch_to.window(browser.window_handles[0]) #원래 페이지로 돌아가기     \n",
        "            \n",
        "        except: #리뷰페이지 안으로 못들어온 경우\n",
        "            alert = browser.switch_to.alert\n",
        "            alert.accept()\n",
        "            #time.sleep(1)\n",
        "            #two = pd.Series([num, lec, prof, np.NaN, np.NaN, np.NaN])\n",
        "            #full = pd.concat([full,two], axis=0)\n",
        "    except:\n",
        "        break"
      ]
    },
    {
      "cell_type": "code",
      "execution_count": null,
      "metadata": {
        "scrolled": true,
        "id": "4A_qr-qClDFE",
        "outputId": "d4b4d981-b5b3-44bf-d0a4-96a3ba921354"
      },
      "outputs": [
        {
          "data": {
            "text/html": [
              "<div>\n",
              "<style scoped>\n",
              "    .dataframe tbody tr th:only-of-type {\n",
              "        vertical-align: middle;\n",
              "    }\n",
              "\n",
              "    .dataframe tbody tr th {\n",
              "        vertical-align: top;\n",
              "    }\n",
              "\n",
              "    .dataframe thead th {\n",
              "        text-align: right;\n",
              "    }\n",
              "</style>\n",
              "<table border=\"1\" class=\"dataframe\">\n",
              "  <thead>\n",
              "    <tr style=\"text-align: right;\">\n",
              "      <th></th>\n",
              "      <th>학정번호</th>\n",
              "      <th>강의명</th>\n",
              "      <th>교수명</th>\n",
              "      <th>유의사항</th>\n",
              "      <th>별점</th>\n",
              "      <th>수강시기</th>\n",
              "      <th>강의평</th>\n",
              "    </tr>\n",
              "  </thead>\n",
              "  <tbody>\n",
              "    <tr>\n",
              "      <th>0</th>\n",
              "      <td>STA2105-01-00</td>\n",
              "      <td>통계방법론</td>\n",
              "      <td>정종희</td>\n",
              "      <td>100%온라인:동영상-실시간혼합강의, 전공-교양간 교차인정 과목, 절대평가, 전공-...</td>\n",
              "      <td>5.0</td>\n",
              "      <td>21년 2학기</td>\n",
              "      <td>성적과는 별개로 교수님 수업 스타일이 너무 좋았습니다 과제 코멘트 하나하나 달아주시...</td>\n",
              "    </tr>\n",
              "    <tr>\n",
              "      <th>1</th>\n",
              "      <td>STA2105-01-00</td>\n",
              "      <td>통계방법론</td>\n",
              "      <td>정종희</td>\n",
              "      <td>100%온라인:동영상-실시간혼합강의, 전공-교양간 교차인정 과목, 절대평가, 전공-...</td>\n",
              "      <td>5.0</td>\n",
              "      <td>21년 2학기</td>\n",
              "      <td>에타 후기 안쓰는데 정종희 교수님은 그저 갓이라 후기 씁니다.\\n녹강도 재탕 안하시...</td>\n",
              "    </tr>\n",
              "    <tr>\n",
              "      <th>2</th>\n",
              "      <td>STA2105-01-00</td>\n",
              "      <td>통계방법론</td>\n",
              "      <td>정종희</td>\n",
              "      <td>100%온라인:동영상-실시간혼합강의, 전공-교양간 교차인정 과목, 절대평가, 전공-...</td>\n",
              "      <td>5.0</td>\n",
              "      <td>21년 2학기</td>\n",
              "      <td>강의력 좋으시고 자료도 깔끔합니다! 과제 및 시험에 코멘트를 달아주시는게 정말 좋았어요</td>\n",
              "    </tr>\n",
              "    <tr>\n",
              "      <th>3</th>\n",
              "      <td>STA2105-01-00</td>\n",
              "      <td>통계방법론</td>\n",
              "      <td>정종희</td>\n",
              "      <td>100%온라인:동영상-실시간혼합강의, 전공-교양간 교차인정 과목, 절대평가, 전공-...</td>\n",
              "      <td>5.0</td>\n",
              "      <td>21년 2학기</td>\n",
              "      <td>1. 좋은 강의력 + 좋은 자료 + 개인 과제/시험에 대한 교수님의 개인 코멘트까지...</td>\n",
              "    </tr>\n",
              "    <tr>\n",
              "      <th>4</th>\n",
              "      <td>STA2105-01-00</td>\n",
              "      <td>통계방법론</td>\n",
              "      <td>정종희</td>\n",
              "      <td>100%온라인:동영상-실시간혼합강의, 전공-교양간 교차인정 과목, 절대평가, 전공-...</td>\n",
              "      <td>5.0</td>\n",
              "      <td>21년 2학기</td>\n",
              "      <td>21-2학기고 논리와 수리 안 들으면 졸업 못해서 들은 사람입니다.. 저는 시험 2...</td>\n",
              "    </tr>\n",
              "    <tr>\n",
              "      <th>...</th>\n",
              "      <td>...</td>\n",
              "      <td>...</td>\n",
              "      <td>...</td>\n",
              "      <td>...</td>\n",
              "      <td>...</td>\n",
              "      <td>...</td>\n",
              "      <td>...</td>\n",
              "    </tr>\n",
              "    <tr>\n",
              "      <th>766</th>\n",
              "      <td>STA4111-01-00</td>\n",
              "      <td>보험통계</td>\n",
              "      <td>김현태</td>\n",
              "      <td>100%온라인:동영상-실시간혼합강의, 영어강의, 절대평가</td>\n",
              "      <td>2.0</td>\n",
              "      <td>19년 2학기</td>\n",
              "      <td>하 ㄹㅇ 회귀 현태 생각하고 들으면 ㄹㅇ 피똥싼다\\n이상한 수식 계속 나오고 다 외...</td>\n",
              "    </tr>\n",
              "    <tr>\n",
              "      <th>767</th>\n",
              "      <td>STA4115-01-00</td>\n",
              "      <td>이론통계학(1)</td>\n",
              "      <td>강승호</td>\n",
              "      <td>100%온라인:동영상-실시간혼합강의, 절대평가</td>\n",
              "      <td>5.0</td>\n",
              "      <td>21년 1학기</td>\n",
              "      <td>과목명에 비해 생각보다 쉽게 넘어가는 느낌이다. 수통1,2 복습을 한다는 것은 결국...</td>\n",
              "    </tr>\n",
              "    <tr>\n",
              "      <th>768</th>\n",
              "      <td>STA4115-01-00</td>\n",
              "      <td>이론통계학(1)</td>\n",
              "      <td>강승호</td>\n",
              "      <td>100%온라인:동영상-실시간혼합강의, 절대평가</td>\n",
              "      <td>5.0</td>\n",
              "      <td>21년 1학기</td>\n",
              "      <td>통계학에 대해서 아는 게 많으면 4000단위가 아니라 2000단위 난이도일 수 있고...</td>\n",
              "    </tr>\n",
              "    <tr>\n",
              "      <th>769</th>\n",
              "      <td>STA4115-01-00</td>\n",
              "      <td>이론통계학(1)</td>\n",
              "      <td>강승호</td>\n",
              "      <td>100%온라인:동영상-실시간혼합강의, 절대평가</td>\n",
              "      <td>5.0</td>\n",
              "      <td>21년 1학기</td>\n",
              "      <td>통계학을 한번 정리하고 싶은 분들께 강력 추천합니다.</td>\n",
              "    </tr>\n",
              "    <tr>\n",
              "      <th>770</th>\n",
              "      <td>STA4115-01-00</td>\n",
              "      <td>이론통계학(1)</td>\n",
              "      <td>강승호</td>\n",
              "      <td>100%온라인:동영상-실시간혼합강의, 절대평가</td>\n",
              "      <td>5.0</td>\n",
              "      <td>19년 1학기</td>\n",
              "      <td>18명들었는데 대부분 좋다고 할듯. 일단 우리의 허접한 수준을 잘 파악하셔서 친절하...</td>\n",
              "    </tr>\n",
              "  </tbody>\n",
              "</table>\n",
              "<p>771 rows × 7 columns</p>\n",
              "</div>"
            ],
            "text/plain": [
              "              학정번호       강의명  교수명  \\\n",
              "0    STA2105-01-00     통계방법론  정종희   \n",
              "1    STA2105-01-00     통계방법론  정종희   \n",
              "2    STA2105-01-00     통계방법론  정종희   \n",
              "3    STA2105-01-00     통계방법론  정종희   \n",
              "4    STA2105-01-00     통계방법론  정종희   \n",
              "..             ...       ...  ...   \n",
              "766  STA4111-01-00      보험통계  김현태   \n",
              "767  STA4115-01-00  이론통계학(1)  강승호   \n",
              "768  STA4115-01-00  이론통계학(1)  강승호   \n",
              "769  STA4115-01-00  이론통계학(1)  강승호   \n",
              "770  STA4115-01-00  이론통계학(1)  강승호   \n",
              "\n",
              "                                                  유의사항   별점     수강시기  \\\n",
              "0    100%온라인:동영상-실시간혼합강의, 전공-교양간 교차인정 과목, 절대평가, 전공-...  5.0  21년 2학기   \n",
              "1    100%온라인:동영상-실시간혼합강의, 전공-교양간 교차인정 과목, 절대평가, 전공-...  5.0  21년 2학기   \n",
              "2    100%온라인:동영상-실시간혼합강의, 전공-교양간 교차인정 과목, 절대평가, 전공-...  5.0  21년 2학기   \n",
              "3    100%온라인:동영상-실시간혼합강의, 전공-교양간 교차인정 과목, 절대평가, 전공-...  5.0  21년 2학기   \n",
              "4    100%온라인:동영상-실시간혼합강의, 전공-교양간 교차인정 과목, 절대평가, 전공-...  5.0  21년 2학기   \n",
              "..                                                 ...  ...      ...   \n",
              "766                    100%온라인:동영상-실시간혼합강의, 영어강의, 절대평가  2.0  19년 2학기   \n",
              "767                          100%온라인:동영상-실시간혼합강의, 절대평가  5.0  21년 1학기   \n",
              "768                          100%온라인:동영상-실시간혼합강의, 절대평가  5.0  21년 1학기   \n",
              "769                          100%온라인:동영상-실시간혼합강의, 절대평가  5.0  21년 1학기   \n",
              "770                          100%온라인:동영상-실시간혼합강의, 절대평가  5.0  19년 1학기   \n",
              "\n",
              "                                                   강의평  \n",
              "0    성적과는 별개로 교수님 수업 스타일이 너무 좋았습니다 과제 코멘트 하나하나 달아주시...  \n",
              "1    에타 후기 안쓰는데 정종희 교수님은 그저 갓이라 후기 씁니다.\\n녹강도 재탕 안하시...  \n",
              "2     강의력 좋으시고 자료도 깔끔합니다! 과제 및 시험에 코멘트를 달아주시는게 정말 좋았어요  \n",
              "3    1. 좋은 강의력 + 좋은 자료 + 개인 과제/시험에 대한 교수님의 개인 코멘트까지...  \n",
              "4    21-2학기고 논리와 수리 안 들으면 졸업 못해서 들은 사람입니다.. 저는 시험 2...  \n",
              "..                                                 ...  \n",
              "766  하 ㄹㅇ 회귀 현태 생각하고 들으면 ㄹㅇ 피똥싼다\\n이상한 수식 계속 나오고 다 외...  \n",
              "767  과목명에 비해 생각보다 쉽게 넘어가는 느낌이다. 수통1,2 복습을 한다는 것은 결국...  \n",
              "768  통계학에 대해서 아는 게 많으면 4000단위가 아니라 2000단위 난이도일 수 있고...  \n",
              "769                      통계학을 한번 정리하고 싶은 분들께 강력 추천합니다.  \n",
              "770  18명들었는데 대부분 좋다고 할듯. 일단 우리의 허접한 수준을 잘 파악하셔서 친절하...  \n",
              "\n",
              "[771 rows x 7 columns]"
            ]
          },
          "execution_count": 12,
          "metadata": {},
          "output_type": "execute_result"
        }
      ],
      "source": [
        "full"
      ]
    },
    {
      "cell_type": "code",
      "execution_count": null,
      "metadata": {
        "id": "2wbEWd4mlDFG",
        "outputId": "0117fa88-dcc9-4856-adf1-72e4d6c9ae3e"
      },
      "outputs": [
        {
          "data": {
            "text/html": [
              "<div>\n",
              "<style scoped>\n",
              "    .dataframe tbody tr th:only-of-type {\n",
              "        vertical-align: middle;\n",
              "    }\n",
              "\n",
              "    .dataframe tbody tr th {\n",
              "        vertical-align: top;\n",
              "    }\n",
              "\n",
              "    .dataframe thead th {\n",
              "        text-align: right;\n",
              "    }\n",
              "</style>\n",
              "<table border=\"1\" class=\"dataframe\">\n",
              "  <thead>\n",
              "    <tr style=\"text-align: right;\">\n",
              "      <th></th>\n",
              "      <th>학정번호</th>\n",
              "      <th>강의명</th>\n",
              "      <th>교수명</th>\n",
              "      <th>유의사항</th>\n",
              "      <th>별점</th>\n",
              "      <th>수강시기</th>\n",
              "      <th>강의평</th>\n",
              "    </tr>\n",
              "  </thead>\n",
              "  <tbody>\n",
              "    <tr>\n",
              "      <th>0</th>\n",
              "      <td>STA2105-01-00</td>\n",
              "      <td>통계방법론</td>\n",
              "      <td>정종희</td>\n",
              "      <td>100%온라인:동영상-실시간혼합강의, 전공-교양간 교차인정 과목, 절대평가, 전공-...</td>\n",
              "      <td>5.0</td>\n",
              "      <td>21년 2학기</td>\n",
              "      <td>성적과는 별개로 교수님 수업 스타일이 너무 좋았습니다 과제 코멘트 하나하나 달아주시...</td>\n",
              "    </tr>\n",
              "    <tr>\n",
              "      <th>1</th>\n",
              "      <td>STA2105-01-00</td>\n",
              "      <td>통계방법론</td>\n",
              "      <td>정종희</td>\n",
              "      <td>100%온라인:동영상-실시간혼합강의, 전공-교양간 교차인정 과목, 절대평가, 전공-...</td>\n",
              "      <td>5.0</td>\n",
              "      <td>21년 2학기</td>\n",
              "      <td>에타 후기 안쓰는데 정종희 교수님은 그저 갓이라 후기 씁니다.\\n녹강도 재탕 안하시...</td>\n",
              "    </tr>\n",
              "    <tr>\n",
              "      <th>2</th>\n",
              "      <td>STA2105-01-00</td>\n",
              "      <td>통계방법론</td>\n",
              "      <td>정종희</td>\n",
              "      <td>100%온라인:동영상-실시간혼합강의, 전공-교양간 교차인정 과목, 절대평가, 전공-...</td>\n",
              "      <td>5.0</td>\n",
              "      <td>21년 2학기</td>\n",
              "      <td>강의력 좋으시고 자료도 깔끔합니다! 과제 및 시험에 코멘트를 달아주시는게 정말 좋았어요</td>\n",
              "    </tr>\n",
              "    <tr>\n",
              "      <th>3</th>\n",
              "      <td>STA2105-01-00</td>\n",
              "      <td>통계방법론</td>\n",
              "      <td>정종희</td>\n",
              "      <td>100%온라인:동영상-실시간혼합강의, 전공-교양간 교차인정 과목, 절대평가, 전공-...</td>\n",
              "      <td>5.0</td>\n",
              "      <td>21년 2학기</td>\n",
              "      <td>1. 좋은 강의력 + 좋은 자료 + 개인 과제/시험에 대한 교수님의 개인 코멘트까지...</td>\n",
              "    </tr>\n",
              "    <tr>\n",
              "      <th>4</th>\n",
              "      <td>STA2105-01-00</td>\n",
              "      <td>통계방법론</td>\n",
              "      <td>정종희</td>\n",
              "      <td>100%온라인:동영상-실시간혼합강의, 전공-교양간 교차인정 과목, 절대평가, 전공-...</td>\n",
              "      <td>5.0</td>\n",
              "      <td>21년 2학기</td>\n",
              "      <td>21-2학기고 논리와 수리 안 들으면 졸업 못해서 들은 사람입니다.. 저는 시험 2...</td>\n",
              "    </tr>\n",
              "    <tr>\n",
              "      <th>...</th>\n",
              "      <td>...</td>\n",
              "      <td>...</td>\n",
              "      <td>...</td>\n",
              "      <td>...</td>\n",
              "      <td>...</td>\n",
              "      <td>...</td>\n",
              "      <td>...</td>\n",
              "    </tr>\n",
              "    <tr>\n",
              "      <th>629</th>\n",
              "      <td>STA4111-01-00</td>\n",
              "      <td>보험통계</td>\n",
              "      <td>김현태</td>\n",
              "      <td>100%온라인:동영상-실시간혼합강의, 영어강의, 절대평가</td>\n",
              "      <td>2.0</td>\n",
              "      <td>19년 2학기</td>\n",
              "      <td>하 ㄹㅇ 회귀 현태 생각하고 들으면 ㄹㅇ 피똥싼다\\n이상한 수식 계속 나오고 다 외...</td>\n",
              "    </tr>\n",
              "    <tr>\n",
              "      <th>630</th>\n",
              "      <td>STA4115-01-00</td>\n",
              "      <td>이론통계학(1)</td>\n",
              "      <td>강승호</td>\n",
              "      <td>100%온라인:동영상-실시간혼합강의, 절대평가</td>\n",
              "      <td>5.0</td>\n",
              "      <td>21년 1학기</td>\n",
              "      <td>과목명에 비해 생각보다 쉽게 넘어가는 느낌이다. 수통1,2 복습을 한다는 것은 결국...</td>\n",
              "    </tr>\n",
              "    <tr>\n",
              "      <th>631</th>\n",
              "      <td>STA4115-01-00</td>\n",
              "      <td>이론통계학(1)</td>\n",
              "      <td>강승호</td>\n",
              "      <td>100%온라인:동영상-실시간혼합강의, 절대평가</td>\n",
              "      <td>5.0</td>\n",
              "      <td>21년 1학기</td>\n",
              "      <td>통계학에 대해서 아는 게 많으면 4000단위가 아니라 2000단위 난이도일 수 있고...</td>\n",
              "    </tr>\n",
              "    <tr>\n",
              "      <th>632</th>\n",
              "      <td>STA4115-01-00</td>\n",
              "      <td>이론통계학(1)</td>\n",
              "      <td>강승호</td>\n",
              "      <td>100%온라인:동영상-실시간혼합강의, 절대평가</td>\n",
              "      <td>5.0</td>\n",
              "      <td>21년 1학기</td>\n",
              "      <td>통계학을 한번 정리하고 싶은 분들께 강력 추천합니다.</td>\n",
              "    </tr>\n",
              "    <tr>\n",
              "      <th>633</th>\n",
              "      <td>STA4115-01-00</td>\n",
              "      <td>이론통계학(1)</td>\n",
              "      <td>강승호</td>\n",
              "      <td>100%온라인:동영상-실시간혼합강의, 절대평가</td>\n",
              "      <td>5.0</td>\n",
              "      <td>19년 1학기</td>\n",
              "      <td>18명들었는데 대부분 좋다고 할듯. 일단 우리의 허접한 수준을 잘 파악하셔서 친절하...</td>\n",
              "    </tr>\n",
              "  </tbody>\n",
              "</table>\n",
              "<p>634 rows × 7 columns</p>\n",
              "</div>"
            ],
            "text/plain": [
              "              학정번호       강의명  교수명  \\\n",
              "0    STA2105-01-00     통계방법론  정종희   \n",
              "1    STA2105-01-00     통계방법론  정종희   \n",
              "2    STA2105-01-00     통계방법론  정종희   \n",
              "3    STA2105-01-00     통계방법론  정종희   \n",
              "4    STA2105-01-00     통계방법론  정종희   \n",
              "..             ...       ...  ...   \n",
              "629  STA4111-01-00      보험통계  김현태   \n",
              "630  STA4115-01-00  이론통계학(1)  강승호   \n",
              "631  STA4115-01-00  이론통계학(1)  강승호   \n",
              "632  STA4115-01-00  이론통계학(1)  강승호   \n",
              "633  STA4115-01-00  이론통계학(1)  강승호   \n",
              "\n",
              "                                                  유의사항   별점     수강시기  \\\n",
              "0    100%온라인:동영상-실시간혼합강의, 전공-교양간 교차인정 과목, 절대평가, 전공-...  5.0  21년 2학기   \n",
              "1    100%온라인:동영상-실시간혼합강의, 전공-교양간 교차인정 과목, 절대평가, 전공-...  5.0  21년 2학기   \n",
              "2    100%온라인:동영상-실시간혼합강의, 전공-교양간 교차인정 과목, 절대평가, 전공-...  5.0  21년 2학기   \n",
              "3    100%온라인:동영상-실시간혼합강의, 전공-교양간 교차인정 과목, 절대평가, 전공-...  5.0  21년 2학기   \n",
              "4    100%온라인:동영상-실시간혼합강의, 전공-교양간 교차인정 과목, 절대평가, 전공-...  5.0  21년 2학기   \n",
              "..                                                 ...  ...      ...   \n",
              "629                    100%온라인:동영상-실시간혼합강의, 영어강의, 절대평가  2.0  19년 2학기   \n",
              "630                          100%온라인:동영상-실시간혼합강의, 절대평가  5.0  21년 1학기   \n",
              "631                          100%온라인:동영상-실시간혼합강의, 절대평가  5.0  21년 1학기   \n",
              "632                          100%온라인:동영상-실시간혼합강의, 절대평가  5.0  21년 1학기   \n",
              "633                          100%온라인:동영상-실시간혼합강의, 절대평가  5.0  19년 1학기   \n",
              "\n",
              "                                                   강의평  \n",
              "0    성적과는 별개로 교수님 수업 스타일이 너무 좋았습니다 과제 코멘트 하나하나 달아주시...  \n",
              "1    에타 후기 안쓰는데 정종희 교수님은 그저 갓이라 후기 씁니다.\\n녹강도 재탕 안하시...  \n",
              "2     강의력 좋으시고 자료도 깔끔합니다! 과제 및 시험에 코멘트를 달아주시는게 정말 좋았어요  \n",
              "3    1. 좋은 강의력 + 좋은 자료 + 개인 과제/시험에 대한 교수님의 개인 코멘트까지...  \n",
              "4    21-2학기고 논리와 수리 안 들으면 졸업 못해서 들은 사람입니다.. 저는 시험 2...  \n",
              "..                                                 ...  \n",
              "629  하 ㄹㅇ 회귀 현태 생각하고 들으면 ㄹㅇ 피똥싼다\\n이상한 수식 계속 나오고 다 외...  \n",
              "630  과목명에 비해 생각보다 쉽게 넘어가는 느낌이다. 수통1,2 복습을 한다는 것은 결국...  \n",
              "631  통계학에 대해서 아는 게 많으면 4000단위가 아니라 2000단위 난이도일 수 있고...  \n",
              "632                      통계학을 한번 정리하고 싶은 분들께 강력 추천합니다.  \n",
              "633  18명들었는데 대부분 좋다고 할듯. 일단 우리의 허접한 수준을 잘 파악하셔서 친절하...  \n",
              "\n",
              "[634 rows x 7 columns]"
            ]
          },
          "execution_count": 13,
          "metadata": {},
          "output_type": "execute_result"
        }
      ],
      "source": [
        "final = full.drop_duplicates(subset=['강의명', '교수명', '별점', '수강시기','강의평'], keep='first', inplace=False, ignore_index=True)\n",
        "#다른 시간 수업이면 학정번호가 다르기 때문에 학정번호는 제외하고 겹치는 강의평들은 모두 제외\n",
        "#같은 교수님 같은 강의가 여러 시간대에 존재할 수도 있기 때문\n",
        "\n",
        "final"
      ]
    },
    {
      "cell_type": "code",
      "execution_count": null,
      "metadata": {
        "id": "okIogWUilDFH"
      },
      "outputs": [],
      "source": [
        "browser.quit()"
      ]
    },
    {
      "cell_type": "code",
      "execution_count": null,
      "metadata": {
        "id": "YZ-0jIlUlDFH"
      },
      "outputs": [],
      "source": [
        "final.to_csv('STA_2022_1.csv',encoding='utf-8-sig', index=False) #응용통계라서 sta_2022_1로 저장 (학정번호 앞자리)"
      ]
    }
  ],
  "metadata": {
    "kernelspec": {
      "display_name": "Python 3",
      "language": "python",
      "name": "python3"
    },
    "language_info": {
      "codemirror_mode": {
        "name": "ipython",
        "version": 3
      },
      "file_extension": ".py",
      "mimetype": "text/x-python",
      "name": "python",
      "nbconvert_exporter": "python",
      "pygments_lexer": "ipython3",
      "version": "3.8.3"
    },
    "colab": {
      "name": "crawling_review.ipynb",
      "provenance": []
    }
  },
  "nbformat": 4,
  "nbformat_minor": 0
}